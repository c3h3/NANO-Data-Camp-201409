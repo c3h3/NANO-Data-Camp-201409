{
 "metadata": {
  "name": "",
  "signature": "sha256:14e51de4ef01f05f037012b9ab2bff1d4beeb89206a31cb0cce88e98076af3db"
 },
 "nbformat": 3,
 "nbformat_minor": 0,
 "worksheets": [
  {
   "cells": [
    {
     "cell_type": "markdown",
     "metadata": {},
     "source": [
      "# Large Scale Mining Strategies & Tools"
     ]
    },
    {
     "cell_type": "markdown",
     "metadata": {},
     "source": [
      "<font size=4 color=\"white\">\n",
      "Large scale!? How large?\n",
      "</font>\n",
      "<br>\n",
      "<br>\n",
      "We will use the data in this \n",
      "<a href=http://www.kaggle.com/c/criteo-display-ad-challenge>\n",
      "kaggle\n",
      "</a>\n",
      "competetion. <br>\n",
      "Before we move on, let's take a peek on the data."
     ]
    },
    {
     "cell_type": "code",
     "collapsed": false,
     "input": [
      "import blz\n",
      "\n",
      "Id_test = blz.open(\"/Users/DboyLiao/Desktop/DisplayAdvertisingChallenge/data/test_blzs/Id\")\n",
      "Id_train = blz.open(\"/Users/DboyLiao/Desktop/DisplayAdvertisingChallenge/data/train_blzs/Id\")"
     ],
     "language": "python",
     "metadata": {},
     "outputs": [],
     "prompt_number": 3
    },
    {
     "cell_type": "code",
     "collapsed": false,
     "input": [
      "print \"Train set size:\", len(Id_train)\n",
      "print \"Test set size:\", len(Id_test)"
     ],
     "language": "python",
     "metadata": {},
     "outputs": [
      {
       "output_type": "stream",
       "stream": "stdout",
       "text": [
        "Train set size: 45840617\n",
        "Test set size: 6042135\n"
       ]
      }
     ],
     "prompt_number": 7
    },
    {
     "cell_type": "markdown",
     "metadata": {},
     "source": [
      "<font face=\"verdana\">\n",
      "Here comes one important question: <font color=\"red\">What will you do?</font>\n",
      "</font>"
     ]
    },
    {
     "cell_type": "markdown",
     "metadata": {},
     "source": []
    },
    {
     "cell_type": "markdown",
     "metadata": {},
     "source": []
    },
    {
     "cell_type": "markdown",
     "metadata": {},
     "source": []
    },
    {
     "cell_type": "markdown",
     "metadata": {},
     "source": []
    },
    {
     "cell_type": "markdown",
     "metadata": {},
     "source": [
      "# Parallel Programming Tools"
     ]
    },
    {
     "cell_type": "markdown",
     "metadata": {},
     "source": []
    },
    {
     "cell_type": "markdown",
     "metadata": {},
     "source": []
    },
    {
     "cell_type": "markdown",
     "metadata": {},
     "source": []
    },
    {
     "cell_type": "markdown",
     "metadata": {},
     "source": []
    },
    {
     "cell_type": "markdown",
     "metadata": {},
     "source": []
    },
    {
     "cell_type": "markdown",
     "metadata": {},
     "source": []
    },
    {
     "cell_type": "markdown",
     "metadata": {},
     "source": []
    },
    {
     "cell_type": "markdown",
     "metadata": {},
     "source": []
    },
    {
     "cell_type": "markdown",
     "metadata": {},
     "source": []
    },
    {
     "cell_type": "markdown",
     "metadata": {},
     "source": []
    },
    {
     "cell_type": "markdown",
     "metadata": {},
     "source": []
    },
    {
     "cell_type": "markdown",
     "metadata": {},
     "source": []
    },
    {
     "cell_type": "markdown",
     "metadata": {},
     "source": []
    }
   ],
   "metadata": {}
  }
 ]
}