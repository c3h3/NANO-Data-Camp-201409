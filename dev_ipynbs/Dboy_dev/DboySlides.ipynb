{
 "metadata": {
  "celltoolbar": "Slideshow",
  "name": "",
  "signature": "sha256:d070520430e997e4f1c19de3491f147d1e702e107f6aad8e449847fd64795563"
 },
 "nbformat": 3,
 "nbformat_minor": 0,
 "worksheets": [
  {
   "cells": [
    {
     "cell_type": "markdown",
     "metadata": {
      "slideshow": {
       "slide_type": "slide"
      }
     },
     "source": [
      "<font size=\"12\">\n",
      "Large Scale Mining Strategies & Tools\n",
      "</font>"
     ]
    },
    {
     "cell_type": "markdown",
     "metadata": {
      "slideshow": {
       "slide_type": "subslide"
      }
     },
     "source": [
      "<font size=8>\n",
      "Large scale!? How large?\n",
      "</font>\n",
      "<br>\n",
      "<br>\n",
      "<font size = \"6\" color=#B98435>\n",
      "We will use the data in this <a href=http://www.kaggle.com/c/criteo-display-ad-challenge>kaggle</a> competetion. <br>\n",
      "  <br>\n",
      "Before we move on, let's take a peek on the data.\n",
      "</font>"
     ]
    },
    {
     "cell_type": "code",
     "collapsed": false,
     "input": [
      "import blz\n",
      "import numpy as np\n",
      "\n",
      "%time Id_test = blz.open(\"/Users/DboyLiao/Desktop/DisplayAdvertisingChallenge/data/test_blzs/Id\")\n",
      "%time Id_train = blz.open(\"/Users/DboyLiao/Desktop/DisplayAdvertisingChallenge/data/train_blzs/Id\")"
     ],
     "language": "python",
     "metadata": {
      "slideshow": {
       "slide_type": "fragment"
      }
     },
     "outputs": [
      {
       "output_type": "stream",
       "stream": "stdout",
       "text": [
        "CPU times: user 656 \u00b5s, sys: 756 \u00b5s, total: 1.41 ms\n",
        "Wall time: 843 \u00b5s\n",
        "CPU times: user 626 \u00b5s, sys: 443 \u00b5s, total: 1.07 ms\n",
        "Wall time: 853 \u00b5s\n"
       ]
      }
     ],
     "prompt_number": 30
    },
    {
     "cell_type": "code",
     "collapsed": false,
     "input": [
      "print \"Train set size:\", len(Id_train)\n",
      "print \"Test set size:\", len(Id_test)"
     ],
     "language": "python",
     "metadata": {
      "slideshow": {
       "slide_type": "fragment"
      }
     },
     "outputs": [
      {
       "output_type": "stream",
       "stream": "stdout",
       "text": [
        "Train set size: 45840617\n",
        "Test set size: 6042135\n"
       ]
      }
     ],
     "prompt_number": 13
    },
    {
     "cell_type": "markdown",
     "metadata": {
      "slideshow": {
       "slide_type": "subslide"
      }
     },
     "source": [
      "<font size=\"12\">\n",
      "Large Scale Mining Strategies & Tools\n",
      "</font>"
     ]
    },
    {
     "cell_type": "markdown",
     "metadata": {
      "slideshow": {
       "slide_type": "fragment"
      }
     },
     "source": [
      "  <br>\n",
      "<font size=6 color=#B98435>\n",
      "Ok...I know the data sets are <strong><font color=\"red\">LARGE.</font></strong><br>\n",
      "  <br>\n",
      "What's wrong with that?\n",
      "</font>"
     ]
    },
    {
     "cell_type": "markdown",
     "metadata": {
      "slideshow": {
       "slide_type": "fragment"
      }
     },
     "source": [
      "- <font size=\"6\">Space?</font>"
     ]
    },
    {
     "cell_type": "markdown",
     "metadata": {
      "slideshow": {
       "slide_type": "fragment"
      }
     },
     "source": [
      "- <font size=\"6\">Time?</font>"
     ]
    },
    {
     "cell_type": "markdown",
     "metadata": {
      "slideshow": {
       "slide_type": "fragment"
      }
     },
     "source": [
      "- <font size=\"6\">Anything else?</font>"
     ]
    },
    {
     "cell_type": "markdown",
     "metadata": {
      "slideshow": {
       "slide_type": "subslide"
      }
     },
     "source": [
      "<font face=\"verdana\" size=\"6\">\n",
      "Here comes one important question: <br>\n",
      " <br>\n",
      "</font>"
     ]
    },
    {
     "cell_type": "markdown",
     "metadata": {
      "slideshow": {
       "slide_type": "fragment"
      }
     },
     "source": [
      "<font face=\"verdana\" size=6>\n",
      "<font color=\"red\">What will you do?</font>\n",
      "</font>"
     ]
    },
    {
     "cell_type": "markdown",
     "metadata": {
      "slideshow": {
       "slide_type": "fragment"
      }
     },
     "source": [
      "<font size=\"6\">\n",
      "Or.....What can you do?\n",
      "</font>"
     ]
    },
    {
     "cell_type": "markdown",
     "metadata": {
      "slideshow": {
       "slide_type": "slide"
      }
     },
     "source": [
      "<font size=\"12\">\n",
      "Useful Tools\n",
      "</font>"
     ]
    },
    {
     "cell_type": "markdown",
     "metadata": {
      "slideshow": {
       "slide_type": "fragment"
      }
     },
     "source": [
      "# What I Will Demo Today. (blz and celery)"
     ]
    },
    {
     "cell_type": "markdown",
     "metadata": {
      "slideshow": {
       "slide_type": "fragment"
      }
     },
     "source": [
      "- <font size=\"6\"><font color=\"green\">barray</font> in <font color=#4630C4 >blz</font> package.</font>"
     ]
    },
    {
     "cell_type": "markdown",
     "metadata": {
      "slideshow": {
       "slide_type": "fragment"
      }
     },
     "source": [
      "- <font size=\"6\"><font color=\"green\">btable</font> in <font color=#4630C4 >blz</font> package.</font>"
     ]
    },
    {
     "cell_type": "markdown",
     "metadata": {
      "slideshow": {
       "slide_type": "fragment"
      }
     },
     "source": [
      "- <font size=\"6\">How to deploy <font color=\"red\">celery</font> on your computer.</font>"
     ]
    },
    {
     "cell_type": "markdown",
     "metadata": {
      "slideshow": {
       "slide_type": "subslide"
      }
     },
     "source": [
      "# BLZ: barray\n",
      "<br>\n",
      "<font size=\"6\">\n",
      "<a href=http://blz.pydata.org/blz-manual/>The Manual</a>\n",
      "</font>"
     ]
    },
    {
     "cell_type": "markdown",
     "metadata": {
      "slideshow": {
       "slide_type": "fragment"
      }
     },
     "source": [
      "<font size=\"6\">\n",
      "Ok....I see no one want to read THAT.\n",
      "</font>\n",
      "<br>\n",
      "<br>\n",
      "<font color=#B98435 size=\"6\">\n",
      "Let's take a look of few examples!\n",
      "</font>"
     ]
    },
    {
     "cell_type": "markdown",
     "metadata": {
      "slideshow": {
       "slide_type": "subslide"
      }
     },
     "source": [
      "<font color=#30C469 size=\"6\">\n",
      "Example 1: build a barray!\n",
      "</font>"
     ]
    },
    {
     "cell_type": "code",
     "collapsed": false,
     "input": [
      "my_array = blz.barray([i for i in xrange(1000000)])"
     ],
     "language": "python",
     "metadata": {
      "slideshow": {
       "slide_type": "fragment"
      }
     },
     "outputs": [],
     "prompt_number": 98
    },
    {
     "cell_type": "code",
     "collapsed": false,
     "input": [
      "my_array"
     ],
     "language": "python",
     "metadata": {
      "slideshow": {
       "slide_type": "fragment"
      }
     },
     "outputs": [
      {
       "metadata": {},
       "output_type": "pyout",
       "prompt_number": 99,
       "text": [
        "barray((1000000,), int64)\n",
        "  nbytes: 7.63 MB; cbytes: 172.30 KB; ratio: 45.34\n",
        "  bparams := bparams(clevel=5, shuffle=True, cname=blosclz)\n",
        "[     0      1      2 ..., 999997 999998 999999]"
       ]
      }
     ],
     "prompt_number": 99
    },
    {
     "cell_type": "markdown",
     "metadata": {
      "slideshow": {
       "slide_type": "fragment"
      }
     },
     "source": [
      "<font face=\"verdana\" size=\"6\" color=#B98435>\n",
      "As you can see here, the ratio is really high, <br>\n",
      "  <br>\n",
      "which makes barray be really good at handling BIG data.\n",
      "</font>"
     ]
    },
    {
     "cell_type": "markdown",
     "metadata": {
      "slideshow": {
       "slide_type": "subslide"
      }
     },
     "source": [
      "<font size=\"6\">\n",
      "Here we can see that a barray has following attributes:\n",
      "</font>"
     ]
    },
    {
     "cell_type": "markdown",
     "metadata": {
      "slideshow": {
       "slide_type": "fragment"
      }
     },
     "source": [
      "- <font size=\"6\">nbytes: The original (uncompressed) size of this object (in bytes).</font>"
     ]
    },
    {
     "cell_type": "markdown",
     "metadata": {
      "slideshow": {
       "slide_type": "fragment"
      }
     },
     "source": [
      "- <font size=\"6\">cbytes: The compressed size of this object (in bytes).</font>"
     ]
    },
    {
     "cell_type": "markdown",
     "metadata": {
      "slideshow": {
       "slide_type": "fragment"
      }
     },
     "source": [
      "- <font size=\"6\">dtype: The NumPy dtype for this object.</font>"
     ]
    },
    {
     "cell_type": "markdown",
     "metadata": {
      "slideshow": {
       "slide_type": "fragment"
      }
     },
     "source": [
      "- <font size=\"6\">many others....</font>"
     ]
    },
    {
     "cell_type": "code",
     "collapsed": false,
     "input": [
      "my_array.nbytes"
     ],
     "language": "python",
     "metadata": {
      "slideshow": {
       "slide_type": "fragment"
      }
     },
     "outputs": [
      {
       "metadata": {},
       "output_type": "pyout",
       "prompt_number": 100,
       "text": [
        "8000000"
       ]
      }
     ],
     "prompt_number": 100
    },
    {
     "cell_type": "code",
     "collapsed": false,
     "input": [
      "my_array.cbytes"
     ],
     "language": "python",
     "metadata": {
      "slideshow": {
       "slide_type": "fragment"
      }
     },
     "outputs": [
      {
       "metadata": {},
       "output_type": "pyout",
       "prompt_number": 101,
       "text": [
        "176434"
       ]
      }
     ],
     "prompt_number": 101
    },
    {
     "cell_type": "code",
     "collapsed": false,
     "input": [
      "my_array.dtype"
     ],
     "language": "python",
     "metadata": {
      "slideshow": {
       "slide_type": "fragment"
      }
     },
     "outputs": [
      {
       "metadata": {},
       "output_type": "pyout",
       "prompt_number": 102,
       "text": [
        "dtype('int64')"
       ]
      }
     ],
     "prompt_number": 102
    },
    {
     "cell_type": "code",
     "collapsed": false,
     "input": [
      "print my_array.__doc__"
     ],
     "language": "python",
     "metadata": {
      "slideshow": {
       "slide_type": "subslide"
      }
     },
     "outputs": [
      {
       "output_type": "stream",
       "stream": "stdout",
       "text": [
        "\n",
        "  barray(array, bparams=None, dtype=None, dflt=None, expectedlen=None, chunklen=None, rootdir=None, mode='a')\n",
        "\n",
        "  A compressed and enlargeable in-memory data container.\n",
        "\n",
        "  `barray` exposes a series of methods for dealing with the compressed\n",
        "  container in a NumPy-like way.\n",
        "\n",
        "  Parameters\n",
        "  ----------\n",
        "  array : a NumPy-like object\n",
        "      This is taken as the input to create the barray.  It can be any Python\n",
        "      object that can be converted into a NumPy object.  The data type of\n",
        "      the resulting barray will be the same as this NumPy object.\n",
        "  bparams : instance of the `bparams` class, optional\n",
        "      Parameters to the internal Blosc compressor.\n",
        "  dtype : NumPy dtype\n",
        "      Force this `dtype` for the barray (rather than the `array` one).\n",
        "  dflt : Python or NumPy scalar\n",
        "      The value to be used when enlarging the barray.  If None, the default is\n",
        "      filling with zeros.\n",
        "  expectedlen : int, optional\n",
        "      A guess on the expected length of this object.  This will serve to\n",
        "      decide the best `chunklen` used for compression and memory I/O\n",
        "      purposes.\n",
        "  chunklen : int, optional\n",
        "      The number of items that fits into a chunk.  By specifying it you can\n",
        "      explicitely set the chunk size used for compression and memory I/O.\n",
        "      Only use it if you know what are you doing.\n",
        "  rootdir : str, optional\n",
        "      The directory where all the data and metadata will be stored.  If\n",
        "      specified, then the barray object will be disk-based (i.e. all chunks\n",
        "      will live on-disk, not in memory) and persistent (i.e. it can be\n",
        "      restored in other session, e.g. via the `open()` top-level function).\n",
        "  mode : str, optional\n",
        "      The mode that a *persistent* barray should be created/opened.  The\n",
        "      values can be:\n",
        "\n",
        "        * 'r' for read-only\n",
        "        * 'w' for read/write.  During barray creation, the `rootdir` will be\n",
        "          removed if it exists.  During barray opening, the barray will be\n",
        "          resized to 0.\n",
        "        * 'a' for append (possible data inside `rootdir` will not be removed).\n",
        "\n",
        "  \n"
       ]
      }
     ],
     "prompt_number": 103
    },
    {
     "cell_type": "markdown",
     "metadata": {
      "slideshow": {
       "slide_type": "subslide"
      }
     },
     "source": [
      "<font size=\"6\" color=#3066C4>\n",
      "You may wonder how it can do this. <br>\n",
      "  <br>\n",
      "Well....you can refer to this <a href=http://continuum.io/blog/blz-format>document</a>.\n",
      "</font>\n",
      "  <br>"
     ]
    },
    {
     "cell_type": "markdown",
     "metadata": {
      "slideshow": {
       "slide_type": "subslide"
      }
     },
     "source": [
      "<font color=#30C469 size=\"6\">\n",
      "Example 2: Convert a barray into numpy ndarray!\n",
      "</font>"
     ]
    },
    {
     "cell_type": "code",
     "collapsed": false,
     "input": [
      "my_array_freg = my_array[369:10000]\n",
      "my_array_freg"
     ],
     "language": "python",
     "metadata": {
      "slideshow": {
       "slide_type": "fragment"
      }
     },
     "outputs": [
      {
       "metadata": {},
       "output_type": "pyout",
       "prompt_number": 104,
       "text": [
        "array([ 369,  370,  371, ..., 9997, 9998, 9999])"
       ]
      }
     ],
     "prompt_number": 104
    },
    {
     "cell_type": "code",
     "collapsed": false,
     "input": [
      "type(my_array_freg)"
     ],
     "language": "python",
     "metadata": {
      "slideshow": {
       "slide_type": "fragment"
      }
     },
     "outputs": [
      {
       "metadata": {},
       "output_type": "pyout",
       "prompt_number": 105,
       "text": [
        "numpy.ndarray"
       ]
      }
     ],
     "prompt_number": 105
    },
    {
     "cell_type": "code",
     "collapsed": false,
     "input": [
      "my_array.dtype"
     ],
     "language": "python",
     "metadata": {
      "slideshow": {
       "slide_type": "fragment"
      }
     },
     "outputs": [
      {
       "metadata": {},
       "output_type": "pyout",
       "prompt_number": 106,
       "text": [
        "dtype('int64')"
       ]
      }
     ],
     "prompt_number": 106
    },
    {
     "cell_type": "markdown",
     "metadata": {
      "slideshow": {
       "slide_type": "slide"
      }
     },
     "source": [
      "# BLZ: btable"
     ]
    },
    {
     "cell_type": "markdown",
     "metadata": {
      "slideshow": {
       "slide_type": "subslide"
      }
     },
     "source": [
      "<font color=#30C469 size=\"6\">\n",
      "Example 1: build a btable!\n",
      "</font>\n",
      "<br>"
     ]
    },
    {
     "cell_type": "code",
     "collapsed": false,
     "input": [
      "import numpy as np\n",
      "import random\n",
      "Id = np.array([ind + 1 for ind in range(30)])\n",
      "Math = np.array([100*random.random() for ind in range(30)])"
     ],
     "language": "python",
     "metadata": {
      "slideshow": {
       "slide_type": "fragment"
      }
     },
     "outputs": [],
     "prompt_number": 107
    },
    {
     "cell_type": "code",
     "collapsed": false,
     "input": [
      "columns = [Id, Math]\n",
      "names = [\"Id\", \"Math\"]\n",
      "score_table = blz.btable(columns = columns, names = names)"
     ],
     "language": "python",
     "metadata": {
      "slideshow": {
       "slide_type": "fragment"
      }
     },
     "outputs": [],
     "prompt_number": 108
    },
    {
     "cell_type": "code",
     "collapsed": false,
     "input": [
      "score_table"
     ],
     "language": "python",
     "metadata": {
      "slideshow": {
       "slide_type": "fragment"
      }
     },
     "outputs": [
      {
       "metadata": {},
       "output_type": "pyout",
       "prompt_number": 109,
       "text": [
        "btable((30,), [('Id', '<i8'), ('Math', '<f8')])\n",
        "  nbytes: 480; cbytes: 16.00 KB; ratio: 0.03\n",
        "  bparams := bparams(clevel=5, shuffle=True, cname=blosclz)\n",
        "[(1, 14.775735379325916) (2, 57.56910997382495) (3, 96.93190100431353)\n",
        " (4, 39.0860436155818) (5, 15.18546780957395) (6, 1.9016863960232389)\n",
        " (7, 93.90933460570386) (8, 93.72904818176943) (9, 9.565110665518384)\n",
        " (10, 75.37464409348594) (11, 20.9456352689398) (12, 14.913510216967317)\n",
        " (13, 26.062385117940735) (14, 22.90749192504309) (15, 89.91357952391664)\n",
        " (16, 7.85920088398152) (17, 69.76920555864355) (18, 28.51232054983318)\n",
        " (19, 14.670788218408159) (20, 59.43181280996309) (21, 49.50602070251675)\n",
        " (22, 80.52813515339655) (23, 43.84299975409686) (24, 18.7658417266806)\n",
        " (25, 33.30131298828366) (26, 30.989657979177444) (27, 5.223225208452376)\n",
        " (28, 4.932491948704476) (29, 29.504266896863395) (30, 58.67009987885725)]"
       ]
      }
     ],
     "prompt_number": 109
    },
    {
     "cell_type": "code",
     "collapsed": false,
     "input": [
      "score_table[1:5]"
     ],
     "language": "python",
     "metadata": {
      "slideshow": {
       "slide_type": "subslide"
      }
     },
     "outputs": [
      {
       "metadata": {},
       "output_type": "pyout",
       "prompt_number": 110,
       "text": [
        "array([(2, 57.56910997382495), (3, 96.93190100431353),\n",
        "       (4, 39.0860436155818), (5, 15.18546780957395)], \n",
        "      dtype=[('Id', '<i8'), ('Math', '<f8')])"
       ]
      }
     ],
     "prompt_number": 110
    },
    {
     "cell_type": "code",
     "collapsed": false,
     "input": [
      "score_table[\"Id\"][:]"
     ],
     "language": "python",
     "metadata": {
      "slideshow": {
       "slide_type": "fragment"
      }
     },
     "outputs": [
      {
       "metadata": {},
       "output_type": "pyout",
       "prompt_number": 111,
       "text": [
        "array([ 1,  2,  3,  4,  5,  6,  7,  8,  9, 10, 11, 12, 13, 14, 15, 16, 17,\n",
        "       18, 19, 20, 21, 22, 23, 24, 25, 26, 27, 28, 29, 30])"
       ]
      }
     ],
     "prompt_number": 111
    },
    {
     "cell_type": "code",
     "collapsed": false,
     "input": [
      "score_table[\"Math\"][:]"
     ],
     "language": "python",
     "metadata": {
      "slideshow": {
       "slide_type": "fragment"
      }
     },
     "outputs": [
      {
       "metadata": {},
       "output_type": "pyout",
       "prompt_number": 112,
       "text": [
        "array([ 14.77573538,  57.56910997,  96.931901  ,  39.08604362,\n",
        "        15.18546781,   1.9016864 ,  93.90933461,  93.72904818,\n",
        "         9.56511067,  75.37464409,  20.94563527,  14.91351022,\n",
        "        26.06238512,  22.90749193,  89.91357952,   7.85920088,\n",
        "        69.76920556,  28.51232055,  14.67078822,  59.43181281,\n",
        "        49.5060207 ,  80.52813515,  43.84299975,  18.76584173,\n",
        "        33.30131299,  30.98965798,   5.22322521,   4.93249195,\n",
        "        29.5042669 ,  58.67009988])"
       ]
      }
     ],
     "prompt_number": 112
    },
    {
     "cell_type": "markdown",
     "metadata": {
      "slideshow": {
       "slide_type": "subslide"
      }
     },
     "source": [
      "<font size=\"6\" color=#3066C4>\n",
      "Fancy Indexing\n",
      "</font>"
     ]
    },
    {
     "cell_type": "code",
     "collapsed": false,
     "input": [
      "score_table[[1, 10, 2]]"
     ],
     "language": "python",
     "metadata": {
      "slideshow": {
       "slide_type": "fragment"
      }
     },
     "outputs": [
      {
       "metadata": {},
       "output_type": "pyout",
       "prompt_number": 113,
       "text": [
        "array([(2, 57.56910997382495), (11, 20.9456352689398),\n",
        "       (3, 96.93190100431353)], \n",
        "      dtype=[('Id', '<i8'), ('Math', '<f8')])"
       ]
      }
     ],
     "prompt_number": 113
    },
    {
     "cell_type": "code",
     "collapsed": false,
     "input": [
      "score_table[\"(Id > 10) & (Math >=70)\"]"
     ],
     "language": "python",
     "metadata": {
      "slideshow": {
       "slide_type": "fragment"
      }
     },
     "outputs": [
      {
       "metadata": {},
       "output_type": "pyout",
       "prompt_number": 114,
       "text": [
        "array([(15, 89.91357952391664), (22, 80.52813515339655)], \n",
        "      dtype=[('Id', '<i8'), ('Math', '<f8')])"
       ]
      }
     ],
     "prompt_number": 114
    },
    {
     "cell_type": "markdown",
     "metadata": {
      "slideshow": {
       "slide_type": "subslide"
      }
     },
     "source": [
      "<font size=\"6\" color=#3066C4>\n",
      "Add and Delete Column\n",
      "</font>"
     ]
    },
    {
     "cell_type": "code",
     "collapsed": false,
     "input": [
      "Eng = np.array([40 * random.random() + 60 for ind in range(30)])"
     ],
     "language": "python",
     "metadata": {
      "slideshow": {
       "slide_type": "fragment"
      }
     },
     "outputs": [],
     "prompt_number": 121
    },
    {
     "cell_type": "code",
     "collapsed": false,
     "input": [
      "score_table.addcol(Eng, name=\"Eng\")"
     ],
     "language": "python",
     "metadata": {
      "slideshow": {
       "slide_type": "fragment"
      }
     },
     "outputs": [],
     "prompt_number": 125
    },
    {
     "cell_type": "code",
     "collapsed": false,
     "input": [
      "score_table[:10]"
     ],
     "language": "python",
     "metadata": {
      "slideshow": {
       "slide_type": "fragment"
      }
     },
     "outputs": [
      {
       "metadata": {},
       "output_type": "pyout",
       "prompt_number": 126,
       "text": [
        "array([(1, 14.775735379325916, 67.55843915790372),\n",
        "       (2, 57.56910997382495, 76.91542083952322),\n",
        "       (3, 96.93190100431353, 94.32975881971066),\n",
        "       (4, 39.0860436155818, 84.50309226405146),\n",
        "       (5, 15.18546780957395, 97.38800940221427),\n",
        "       (6, 1.9016863960232389, 89.84718569707576),\n",
        "       (7, 93.90933460570386, 67.88908393206397),\n",
        "       (8, 93.72904818176943, 79.59594840815257),\n",
        "       (9, 9.565110665518384, 70.32292254214005),\n",
        "       (10, 75.37464409348594, 96.14311673677497)], \n",
        "      dtype=[('Id', '<i8'), ('Math', '<f8'), ('Eng', '<f8')])"
       ]
      }
     ],
     "prompt_number": 126
    },
    {
     "cell_type": "code",
     "collapsed": false,
     "input": [
      "score_table.delcol(\"Eng\")\n",
      "score_table"
     ],
     "language": "python",
     "metadata": {
      "slideshow": {
       "slide_type": "subslide"
      }
     },
     "outputs": [
      {
       "metadata": {},
       "output_type": "pyout",
       "prompt_number": 127,
       "text": [
        "btable((30,), [('Id', '<i8'), ('Math', '<f8')])\n",
        "  nbytes: 480; cbytes: 16.00 KB; ratio: 0.03\n",
        "  bparams := bparams(clevel=5, shuffle=True, cname=blosclz)\n",
        "[(1, 14.775735379325916) (2, 57.56910997382495) (3, 96.93190100431353)\n",
        " (4, 39.0860436155818) (5, 15.18546780957395) (6, 1.9016863960232389)\n",
        " (7, 93.90933460570386) (8, 93.72904818176943) (9, 9.565110665518384)\n",
        " (10, 75.37464409348594) (11, 20.9456352689398) (12, 14.913510216967317)\n",
        " (13, 26.062385117940735) (14, 22.90749192504309) (15, 89.91357952391664)\n",
        " (16, 7.85920088398152) (17, 69.76920555864355) (18, 28.51232054983318)\n",
        " (19, 14.670788218408159) (20, 59.43181280996309) (21, 49.50602070251675)\n",
        " (22, 80.52813515339655) (23, 43.84299975409686) (24, 18.7658417266806)\n",
        " (25, 33.30131298828366) (26, 30.989657979177444) (27, 5.223225208452376)\n",
        " (28, 4.932491948704476) (29, 29.504266896863395) (30, 58.67009987885725)]"
       ]
      }
     ],
     "prompt_number": 127
    },
    {
     "cell_type": "markdown",
     "metadata": {
      "slideshow": {
       "slide_type": "subslide"
      }
     },
     "source": [
      "<font size=\"6\" color=#3066C4>\n",
      "Iteration Over btable\n",
      "</font>"
     ]
    },
    {
     "cell_type": "code",
     "collapsed": false,
     "input": [
      "for student in score_table:\n",
      "    print student"
     ],
     "language": "python",
     "metadata": {
      "slideshow": {
       "slide_type": "fragment"
      }
     },
     "outputs": [
      {
       "output_type": "stream",
       "stream": "stdout",
       "text": [
        "row(Id=1, Math=14.775735379325916)\n",
        "row(Id=2, Math=57.56910997382495)\n",
        "row(Id=3, Math=96.93190100431353)\n",
        "row(Id=4, Math=39.0860436155818)\n",
        "row(Id=5, Math=15.18546780957395)\n",
        "row(Id=6, Math=1.9016863960232389)\n",
        "row(Id=7, Math=93.90933460570386)\n",
        "row(Id=8, Math=93.72904818176943)\n",
        "row(Id=9, Math=9.565110665518384)\n",
        "row(Id=10, Math=75.37464409348594)\n",
        "row(Id=11, Math=20.9456352689398)\n",
        "row(Id=12, Math=14.913510216967317)\n",
        "row(Id=13, Math=26.062385117940735)\n",
        "row(Id=14, Math=22.90749192504309)\n",
        "row(Id=15, Math=89.91357952391664)\n",
        "row(Id=16, Math=7.85920088398152)\n",
        "row(Id=17, Math=69.76920555864355)\n",
        "row(Id=18, Math=28.51232054983318)\n",
        "row(Id=19, Math=14.670788218408159)\n",
        "row(Id=20, Math=59.43181280996309)\n",
        "row(Id=21, Math=49.50602070251675)\n",
        "row(Id=22, Math=80.52813515339655)\n",
        "row(Id=23, Math=43.84299975409686)\n",
        "row(Id=24, Math=18.7658417266806)\n",
        "row(Id=25, Math=33.30131298828366)\n",
        "row(Id=26, Math=30.989657979177444)\n",
        "row(Id=27, Math=5.223225208452376)\n",
        "row(Id=28, Math=4.932491948704476)\n",
        "row(Id=29, Math=29.504266896863395)\n",
        "row(Id=30, Math=58.67009987885725)\n"
       ]
      }
     ],
     "prompt_number": 119
    }
   ],
   "metadata": {}
  }
 ]
}