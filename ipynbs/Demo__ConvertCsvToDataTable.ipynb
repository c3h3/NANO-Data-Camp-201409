{
 "metadata": {
  "name": "",
  "signature": "sha256:961e57310541b1f6e3e5a77ec5cde2cf3b4fb527c8d97142bf0af33e5e47fcb5"
 },
 "nbformat": 3,
 "nbformat_minor": 0,
 "worksheets": [
  {
   "cells": [
    {
     "cell_type": "markdown",
     "metadata": {},
     "source": [
      "# Orange.data.Table \u7684\u5efa\u9020\u65b9\u5f0f\u8207\u6d41\u7a0b\n",
      "- ## (1) Orange.feature.Discrete & Orange.feature.Continuous\n",
      "- ## (2) Orange.data.Domain\n",
      "- ## (3) Data Instances [List of Rows (list) ]\n",
      "- ## (4) Orange.data.Table"
     ]
    },
    {
     "cell_type": "markdown",
     "metadata": {},
     "source": [
      "# \u5df2\u7d93\u8f49\u63db\u51fd\u6578\u5305\u5165\u672c\u6b21\u8ab2\u7a0b\u5957\u4ef6 \uff01\uff01"
     ]
    },
    {
     "cell_type": "code",
     "collapsed": false,
     "input": [],
     "language": "python",
     "metadata": {},
     "outputs": []
    },
    {
     "cell_type": "code",
     "collapsed": false,
     "input": [],
     "language": "python",
     "metadata": {},
     "outputs": []
    },
    {
     "cell_type": "code",
     "collapsed": false,
     "input": [
      "import pandas as pd\n",
      "import numpy as np\n",
      "from nanodata2014.orange import tools"
     ],
     "language": "python",
     "metadata": {},
     "outputs": [
      {
       "output_type": "stream",
       "stream": "stderr",
       "text": [
        "/home/c3h3/.pyenv/versions/py27/lib/python2.7/site-packages/pytz/__init__.py:29: UserWarning: Module argparse was already imported from /home/c3h3/.pyenv/versions/2.7.7/lib/python2.7/argparse.pyc, but /home/c3h3/.pyenv/versions/py27/lib/python2.7/site-packages is being added to sys.path\n",
        "  from pkg_resources import resource_stream\n"
       ]
      }
     ],
     "prompt_number": 2
    },
    {
     "cell_type": "code",
     "collapsed": false,
     "input": [],
     "language": "python",
     "metadata": {},
     "outputs": []
    },
    {
     "cell_type": "code",
     "collapsed": false,
     "input": [],
     "language": "python",
     "metadata": {},
     "outputs": []
    },
    {
     "cell_type": "markdown",
     "metadata": {},
     "source": [
      "# Titanic"
     ]
    },
    {
     "cell_type": "code",
     "collapsed": false,
     "input": [
      "! ls ../data/titanic/"
     ],
     "language": "python",
     "metadata": {},
     "outputs": [
      {
       "output_type": "stream",
       "stream": "stdout",
       "text": [
        "test.csv  train.csv\r\n"
       ]
      }
     ],
     "prompt_number": 2
    },
    {
     "cell_type": "code",
     "collapsed": false,
     "input": [
      "titanic_train_df = pd.read_csv(\"../data/titanic/train.csv\")"
     ],
     "language": "python",
     "metadata": {},
     "outputs": [],
     "prompt_number": 18
    },
    {
     "cell_type": "code",
     "collapsed": false,
     "input": [
      "titanic_train_df.head()"
     ],
     "language": "python",
     "metadata": {},
     "outputs": [
      {
       "html": [
        "<div style=\"max-height:1000px;max-width:1500px;overflow:auto;\">\n",
        "<table border=\"1\" class=\"dataframe\">\n",
        "  <thead>\n",
        "    <tr style=\"text-align: right;\">\n",
        "      <th></th>\n",
        "      <th>PassengerId</th>\n",
        "      <th>Survived</th>\n",
        "      <th>Pclass</th>\n",
        "      <th>Name</th>\n",
        "      <th>Sex</th>\n",
        "      <th>Age</th>\n",
        "      <th>SibSp</th>\n",
        "      <th>Parch</th>\n",
        "      <th>Ticket</th>\n",
        "      <th>Fare</th>\n",
        "      <th>Cabin</th>\n",
        "      <th>Embarked</th>\n",
        "    </tr>\n",
        "  </thead>\n",
        "  <tbody>\n",
        "    <tr>\n",
        "      <th>0</th>\n",
        "      <td> 1</td>\n",
        "      <td> 0</td>\n",
        "      <td> 3</td>\n",
        "      <td>                           Braund, Mr. Owen Harris</td>\n",
        "      <td>   male</td>\n",
        "      <td> 22</td>\n",
        "      <td> 1</td>\n",
        "      <td> 0</td>\n",
        "      <td>        A/5 21171</td>\n",
        "      <td>  7.2500</td>\n",
        "      <td>  NaN</td>\n",
        "      <td> S</td>\n",
        "    </tr>\n",
        "    <tr>\n",
        "      <th>1</th>\n",
        "      <td> 2</td>\n",
        "      <td> 1</td>\n",
        "      <td> 1</td>\n",
        "      <td> Cumings, Mrs. John Bradley (Florence Briggs Th...</td>\n",
        "      <td> female</td>\n",
        "      <td> 38</td>\n",
        "      <td> 1</td>\n",
        "      <td> 0</td>\n",
        "      <td>         PC 17599</td>\n",
        "      <td> 71.2833</td>\n",
        "      <td>  C85</td>\n",
        "      <td> C</td>\n",
        "    </tr>\n",
        "    <tr>\n",
        "      <th>2</th>\n",
        "      <td> 3</td>\n",
        "      <td> 1</td>\n",
        "      <td> 3</td>\n",
        "      <td>                            Heikkinen, Miss. Laina</td>\n",
        "      <td> female</td>\n",
        "      <td> 26</td>\n",
        "      <td> 0</td>\n",
        "      <td> 0</td>\n",
        "      <td> STON/O2. 3101282</td>\n",
        "      <td>  7.9250</td>\n",
        "      <td>  NaN</td>\n",
        "      <td> S</td>\n",
        "    </tr>\n",
        "    <tr>\n",
        "      <th>3</th>\n",
        "      <td> 4</td>\n",
        "      <td> 1</td>\n",
        "      <td> 1</td>\n",
        "      <td>      Futrelle, Mrs. Jacques Heath (Lily May Peel)</td>\n",
        "      <td> female</td>\n",
        "      <td> 35</td>\n",
        "      <td> 1</td>\n",
        "      <td> 0</td>\n",
        "      <td>           113803</td>\n",
        "      <td> 53.1000</td>\n",
        "      <td> C123</td>\n",
        "      <td> S</td>\n",
        "    </tr>\n",
        "    <tr>\n",
        "      <th>4</th>\n",
        "      <td> 5</td>\n",
        "      <td> 0</td>\n",
        "      <td> 3</td>\n",
        "      <td>                          Allen, Mr. William Henry</td>\n",
        "      <td>   male</td>\n",
        "      <td> 35</td>\n",
        "      <td> 0</td>\n",
        "      <td> 0</td>\n",
        "      <td>           373450</td>\n",
        "      <td>  8.0500</td>\n",
        "      <td>  NaN</td>\n",
        "      <td> S</td>\n",
        "    </tr>\n",
        "  </tbody>\n",
        "</table>\n",
        "</div>"
       ],
       "metadata": {},
       "output_type": "pyout",
       "prompt_number": 13,
       "text": [
        "   PassengerId  Survived  Pclass  \\\n",
        "0            1         0       3   \n",
        "1            2         1       1   \n",
        "2            3         1       3   \n",
        "3            4         1       1   \n",
        "4            5         0       3   \n",
        "\n",
        "                                                Name     Sex  Age  SibSp  \\\n",
        "0                            Braund, Mr. Owen Harris    male   22      1   \n",
        "1  Cumings, Mrs. John Bradley (Florence Briggs Th...  female   38      1   \n",
        "2                             Heikkinen, Miss. Laina  female   26      0   \n",
        "3       Futrelle, Mrs. Jacques Heath (Lily May Peel)  female   35      1   \n",
        "4                           Allen, Mr. William Henry    male   35      0   \n",
        "\n",
        "   Parch            Ticket     Fare Cabin Embarked  \n",
        "0      0         A/5 21171   7.2500   NaN        S  \n",
        "1      0          PC 17599  71.2833   C85        C  \n",
        "2      0  STON/O2. 3101282   7.9250   NaN        S  \n",
        "3      0            113803  53.1000  C123        S  \n",
        "4      0            373450   8.0500   NaN        S  "
       ]
      }
     ],
     "prompt_number": 13
    },
    {
     "cell_type": "code",
     "collapsed": false,
     "input": [
      "titanic_train_tab = tools.df_to_orange_table(titanic_train_df,output_column='Survived')"
     ],
     "language": "python",
     "metadata": {},
     "outputs": [],
     "prompt_number": 6
    },
    {
     "cell_type": "code",
     "collapsed": false,
     "input": [
      "titanic_train_tab.save(\"../orangetables/titanic_train.tab\")"
     ],
     "language": "python",
     "metadata": {},
     "outputs": [],
     "prompt_number": 7
    },
    {
     "cell_type": "code",
     "collapsed": false,
     "input": [
      "titanic_test_df = pd.read_csv(\"../data/titanic/test.csv\")\n",
      "titanic_test_tab = tools.df_to_orange_table(titanic_test_df)\n",
      "titanic_test_tab.save(\"../orangetables/titanic_test.tab\")"
     ],
     "language": "python",
     "metadata": {},
     "outputs": [],
     "prompt_number": 8
    },
    {
     "cell_type": "code",
     "collapsed": false,
     "input": [],
     "language": "python",
     "metadata": {},
     "outputs": []
    },
    {
     "cell_type": "code",
     "collapsed": false,
     "input": [],
     "language": "python",
     "metadata": {},
     "outputs": []
    },
    {
     "cell_type": "markdown",
     "metadata": {},
     "source": [
      "# Bikes"
     ]
    },
    {
     "cell_type": "code",
     "collapsed": false,
     "input": [
      "! ls ../data/bikes"
     ],
     "language": "python",
     "metadata": {},
     "outputs": [
      {
       "output_type": "stream",
       "stream": "stdout",
       "text": [
        "sampleSubmission.csv  test.csv\ttrain.csv\r\n"
       ]
      }
     ],
     "prompt_number": 10
    },
    {
     "cell_type": "code",
     "collapsed": false,
     "input": [
      "bikes_train_df = pd.read_csv(\"../data/bikes/train.csv\")"
     ],
     "language": "python",
     "metadata": {},
     "outputs": [],
     "prompt_number": 11
    },
    {
     "cell_type": "code",
     "collapsed": false,
     "input": [
      "bikes_train_df.head()"
     ],
     "language": "python",
     "metadata": {},
     "outputs": [
      {
       "html": [
        "<div style=\"max-height:1000px;max-width:1500px;overflow:auto;\">\n",
        "<table border=\"1\" class=\"dataframe\">\n",
        "  <thead>\n",
        "    <tr style=\"text-align: right;\">\n",
        "      <th></th>\n",
        "      <th>datetime</th>\n",
        "      <th>season</th>\n",
        "      <th>holiday</th>\n",
        "      <th>workingday</th>\n",
        "      <th>weather</th>\n",
        "      <th>temp</th>\n",
        "      <th>atemp</th>\n",
        "      <th>humidity</th>\n",
        "      <th>windspeed</th>\n",
        "      <th>casual</th>\n",
        "      <th>registered</th>\n",
        "      <th>count</th>\n",
        "    </tr>\n",
        "  </thead>\n",
        "  <tbody>\n",
        "    <tr>\n",
        "      <th>0</th>\n",
        "      <td> 2011-01-01 00:00:00</td>\n",
        "      <td> 1</td>\n",
        "      <td> 0</td>\n",
        "      <td> 0</td>\n",
        "      <td> 1</td>\n",
        "      <td> 9.84</td>\n",
        "      <td> 14.395</td>\n",
        "      <td> 81</td>\n",
        "      <td> 0</td>\n",
        "      <td> 3</td>\n",
        "      <td> 13</td>\n",
        "      <td> 16</td>\n",
        "    </tr>\n",
        "    <tr>\n",
        "      <th>1</th>\n",
        "      <td> 2011-01-01 01:00:00</td>\n",
        "      <td> 1</td>\n",
        "      <td> 0</td>\n",
        "      <td> 0</td>\n",
        "      <td> 1</td>\n",
        "      <td> 9.02</td>\n",
        "      <td> 13.635</td>\n",
        "      <td> 80</td>\n",
        "      <td> 0</td>\n",
        "      <td> 8</td>\n",
        "      <td> 32</td>\n",
        "      <td> 40</td>\n",
        "    </tr>\n",
        "    <tr>\n",
        "      <th>2</th>\n",
        "      <td> 2011-01-01 02:00:00</td>\n",
        "      <td> 1</td>\n",
        "      <td> 0</td>\n",
        "      <td> 0</td>\n",
        "      <td> 1</td>\n",
        "      <td> 9.02</td>\n",
        "      <td> 13.635</td>\n",
        "      <td> 80</td>\n",
        "      <td> 0</td>\n",
        "      <td> 5</td>\n",
        "      <td> 27</td>\n",
        "      <td> 32</td>\n",
        "    </tr>\n",
        "    <tr>\n",
        "      <th>3</th>\n",
        "      <td> 2011-01-01 03:00:00</td>\n",
        "      <td> 1</td>\n",
        "      <td> 0</td>\n",
        "      <td> 0</td>\n",
        "      <td> 1</td>\n",
        "      <td> 9.84</td>\n",
        "      <td> 14.395</td>\n",
        "      <td> 75</td>\n",
        "      <td> 0</td>\n",
        "      <td> 3</td>\n",
        "      <td> 10</td>\n",
        "      <td> 13</td>\n",
        "    </tr>\n",
        "    <tr>\n",
        "      <th>4</th>\n",
        "      <td> 2011-01-01 04:00:00</td>\n",
        "      <td> 1</td>\n",
        "      <td> 0</td>\n",
        "      <td> 0</td>\n",
        "      <td> 1</td>\n",
        "      <td> 9.84</td>\n",
        "      <td> 14.395</td>\n",
        "      <td> 75</td>\n",
        "      <td> 0</td>\n",
        "      <td> 0</td>\n",
        "      <td>  1</td>\n",
        "      <td>  1</td>\n",
        "    </tr>\n",
        "  </tbody>\n",
        "</table>\n",
        "</div>"
       ],
       "metadata": {},
       "output_type": "pyout",
       "prompt_number": 12,
       "text": [
        "              datetime  season  holiday  workingday  weather  temp   atemp  \\\n",
        "0  2011-01-01 00:00:00       1        0           0        1  9.84  14.395   \n",
        "1  2011-01-01 01:00:00       1        0           0        1  9.02  13.635   \n",
        "2  2011-01-01 02:00:00       1        0           0        1  9.02  13.635   \n",
        "3  2011-01-01 03:00:00       1        0           0        1  9.84  14.395   \n",
        "4  2011-01-01 04:00:00       1        0           0        1  9.84  14.395   \n",
        "\n",
        "   humidity  windspeed  casual  registered  count  \n",
        "0        81          0       3          13     16  \n",
        "1        80          0       8          32     40  \n",
        "2        80          0       5          27     32  \n",
        "3        75          0       3          10     13  \n",
        "4        75          0       0           1      1  "
       ]
      }
     ],
     "prompt_number": 12
    },
    {
     "cell_type": "code",
     "collapsed": false,
     "input": [
      "bikes_train_tab = tools.df_to_orange_table(bikes_train_df,output_column='count',problem_type=\"regression\")"
     ],
     "language": "python",
     "metadata": {},
     "outputs": [],
     "prompt_number": 15
    },
    {
     "cell_type": "code",
     "collapsed": false,
     "input": [
      "bikes_train_tab.save(\"../orangetables/bikes_train.tab\")"
     ],
     "language": "python",
     "metadata": {},
     "outputs": [],
     "prompt_number": 16
    },
    {
     "cell_type": "code",
     "collapsed": false,
     "input": [
      "bikes_test_df = pd.read_csv(\"../data/bikes/test.csv\")\n",
      "bikes_test_tab = tools.df_to_orange_table(bikes_test_df,problem_type=\"regression\")\n",
      "bikes_test_tab.save(\"../orangetables/bikes_test.tab\")"
     ],
     "language": "python",
     "metadata": {},
     "outputs": [],
     "prompt_number": 17
    },
    {
     "cell_type": "markdown",
     "metadata": {},
     "source": [
      "# SkLearn"
     ]
    },
    {
     "cell_type": "code",
     "collapsed": false,
     "input": [
      "! ls ../data/sklearn/"
     ],
     "language": "python",
     "metadata": {},
     "outputs": [
      {
       "output_type": "stream",
       "stream": "stdout",
       "text": [
        "test.csv  train.csv  trainLabels.csv\r\n"
       ]
      }
     ],
     "prompt_number": 20
    },
    {
     "cell_type": "code",
     "collapsed": false,
     "input": [
      "feateues_df = pd.read_csv(\"../data/sklearn/train.csv\",header=None)\n",
      "feateues_df.columns = [\"C%s\" % one_col for one_col in feateues_df.columns]\n",
      "labels_df = pd.read_csv(\"../data/sklearn/trainLabels.csv\",header=None)\n",
      "labels_df.columns = [\"Label\"]\n",
      "all_df = pd.DataFrame(np.c_[feateues_df.values,labels_df.values],columns=feateues_df.columns.tolist() +labels_df.columns.tolist())"
     ],
     "language": "python",
     "metadata": {},
     "outputs": [],
     "prompt_number": 14
    },
    {
     "cell_type": "code",
     "collapsed": false,
     "input": [
      "all_df.head()"
     ],
     "language": "python",
     "metadata": {},
     "outputs": [
      {
       "html": [
        "<div style=\"max-height:1000px;max-width:1500px;overflow:auto;\">\n",
        "<table border=\"1\" class=\"dataframe\">\n",
        "  <thead>\n",
        "    <tr style=\"text-align: right;\">\n",
        "      <th></th>\n",
        "      <th>C0</th>\n",
        "      <th>C1</th>\n",
        "      <th>C2</th>\n",
        "      <th>C3</th>\n",
        "      <th>C4</th>\n",
        "      <th>C5</th>\n",
        "      <th>C6</th>\n",
        "      <th>C7</th>\n",
        "      <th>C8</th>\n",
        "      <th>C9</th>\n",
        "      <th>...</th>\n",
        "      <th>C31</th>\n",
        "      <th>C32</th>\n",
        "      <th>C33</th>\n",
        "      <th>C34</th>\n",
        "      <th>C35</th>\n",
        "      <th>C36</th>\n",
        "      <th>C37</th>\n",
        "      <th>C38</th>\n",
        "      <th>C39</th>\n",
        "      <th>Label</th>\n",
        "    </tr>\n",
        "  </thead>\n",
        "  <tbody>\n",
        "    <tr>\n",
        "      <th>0</th>\n",
        "      <td> 0.299403</td>\n",
        "      <td>-1.226624</td>\n",
        "      <td> 1.498425</td>\n",
        "      <td>-1.176150</td>\n",
        "      <td> 5.289853</td>\n",
        "      <td> 0.208297</td>\n",
        "      <td> 2.404498</td>\n",
        "      <td> 1.594506</td>\n",
        "      <td>-0.051608</td>\n",
        "      <td> 0.663234</td>\n",
        "      <td>...</td>\n",
        "      <td>-0.622990</td>\n",
        "      <td>-1.833057</td>\n",
        "      <td> 0.293024</td>\n",
        "      <td> 3.552681</td>\n",
        "      <td> 0.717611</td>\n",
        "      <td> 3.305972</td>\n",
        "      <td>-2.715559</td>\n",
        "      <td>-2.682409</td>\n",
        "      <td> 0.101050</td>\n",
        "      <td> 1</td>\n",
        "    </tr>\n",
        "    <tr>\n",
        "      <th>1</th>\n",
        "      <td>-1.174176</td>\n",
        "      <td> 0.332157</td>\n",
        "      <td> 0.949919</td>\n",
        "      <td>-1.285328</td>\n",
        "      <td> 2.199061</td>\n",
        "      <td>-0.151268</td>\n",
        "      <td>-0.427039</td>\n",
        "      <td> 2.619246</td>\n",
        "      <td>-0.765884</td>\n",
        "      <td>-0.093780</td>\n",
        "      <td>...</td>\n",
        "      <td> 0.012037</td>\n",
        "      <td> 2.038836</td>\n",
        "      <td> 0.468579</td>\n",
        "      <td>-0.517657</td>\n",
        "      <td> 0.422326</td>\n",
        "      <td> 0.803699</td>\n",
        "      <td> 1.213219</td>\n",
        "      <td> 1.382932</td>\n",
        "      <td>-1.817761</td>\n",
        "      <td> 0</td>\n",
        "    </tr>\n",
        "    <tr>\n",
        "      <th>2</th>\n",
        "      <td> 1.192222</td>\n",
        "      <td>-0.414371</td>\n",
        "      <td> 0.067054</td>\n",
        "      <td>-2.233568</td>\n",
        "      <td> 3.658881</td>\n",
        "      <td> 0.089007</td>\n",
        "      <td> 0.203439</td>\n",
        "      <td>-4.219054</td>\n",
        "      <td>-1.184919</td>\n",
        "      <td>-1.240310</td>\n",
        "      <td>...</td>\n",
        "      <td> 0.750054</td>\n",
        "      <td>-3.360521</td>\n",
        "      <td> 0.856988</td>\n",
        "      <td>-2.751451</td>\n",
        "      <td>-1.582735</td>\n",
        "      <td> 1.672246</td>\n",
        "      <td> 0.656438</td>\n",
        "      <td>-0.932473</td>\n",
        "      <td> 2.987436</td>\n",
        "      <td> 0</td>\n",
        "    </tr>\n",
        "    <tr>\n",
        "      <th>3</th>\n",
        "      <td> 1.573270</td>\n",
        "      <td>-0.580318</td>\n",
        "      <td>-0.866332</td>\n",
        "      <td>-0.603812</td>\n",
        "      <td> 3.125716</td>\n",
        "      <td> 0.870321</td>\n",
        "      <td>-0.161992</td>\n",
        "      <td> 4.499666</td>\n",
        "      <td> 1.038741</td>\n",
        "      <td>-1.092716</td>\n",
        "      <td>...</td>\n",
        "      <td> 1.275598</td>\n",
        "      <td>-3.480110</td>\n",
        "      <td>-1.065252</td>\n",
        "      <td> 2.153133</td>\n",
        "      <td> 1.563539</td>\n",
        "      <td> 2.767117</td>\n",
        "      <td> 0.215748</td>\n",
        "      <td> 0.619645</td>\n",
        "      <td> 1.883397</td>\n",
        "      <td> 1</td>\n",
        "    </tr>\n",
        "    <tr>\n",
        "      <th>4</th>\n",
        "      <td>-0.613071</td>\n",
        "      <td>-0.644204</td>\n",
        "      <td> 1.112558</td>\n",
        "      <td>-0.032397</td>\n",
        "      <td> 3.490142</td>\n",
        "      <td>-0.011935</td>\n",
        "      <td> 1.443521</td>\n",
        "      <td>-4.290282</td>\n",
        "      <td>-1.761308</td>\n",
        "      <td> 0.807652</td>\n",
        "      <td>...</td>\n",
        "      <td>-1.803473</td>\n",
        "      <td> 0.518579</td>\n",
        "      <td>-0.205029</td>\n",
        "      <td>-4.744566</td>\n",
        "      <td>-1.520015</td>\n",
        "      <td> 1.830651</td>\n",
        "      <td> 0.870772</td>\n",
        "      <td>-1.894609</td>\n",
        "      <td> 0.408332</td>\n",
        "      <td> 0</td>\n",
        "    </tr>\n",
        "  </tbody>\n",
        "</table>\n",
        "<p>5 rows \u00d7 41 columns</p>\n",
        "</div>"
       ],
       "metadata": {},
       "output_type": "pyout",
       "prompt_number": 15,
       "text": [
        "         C0        C1        C2        C3        C4        C5        C6  \\\n",
        "0  0.299403 -1.226624  1.498425 -1.176150  5.289853  0.208297  2.404498   \n",
        "1 -1.174176  0.332157  0.949919 -1.285328  2.199061 -0.151268 -0.427039   \n",
        "2  1.192222 -0.414371  0.067054 -2.233568  3.658881  0.089007  0.203439   \n",
        "3  1.573270 -0.580318 -0.866332 -0.603812  3.125716  0.870321 -0.161992   \n",
        "4 -0.613071 -0.644204  1.112558 -0.032397  3.490142 -0.011935  1.443521   \n",
        "\n",
        "         C7        C8        C9    ...          C31       C32       C33  \\\n",
        "0  1.594506 -0.051608  0.663234    ...    -0.622990 -1.833057  0.293024   \n",
        "1  2.619246 -0.765884 -0.093780    ...     0.012037  2.038836  0.468579   \n",
        "2 -4.219054 -1.184919 -1.240310    ...     0.750054 -3.360521  0.856988   \n",
        "3  4.499666  1.038741 -1.092716    ...     1.275598 -3.480110 -1.065252   \n",
        "4 -4.290282 -1.761308  0.807652    ...    -1.803473  0.518579 -0.205029   \n",
        "\n",
        "        C34       C35       C36       C37       C38       C39  Label  \n",
        "0  3.552681  0.717611  3.305972 -2.715559 -2.682409  0.101050      1  \n",
        "1 -0.517657  0.422326  0.803699  1.213219  1.382932 -1.817761      0  \n",
        "2 -2.751451 -1.582735  1.672246  0.656438 -0.932473  2.987436      0  \n",
        "3  2.153133  1.563539  2.767117  0.215748  0.619645  1.883397      1  \n",
        "4 -4.744566 -1.520015  1.830651  0.870772 -1.894609  0.408332      0  \n",
        "\n",
        "[5 rows x 41 columns]"
       ]
      }
     ],
     "prompt_number": 15
    },
    {
     "cell_type": "code",
     "collapsed": false,
     "input": [
      "all_df.columns"
     ],
     "language": "python",
     "metadata": {},
     "outputs": [
      {
       "metadata": {},
       "output_type": "pyout",
       "prompt_number": 16,
       "text": [
        "Index([u'C0', u'C1', u'C2', u'C3', u'C4', u'C5', u'C6', u'C7', u'C8', u'C9', u'C10', u'C11', u'C12', u'C13', u'C14', u'C15', u'C16', u'C17', u'C18', u'C19', u'C20', u'C21', u'C22', u'C23', u'C24', u'C25', u'C26', u'C27', u'C28', u'C29', u'C30', u'C31', u'C32', u'C33', u'C34', u'C35', u'C36', u'C37', u'C38', u'C39', u'Label'], dtype='object')"
       ]
      }
     ],
     "prompt_number": 16
    },
    {
     "cell_type": "code",
     "collapsed": false,
     "input": [
      "sklearn_train_table = tools.df_to_orange_table(all_df,output_column='Label')\n",
      "sklearn_train_table.save(\"../orangetables/sklearn_train.tab\")"
     ],
     "language": "python",
     "metadata": {},
     "outputs": [],
     "prompt_number": 17
    },
    {
     "cell_type": "code",
     "collapsed": false,
     "input": [
      "feateues_df = pd.read_csv(\"../data/sklearn/test.csv\",header=None)\n",
      "feateues_df.columns = [\"C%s\" % one_col for one_col in feateues_df.columns]\n",
      "sklearn_test_table = tools.df_to_orange_table(feateues_df)\n",
      "sklearn_test_table.save(\"../orangetables/sklearn_test.tab\")"
     ],
     "language": "python",
     "metadata": {},
     "outputs": [],
     "prompt_number": 18
    },
    {
     "cell_type": "code",
     "collapsed": false,
     "input": [],
     "language": "python",
     "metadata": {},
     "outputs": [],
     "prompt_number": 29
    },
    {
     "cell_type": "code",
     "collapsed": false,
     "input": [],
     "language": "python",
     "metadata": {},
     "outputs": []
    },
    {
     "cell_type": "markdown",
     "metadata": {},
     "source": [
      "# Digit Recognizer"
     ]
    },
    {
     "cell_type": "code",
     "collapsed": false,
     "input": [
      "! ls ../data/digit_recognizer/"
     ],
     "language": "python",
     "metadata": {},
     "outputs": [
      {
       "output_type": "stream",
       "stream": "stdout",
       "text": [
        "knn_benchmark.csv  knn_benchmark.R  rf_benchmark.csv  rf_benchmark.R  test.csv\ttrain.csv\r\n"
       ]
      }
     ],
     "prompt_number": 72
    },
    {
     "cell_type": "code",
     "collapsed": false,
     "input": [
      "digit_recognizer_train_df = pd.read_csv(\"../data/digit_recognizer/train.csv\")"
     ],
     "language": "python",
     "metadata": {},
     "outputs": [],
     "prompt_number": 31
    },
    {
     "cell_type": "code",
     "collapsed": false,
     "input": [
      "digit_recognizer_train_df.head()"
     ],
     "language": "python",
     "metadata": {},
     "outputs": [
      {
       "html": [
        "<div style=\"max-height:1000px;max-width:1500px;overflow:auto;\">\n",
        "<table border=\"1\" class=\"dataframe\">\n",
        "  <thead>\n",
        "    <tr style=\"text-align: right;\">\n",
        "      <th></th>\n",
        "      <th>label</th>\n",
        "      <th>pixel0</th>\n",
        "      <th>pixel1</th>\n",
        "      <th>pixel2</th>\n",
        "      <th>pixel3</th>\n",
        "      <th>pixel4</th>\n",
        "      <th>pixel5</th>\n",
        "      <th>pixel6</th>\n",
        "      <th>pixel7</th>\n",
        "      <th>pixel8</th>\n",
        "      <th>...</th>\n",
        "      <th>pixel774</th>\n",
        "      <th>pixel775</th>\n",
        "      <th>pixel776</th>\n",
        "      <th>pixel777</th>\n",
        "      <th>pixel778</th>\n",
        "      <th>pixel779</th>\n",
        "      <th>pixel780</th>\n",
        "      <th>pixel781</th>\n",
        "      <th>pixel782</th>\n",
        "      <th>pixel783</th>\n",
        "    </tr>\n",
        "  </thead>\n",
        "  <tbody>\n",
        "    <tr>\n",
        "      <th>0</th>\n",
        "      <td> 1</td>\n",
        "      <td> 0</td>\n",
        "      <td> 0</td>\n",
        "      <td> 0</td>\n",
        "      <td> 0</td>\n",
        "      <td> 0</td>\n",
        "      <td> 0</td>\n",
        "      <td> 0</td>\n",
        "      <td> 0</td>\n",
        "      <td> 0</td>\n",
        "      <td>...</td>\n",
        "      <td> 0</td>\n",
        "      <td> 0</td>\n",
        "      <td> 0</td>\n",
        "      <td> 0</td>\n",
        "      <td> 0</td>\n",
        "      <td> 0</td>\n",
        "      <td> 0</td>\n",
        "      <td> 0</td>\n",
        "      <td> 0</td>\n",
        "      <td> 0</td>\n",
        "    </tr>\n",
        "    <tr>\n",
        "      <th>1</th>\n",
        "      <td> 0</td>\n",
        "      <td> 0</td>\n",
        "      <td> 0</td>\n",
        "      <td> 0</td>\n",
        "      <td> 0</td>\n",
        "      <td> 0</td>\n",
        "      <td> 0</td>\n",
        "      <td> 0</td>\n",
        "      <td> 0</td>\n",
        "      <td> 0</td>\n",
        "      <td>...</td>\n",
        "      <td> 0</td>\n",
        "      <td> 0</td>\n",
        "      <td> 0</td>\n",
        "      <td> 0</td>\n",
        "      <td> 0</td>\n",
        "      <td> 0</td>\n",
        "      <td> 0</td>\n",
        "      <td> 0</td>\n",
        "      <td> 0</td>\n",
        "      <td> 0</td>\n",
        "    </tr>\n",
        "    <tr>\n",
        "      <th>2</th>\n",
        "      <td> 1</td>\n",
        "      <td> 0</td>\n",
        "      <td> 0</td>\n",
        "      <td> 0</td>\n",
        "      <td> 0</td>\n",
        "      <td> 0</td>\n",
        "      <td> 0</td>\n",
        "      <td> 0</td>\n",
        "      <td> 0</td>\n",
        "      <td> 0</td>\n",
        "      <td>...</td>\n",
        "      <td> 0</td>\n",
        "      <td> 0</td>\n",
        "      <td> 0</td>\n",
        "      <td> 0</td>\n",
        "      <td> 0</td>\n",
        "      <td> 0</td>\n",
        "      <td> 0</td>\n",
        "      <td> 0</td>\n",
        "      <td> 0</td>\n",
        "      <td> 0</td>\n",
        "    </tr>\n",
        "    <tr>\n",
        "      <th>3</th>\n",
        "      <td> 4</td>\n",
        "      <td> 0</td>\n",
        "      <td> 0</td>\n",
        "      <td> 0</td>\n",
        "      <td> 0</td>\n",
        "      <td> 0</td>\n",
        "      <td> 0</td>\n",
        "      <td> 0</td>\n",
        "      <td> 0</td>\n",
        "      <td> 0</td>\n",
        "      <td>...</td>\n",
        "      <td> 0</td>\n",
        "      <td> 0</td>\n",
        "      <td> 0</td>\n",
        "      <td> 0</td>\n",
        "      <td> 0</td>\n",
        "      <td> 0</td>\n",
        "      <td> 0</td>\n",
        "      <td> 0</td>\n",
        "      <td> 0</td>\n",
        "      <td> 0</td>\n",
        "    </tr>\n",
        "    <tr>\n",
        "      <th>4</th>\n",
        "      <td> 0</td>\n",
        "      <td> 0</td>\n",
        "      <td> 0</td>\n",
        "      <td> 0</td>\n",
        "      <td> 0</td>\n",
        "      <td> 0</td>\n",
        "      <td> 0</td>\n",
        "      <td> 0</td>\n",
        "      <td> 0</td>\n",
        "      <td> 0</td>\n",
        "      <td>...</td>\n",
        "      <td> 0</td>\n",
        "      <td> 0</td>\n",
        "      <td> 0</td>\n",
        "      <td> 0</td>\n",
        "      <td> 0</td>\n",
        "      <td> 0</td>\n",
        "      <td> 0</td>\n",
        "      <td> 0</td>\n",
        "      <td> 0</td>\n",
        "      <td> 0</td>\n",
        "    </tr>\n",
        "  </tbody>\n",
        "</table>\n",
        "<p>5 rows \u00d7 785 columns</p>\n",
        "</div>"
       ],
       "metadata": {},
       "output_type": "pyout",
       "prompt_number": 33,
       "text": [
        "   label  pixel0  pixel1  pixel2  pixel3  pixel4  pixel5  pixel6  pixel7  \\\n",
        "0      1       0       0       0       0       0       0       0       0   \n",
        "1      0       0       0       0       0       0       0       0       0   \n",
        "2      1       0       0       0       0       0       0       0       0   \n",
        "3      4       0       0       0       0       0       0       0       0   \n",
        "4      0       0       0       0       0       0       0       0       0   \n",
        "\n",
        "   pixel8   ...    pixel774  pixel775  pixel776  pixel777  pixel778  pixel779  \\\n",
        "0       0   ...           0         0         0         0         0         0   \n",
        "1       0   ...           0         0         0         0         0         0   \n",
        "2       0   ...           0         0         0         0         0         0   \n",
        "3       0   ...           0         0         0         0         0         0   \n",
        "4       0   ...           0         0         0         0         0         0   \n",
        "\n",
        "   pixel780  pixel781  pixel782  pixel783  \n",
        "0         0         0         0         0  \n",
        "1         0         0         0         0  \n",
        "2         0         0         0         0  \n",
        "3         0         0         0         0  \n",
        "4         0         0         0         0  \n",
        "\n",
        "[5 rows x 785 columns]"
       ]
      }
     ],
     "prompt_number": 33
    },
    {
     "cell_type": "code",
     "collapsed": false,
     "input": [
      "%matplotlib inline"
     ],
     "language": "python",
     "metadata": {},
     "outputs": [],
     "prompt_number": 40
    },
    {
     "cell_type": "code",
     "collapsed": false,
     "input": [
      "from matplotlib import pylab\n",
      "import matplotlib.cm as cm"
     ],
     "language": "python",
     "metadata": {},
     "outputs": [],
     "prompt_number": 43
    },
    {
     "cell_type": "code",
     "collapsed": false,
     "input": [
      "pylab.imshow(digit_recognizer_train_df.iloc[0][1:].values.reshape(28,28),cmap=cm.gray)"
     ],
     "language": "python",
     "metadata": {},
     "outputs": [
      {
       "metadata": {},
       "output_type": "pyout",
       "prompt_number": 44,
       "text": [
        "<matplotlib.image.AxesImage at 0x7f1777a7df10>"
       ]
      },
      {
       "metadata": {},
       "output_type": "display_data",
       "png": "[encoded data removed]",
       "text": [
        "<matplotlib.figure.Figure at 0x7f178085ef50>"
       ]
      }
     ],
     "prompt_number": 44
    },
    {
     "cell_type": "code",
     "collapsed": false,
     "input": [
      "row_imgs = 5\n",
      "col_imgs = 5\n",
      "\n",
      "fig, axe = pylab.subplots(row_imgs,col_imgs)\n",
      "\n",
      "img_idx = 0\n",
      "for ax in axe.flatten():\n",
      "    ax.imshow(digit_recognizer_train_df.iloc[img_idx][1:].values.reshape(28,28),cmap=cm.gray)\n",
      "    img_idx = img_idx + 1"
     ],
     "language": "python",
     "metadata": {},
     "outputs": [
      {
       "metadata": {},
       "output_type": "display_data",
       "png": "[encoded data removed]",
       "text": [
        "<matplotlib.figure.Figure at 0x7f17587e80d0>"
       ]
      }
     ],
     "prompt_number": 46
    },
    {
     "cell_type": "code",
     "collapsed": false,
     "input": [
      "y = digit_recognizer_train_df.values[:,0]\n",
      "X = digit_recognizer_train_df.values[:,1:]"
     ],
     "language": "python",
     "metadata": {},
     "outputs": [],
     "prompt_number": 55
    },
    {
     "cell_type": "code",
     "collapsed": false,
     "input": [
      "pylab.imshow(X[0,:].reshape(28,28),cmap=cm.gray)"
     ],
     "language": "python",
     "metadata": {},
     "outputs": [
      {
       "metadata": {},
       "output_type": "pyout",
       "prompt_number": 58,
       "text": [
        "<matplotlib.image.AxesImage at 0x7f1744df62d0>"
       ]
      },
      {
       "metadata": {},
       "output_type": "display_data",
       "png": "[encoded data removed]",
       "text": [
        "<matplotlib.figure.Figure at 0x7f17586e3750>"
       ]
      }
     ],
     "prompt_number": 58
    },
    {
     "cell_type": "code",
     "collapsed": false,
     "input": [],
     "language": "python",
     "metadata": {},
     "outputs": []
    },
    {
     "cell_type": "markdown",
     "metadata": {},
     "source": [
      "## Reference: http://nbviewer.ipython.org/github/c3h3/PyData-Notes/blob/master/trying_notes/visualization/HandWriteDigitData.ipynb"
     ]
    },
    {
     "cell_type": "code",
     "collapsed": false,
     "input": [
      "pylab.rcParams['figure.figsize']"
     ],
     "language": "python",
     "metadata": {},
     "outputs": [
      {
       "metadata": {},
       "output_type": "pyout",
       "prompt_number": 63,
       "text": [
        "(6.0, 4.0)"
       ]
      }
     ],
     "prompt_number": 63
    },
    {
     "cell_type": "code",
     "collapsed": false,
     "input": [
      "pylab.rcParams['figure.figsize'] = 16, 12"
     ],
     "language": "python",
     "metadata": {},
     "outputs": [],
     "prompt_number": 64
    },
    {
     "cell_type": "code",
     "collapsed": false,
     "input": [
      "pylab.imshow(np.c_[X[y == 0,:][:40,:],X[y == 1,:][:40,:]],cmap=cm.gray)"
     ],
     "language": "python",
     "metadata": {},
     "outputs": [
      {
       "metadata": {},
       "output_type": "pyout",
       "prompt_number": 65,
       "text": [
        "<matplotlib.image.AxesImage at 0x7f178059af10>"
       ]
      },
      {
       "metadata": {},
       "output_type": "display_data",
       "png": "[encoded data removed]",
       "text": [
        "<matplotlib.figure.Figure at 0x7f17753fe750>"
       ]
      }
     ],
     "prompt_number": 65
    },
    {
     "cell_type": "code",
     "collapsed": false,
     "input": [
      "pylab.imshow(np.c_[X[y == 2,:][:40,:],X[y == 5,:][:40,:]],cmap=cm.gray)"
     ],
     "language": "python",
     "metadata": {},
     "outputs": [
      {
       "metadata": {},
       "output_type": "pyout",
       "prompt_number": 67,
       "text": [
        "<matplotlib.image.AxesImage at 0x7f174622c310>"
       ]
      },
      {
       "metadata": {},
       "output_type": "display_data",
       "png": "[encoded data removed]",
       "text": [
        "<matplotlib.figure.Figure at 0x7f1777a2abd0>"
       ]
      }
     ],
     "prompt_number": 67
    },
    {
     "cell_type": "code",
     "collapsed": false,
     "input": [],
     "language": "python",
     "metadata": {},
     "outputs": [],
     "prompt_number": 69
    },
    {
     "cell_type": "code",
     "collapsed": false,
     "input": [
      "digit_recognizer_train_table = tools.df_to_orange_table(digit_recognizer_train_df,output_column='label')"
     ],
     "language": "python",
     "metadata": {},
     "outputs": [],
     "prompt_number": 70
    },
    {
     "cell_type": "code",
     "collapsed": false,
     "input": [
      "digit_recognizer_train_table.save(\"../orangetables/digit_recognizer_train.tab\")"
     ],
     "language": "python",
     "metadata": {},
     "outputs": [],
     "prompt_number": 71
    },
    {
     "cell_type": "code",
     "collapsed": false,
     "input": [
      "digit_recognizer_test_df = pd.read_csv(\"../data/digit_recognizer/test.csv\")\n",
      "digit_recognizer_test_table = tools.df_to_orange_table(digit_recognizer_test_df)\n",
      "digit_recognizer_test_table.save(\"../orangetables/digit_recognizer_test.tab\")"
     ],
     "language": "python",
     "metadata": {},
     "outputs": [],
     "prompt_number": 74
    },
    {
     "cell_type": "code",
     "collapsed": false,
     "input": [],
     "language": "python",
     "metadata": {},
     "outputs": []
    },
    {
     "cell_type": "code",
     "collapsed": false,
     "input": [],
     "language": "python",
     "metadata": {},
     "outputs": []
    },
    {
     "cell_type": "markdown",
     "metadata": {},
     "source": [
      "# AFSIS"
     ]
    },
    {
     "cell_type": "code",
     "collapsed": false,
     "input": [
      "!ls ../data/afsis"
     ],
     "language": "python",
     "metadata": {},
     "outputs": [
      {
       "output_type": "stream",
       "stream": "stdout",
       "text": [
        "sample_submission.csv  sorted_test.csv\ttest.zip  training.csv\ttrain.zip\r\n"
       ]
      }
     ],
     "prompt_number": 78
    },
    {
     "cell_type": "code",
     "collapsed": false,
     "input": [
      "afsis_train_df = pd.read_csv(\"../data/afsis/training.csv\")"
     ],
     "language": "python",
     "metadata": {},
     "outputs": [],
     "prompt_number": 3
    },
    {
     "cell_type": "code",
     "collapsed": false,
     "input": [
      "afsis_test_df = pd.read_csv(\"../data/afsis/sorted_test.csv\")"
     ],
     "language": "python",
     "metadata": {},
     "outputs": [],
     "prompt_number": 4
    },
    {
     "cell_type": "code",
     "collapsed": false,
     "input": [
      "afsis_train_df.head()"
     ],
     "language": "python",
     "metadata": {},
     "outputs": [
      {
       "html": [
        "<div style=\"max-height:1000px;max-width:1500px;overflow:auto;\">\n",
        "<table border=\"1\" class=\"dataframe\">\n",
        "  <thead>\n",
        "    <tr style=\"text-align: right;\">\n",
        "      <th></th>\n",
        "      <th>PIDN</th>\n",
        "      <th>m7497.96</th>\n",
        "      <th>m7496.04</th>\n",
        "      <th>m7494.11</th>\n",
        "      <th>m7492.18</th>\n",
        "      <th>m7490.25</th>\n",
        "      <th>m7488.32</th>\n",
        "      <th>m7486.39</th>\n",
        "      <th>m7484.46</th>\n",
        "      <th>m7482.54</th>\n",
        "      <th>...</th>\n",
        "      <th>REF7</th>\n",
        "      <th>RELI</th>\n",
        "      <th>TMAP</th>\n",
        "      <th>TMFI</th>\n",
        "      <th>Depth</th>\n",
        "      <th>Ca</th>\n",
        "      <th>P</th>\n",
        "      <th>pH</th>\n",
        "      <th>SOC</th>\n",
        "      <th>Sand</th>\n",
        "    </tr>\n",
        "  </thead>\n",
        "  <tbody>\n",
        "    <tr>\n",
        "      <th>0</th>\n",
        "      <td> XNhoFZW5</td>\n",
        "      <td> 0.302553</td>\n",
        "      <td> 0.301137</td>\n",
        "      <td> 0.299748</td>\n",
        "      <td> 0.300354</td>\n",
        "      <td> 0.302679</td>\n",
        "      <td> 0.303799</td>\n",
        "      <td> 0.301702</td>\n",
        "      <td> 0.298936</td>\n",
        "      <td> 0.298126</td>\n",
        "      <td>...</td>\n",
        "      <td>-0.646673</td>\n",
        "      <td> 1.687734</td>\n",
        "      <td> 0.190708</td>\n",
        "      <td> 0.056843</td>\n",
        "      <td> Topsoil</td>\n",
        "      <td>-0.295749</td>\n",
        "      <td>-0.041336</td>\n",
        "      <td>-1.129366</td>\n",
        "      <td> 0.353258</td>\n",
        "      <td> 1.269748</td>\n",
        "    </tr>\n",
        "    <tr>\n",
        "      <th>1</th>\n",
        "      <td> 9XNspFTd</td>\n",
        "      <td> 0.270192</td>\n",
        "      <td> 0.268555</td>\n",
        "      <td> 0.266964</td>\n",
        "      <td> 0.267938</td>\n",
        "      <td> 0.271013</td>\n",
        "      <td> 0.272346</td>\n",
        "      <td> 0.269870</td>\n",
        "      <td> 0.266976</td>\n",
        "      <td> 0.266544</td>\n",
        "      <td>...</td>\n",
        "      <td>-0.646673</td>\n",
        "      <td> 1.687734</td>\n",
        "      <td> 0.190708</td>\n",
        "      <td> 0.056843</td>\n",
        "      <td> Subsoil</td>\n",
        "      <td>-0.387442</td>\n",
        "      <td>-0.231552</td>\n",
        "      <td>-1.531538</td>\n",
        "      <td>-0.264023</td>\n",
        "      <td> 1.692209</td>\n",
        "    </tr>\n",
        "    <tr>\n",
        "      <th>2</th>\n",
        "      <td> WDId41qG</td>\n",
        "      <td> 0.317433</td>\n",
        "      <td> 0.316265</td>\n",
        "      <td> 0.314948</td>\n",
        "      <td> 0.315224</td>\n",
        "      <td> 0.316942</td>\n",
        "      <td> 0.317764</td>\n",
        "      <td> 0.316067</td>\n",
        "      <td> 0.313874</td>\n",
        "      <td> 0.313301</td>\n",
        "      <td>...</td>\n",
        "      <td>-0.814516</td>\n",
        "      <td> 1.806660</td>\n",
        "      <td> 0.190708</td>\n",
        "      <td> 0.056843</td>\n",
        "      <td> Topsoil</td>\n",
        "      <td>-0.248601</td>\n",
        "      <td>-0.224635</td>\n",
        "      <td>-0.259551</td>\n",
        "      <td> 0.064152</td>\n",
        "      <td> 2.091835</td>\n",
        "    </tr>\n",
        "    <tr>\n",
        "      <th>3</th>\n",
        "      <td> JrrJf1mN</td>\n",
        "      <td> 0.261116</td>\n",
        "      <td> 0.259767</td>\n",
        "      <td> 0.258384</td>\n",
        "      <td> 0.259001</td>\n",
        "      <td> 0.261310</td>\n",
        "      <td> 0.262417</td>\n",
        "      <td> 0.260534</td>\n",
        "      <td> 0.258039</td>\n",
        "      <td> 0.257246</td>\n",
        "      <td>...</td>\n",
        "      <td>-0.814516</td>\n",
        "      <td> 1.806660</td>\n",
        "      <td> 0.190708</td>\n",
        "      <td> 0.056843</td>\n",
        "      <td> Subsoil</td>\n",
        "      <td>-0.332195</td>\n",
        "      <td>-0.318014</td>\n",
        "      <td>-0.577548</td>\n",
        "      <td>-0.318719</td>\n",
        "      <td> 2.118477</td>\n",
        "    </tr>\n",
        "    <tr>\n",
        "      <th>4</th>\n",
        "      <td> ZoIitegA</td>\n",
        "      <td> 0.260038</td>\n",
        "      <td> 0.258425</td>\n",
        "      <td> 0.256544</td>\n",
        "      <td> 0.257030</td>\n",
        "      <td> 0.259602</td>\n",
        "      <td> 0.260786</td>\n",
        "      <td> 0.258717</td>\n",
        "      <td> 0.256352</td>\n",
        "      <td> 0.255902</td>\n",
        "      <td>...</td>\n",
        "      <td>-0.780242</td>\n",
        "      <td> 0.430513</td>\n",
        "      <td> 0.190708</td>\n",
        "      <td> 0.056843</td>\n",
        "      <td> Topsoil</td>\n",
        "      <td>-0.438350</td>\n",
        "      <td>-0.010210</td>\n",
        "      <td>-0.699135</td>\n",
        "      <td>-0.310905</td>\n",
        "      <td> 2.164148</td>\n",
        "    </tr>\n",
        "  </tbody>\n",
        "</table>\n",
        "<p>5 rows \u00d7 3600 columns</p>\n",
        "</div>"
       ],
       "metadata": {},
       "output_type": "pyout",
       "prompt_number": 5,
       "text": [
        "       PIDN  m7497.96  m7496.04  m7494.11  m7492.18  m7490.25  m7488.32  \\\n",
        "0  XNhoFZW5  0.302553  0.301137  0.299748  0.300354  0.302679  0.303799   \n",
        "1  9XNspFTd  0.270192  0.268555  0.266964  0.267938  0.271013  0.272346   \n",
        "2  WDId41qG  0.317433  0.316265  0.314948  0.315224  0.316942  0.317764   \n",
        "3  JrrJf1mN  0.261116  0.259767  0.258384  0.259001  0.261310  0.262417   \n",
        "4  ZoIitegA  0.260038  0.258425  0.256544  0.257030  0.259602  0.260786   \n",
        "\n",
        "   m7486.39  m7484.46  m7482.54    ...         REF7      RELI      TMAP  \\\n",
        "0  0.301702  0.298936  0.298126    ...    -0.646673  1.687734  0.190708   \n",
        "1  0.269870  0.266976  0.266544    ...    -0.646673  1.687734  0.190708   \n",
        "2  0.316067  0.313874  0.313301    ...    -0.814516  1.806660  0.190708   \n",
        "3  0.260534  0.258039  0.257246    ...    -0.814516  1.806660  0.190708   \n",
        "4  0.258717  0.256352  0.255902    ...    -0.780242  0.430513  0.190708   \n",
        "\n",
        "       TMFI    Depth        Ca         P        pH       SOC      Sand  \n",
        "0  0.056843  Topsoil -0.295749 -0.041336 -1.129366  0.353258  1.269748  \n",
        "1  0.056843  Subsoil -0.387442 -0.231552 -1.531538 -0.264023  1.692209  \n",
        "2  0.056843  Topsoil -0.248601 -0.224635 -0.259551  0.064152  2.091835  \n",
        "3  0.056843  Subsoil -0.332195 -0.318014 -0.577548 -0.318719  2.118477  \n",
        "4  0.056843  Topsoil -0.438350 -0.010210 -0.699135 -0.310905  2.164148  \n",
        "\n",
        "[5 rows x 3600 columns]"
       ]
      }
     ],
     "prompt_number": 5
    },
    {
     "cell_type": "code",
     "collapsed": false,
     "input": [
      "afsis_test_df.head()"
     ],
     "language": "python",
     "metadata": {},
     "outputs": [
      {
       "html": [
        "<div style=\"max-height:1000px;max-width:1500px;overflow:auto;\">\n",
        "<table border=\"1\" class=\"dataframe\">\n",
        "  <thead>\n",
        "    <tr style=\"text-align: right;\">\n",
        "      <th></th>\n",
        "      <th>PIDN</th>\n",
        "      <th>m7497.96</th>\n",
        "      <th>m7496.04</th>\n",
        "      <th>m7494.11</th>\n",
        "      <th>m7492.18</th>\n",
        "      <th>m7490.25</th>\n",
        "      <th>m7488.32</th>\n",
        "      <th>m7486.39</th>\n",
        "      <th>m7484.46</th>\n",
        "      <th>m7482.54</th>\n",
        "      <th>...</th>\n",
        "      <th>LSTD</th>\n",
        "      <th>LSTN</th>\n",
        "      <th>REF1</th>\n",
        "      <th>REF2</th>\n",
        "      <th>REF3</th>\n",
        "      <th>REF7</th>\n",
        "      <th>RELI</th>\n",
        "      <th>TMAP</th>\n",
        "      <th>TMFI</th>\n",
        "      <th>Depth</th>\n",
        "    </tr>\n",
        "  </thead>\n",
        "  <tbody>\n",
        "    <tr>\n",
        "      <th>0</th>\n",
        "      <td> 09gt9UK5</td>\n",
        "      <td> 0.210899</td>\n",
        "      <td> 0.209221</td>\n",
        "      <td> 0.207645</td>\n",
        "      <td> 0.208714</td>\n",
        "      <td> 0.211972</td>\n",
        "      <td> 0.213562</td>\n",
        "      <td> 0.211267</td>\n",
        "      <td> 0.208248</td>\n",
        "      <td> 0.207341</td>\n",
        "      <td>...</td>\n",
        "      <td>-0.009394</td>\n",
        "      <td> 0.197885</td>\n",
        "      <td>-0.622545</td>\n",
        "      <td>-0.548238</td>\n",
        "      <td>-0.637681</td>\n",
        "      <td>-0.413306</td>\n",
        "      <td>-0.130139</td>\n",
        "      <td> 0.154013</td>\n",
        "      <td>-0.033905</td>\n",
        "      <td> Subsoil</td>\n",
        "    </tr>\n",
        "    <tr>\n",
        "      <th>1</th>\n",
        "      <td> 0BVvxJ6a</td>\n",
        "      <td> 0.191650</td>\n",
        "      <td> 0.184120</td>\n",
        "      <td> 0.177070</td>\n",
        "      <td> 0.180624</td>\n",
        "      <td> 0.192343</td>\n",
        "      <td> 0.197502</td>\n",
        "      <td> 0.187655</td>\n",
        "      <td> 0.175447</td>\n",
        "      <td> 0.172639</td>\n",
        "      <td>...</td>\n",
        "      <td>-0.277944</td>\n",
        "      <td>-0.851643</td>\n",
        "      <td>-0.792000</td>\n",
        "      <td>-1.058442</td>\n",
        "      <td>-0.792961</td>\n",
        "      <td>-0.785786</td>\n",
        "      <td>-0.588855</td>\n",
        "      <td> 0.106200</td>\n",
        "      <td> 0.559694</td>\n",
        "      <td> Subsoil</td>\n",
        "    </tr>\n",
        "    <tr>\n",
        "      <th>2</th>\n",
        "      <td> 0KbdgApg</td>\n",
        "      <td> 0.083966</td>\n",
        "      <td> 0.074740</td>\n",
        "      <td> 0.065596</td>\n",
        "      <td> 0.069924</td>\n",
        "      <td> 0.085145</td>\n",
        "      <td> 0.092527</td>\n",
        "      <td> 0.080625</td>\n",
        "      <td> 0.064768</td>\n",
        "      <td> 0.060597</td>\n",
        "      <td>...</td>\n",
        "      <td>-0.443809</td>\n",
        "      <td>-0.628839</td>\n",
        "      <td>-0.754909</td>\n",
        "      <td>-0.926716</td>\n",
        "      <td>-0.865424</td>\n",
        "      <td>-0.607359</td>\n",
        "      <td>-0.334013</td>\n",
        "      <td>-0.021042</td>\n",
        "      <td> 0.182431</td>\n",
        "      <td> Topsoil</td>\n",
        "    </tr>\n",
        "    <tr>\n",
        "      <th>3</th>\n",
        "      <td> 0MnuuduB</td>\n",
        "      <td> 0.345962</td>\n",
        "      <td> 0.338567</td>\n",
        "      <td> 0.331786</td>\n",
        "      <td> 0.336948</td>\n",
        "      <td> 0.350820</td>\n",
        "      <td> 0.356365</td>\n",
        "      <td> 0.345285</td>\n",
        "      <td> 0.332233</td>\n",
        "      <td> 0.328589</td>\n",
        "      <td>...</td>\n",
        "      <td>-0.758853</td>\n",
        "      <td>-0.961080</td>\n",
        "      <td>-0.729455</td>\n",
        "      <td>-0.780148</td>\n",
        "      <td>-0.716356</td>\n",
        "      <td>-0.552923</td>\n",
        "      <td>-0.079171</td>\n",
        "      <td> 0.394936</td>\n",
        "      <td> 0.774477</td>\n",
        "      <td> Topsoil</td>\n",
        "    </tr>\n",
        "    <tr>\n",
        "      <th>4</th>\n",
        "      <td> 0PcIsF9z</td>\n",
        "      <td> 0.239019</td>\n",
        "      <td> 0.232611</td>\n",
        "      <td> 0.226266</td>\n",
        "      <td> 0.229921</td>\n",
        "      <td> 0.241821</td>\n",
        "      <td> 0.247756</td>\n",
        "      <td> 0.239242</td>\n",
        "      <td> 0.227977</td>\n",
        "      <td> 0.224762</td>\n",
        "      <td>...</td>\n",
        "      <td>-1.228289</td>\n",
        "      <td> 1.156914</td>\n",
        "      <td>-0.696727</td>\n",
        "      <td> 0.080705</td>\n",
        "      <td> 0.118012</td>\n",
        "      <td>-0.920363</td>\n",
        "      <td>-0.266055</td>\n",
        "      <td> 1.612625</td>\n",
        "      <td> 1.199048</td>\n",
        "      <td> Subsoil</td>\n",
        "    </tr>\n",
        "  </tbody>\n",
        "</table>\n",
        "<p>5 rows \u00d7 3595 columns</p>\n",
        "</div>"
       ],
       "metadata": {},
       "output_type": "pyout",
       "prompt_number": 6,
       "text": [
        "       PIDN  m7497.96  m7496.04  m7494.11  m7492.18  m7490.25  m7488.32  \\\n",
        "0  09gt9UK5  0.210899  0.209221  0.207645  0.208714  0.211972  0.213562   \n",
        "1  0BVvxJ6a  0.191650  0.184120  0.177070  0.180624  0.192343  0.197502   \n",
        "2  0KbdgApg  0.083966  0.074740  0.065596  0.069924  0.085145  0.092527   \n",
        "3  0MnuuduB  0.345962  0.338567  0.331786  0.336948  0.350820  0.356365   \n",
        "4  0PcIsF9z  0.239019  0.232611  0.226266  0.229921  0.241821  0.247756   \n",
        "\n",
        "   m7486.39  m7484.46  m7482.54    ...         LSTD      LSTN      REF1  \\\n",
        "0  0.211267  0.208248  0.207341    ...    -0.009394  0.197885 -0.622545   \n",
        "1  0.187655  0.175447  0.172639    ...    -0.277944 -0.851643 -0.792000   \n",
        "2  0.080625  0.064768  0.060597    ...    -0.443809 -0.628839 -0.754909   \n",
        "3  0.345285  0.332233  0.328589    ...    -0.758853 -0.961080 -0.729455   \n",
        "4  0.239242  0.227977  0.224762    ...    -1.228289  1.156914 -0.696727   \n",
        "\n",
        "       REF2      REF3      REF7      RELI      TMAP      TMFI    Depth  \n",
        "0 -0.548238 -0.637681 -0.413306 -0.130139  0.154013 -0.033905  Subsoil  \n",
        "1 -1.058442 -0.792961 -0.785786 -0.588855  0.106200  0.559694  Subsoil  \n",
        "2 -0.926716 -0.865424 -0.607359 -0.334013 -0.021042  0.182431  Topsoil  \n",
        "3 -0.780148 -0.716356 -0.552923 -0.079171  0.394936  0.774477  Topsoil  \n",
        "4  0.080705  0.118012 -0.920363 -0.266055  1.612625  1.199048  Subsoil  \n",
        "\n",
        "[5 rows x 3595 columns]"
       ]
      }
     ],
     "prompt_number": 6
    },
    {
     "cell_type": "code",
     "collapsed": false,
     "input": [],
     "language": "python",
     "metadata": {},
     "outputs": []
    },
    {
     "cell_type": "code",
     "collapsed": false,
     "input": [
      "output_columns = [one_col for one_col in afsis_train_df.columns if not one_col in afsis_test_df.columns]"
     ],
     "language": "python",
     "metadata": {},
     "outputs": [],
     "prompt_number": 7
    },
    {
     "cell_type": "code",
     "collapsed": false,
     "input": [
      "output_columns"
     ],
     "language": "python",
     "metadata": {},
     "outputs": [
      {
       "metadata": {},
       "output_type": "pyout",
       "prompt_number": 8,
       "text": [
        "['Ca', 'P', 'pH', 'SOC', 'Sand']"
       ]
      }
     ],
     "prompt_number": 8
    },
    {
     "cell_type": "code",
     "collapsed": false,
     "input": [
      "output_columns_arr = np.array(output_columns)"
     ],
     "language": "python",
     "metadata": {},
     "outputs": [],
     "prompt_number": 11
    },
    {
     "cell_type": "code",
     "collapsed": false,
     "input": [
      "afsis_train_tab = tools.df_to_orange_table(afsis_train_df,problem_type=\"regression\")"
     ],
     "language": "python",
     "metadata": {},
     "outputs": [],
     "prompt_number": 9
    },
    {
     "cell_type": "code",
     "collapsed": false,
     "input": [
      "afsis_train_tab.save(\"../orangetables/afsis_train.tab\")"
     ],
     "language": "python",
     "metadata": {},
     "outputs": [],
     "prompt_number": 10
    },
    {
     "cell_type": "code",
     "collapsed": false,
     "input": [],
     "language": "python",
     "metadata": {},
     "outputs": [],
     "prompt_number": 84
    },
    {
     "cell_type": "code",
     "collapsed": false,
     "input": [
      "for one_col in output_columns:\n",
      "    skip_cols = [xx for xx in output_columns_arr if xx != one_col]\n",
      "    afsis_train_tab = tools.df_to_orange_table(afsis_train_df,problem_type=\"regression\",\n",
      "                                               output_column=one_col,skip_columns=skip_cols)\n",
      "    afsis_train_tab.save(\"../orangetables/afsis_train_%s.tab\" % one_col)\n",
      "    "
     ],
     "language": "python",
     "metadata": {},
     "outputs": [],
     "prompt_number": 12
    },
    {
     "cell_type": "code",
     "collapsed": false,
     "input": [
      "afsis_test_tab = tools.df_to_orange_table(afsis_test_df,problem_type=\"regression\")\n",
      "afsis_test_tab.save(\"../orangetables/afsis_test.tab\")"
     ],
     "language": "python",
     "metadata": {},
     "outputs": [],
     "prompt_number": 13
    },
    {
     "cell_type": "code",
     "collapsed": false,
     "input": [],
     "language": "python",
     "metadata": {},
     "outputs": []
    }
   ],
   "metadata": {}
  }
 ]
}