{
 "metadata": {
  "celltoolbar": "Slideshow",
  "name": "",
  "signature": "sha256:fa92c0d0953049293cea71ae2b9c6ef3ed975756ff3b4031b3a818e7e3e25886"
 },
 "nbformat": 3,
 "nbformat_minor": 0,
 "worksheets": [
  {
   "cells": [
    {
     "cell_type": "markdown",
     "metadata": {
      "slideshow": {
       "slide_type": "slide"
      }
     },
     "source": [
      "# Welcome to Nano Data Analysis Camp !"
     ]
    },
    {
     "cell_type": "markdown",
     "metadata": {
      "slideshow": {
       "slide_type": "subslide"
      }
     },
     "source": [
      "# Here is ... \n",
      "- ## [Syllabus and References](https://docs.google.com/document/d/1INnwltIwSsWM_lr-pwqSKp0PunsfLuSwJ2xJau1ke7I/edit?usp=sharing)\n",
      "- ## [Github Project](https://github.com/c3h3/NANO-Data-Camp-201409)\n",
      "- ## [NBViewer URL](http://nbviewer.ipython.org/github/c3h3/NANO-Data-Camp-201409/tree/master/)"
     ]
    },
    {
     "cell_type": "markdown",
     "metadata": {
      "slideshow": {
       "slide_type": "slide"
      }
     },
     "source": [
      "# Play Kaggle With Orange\n",
      "\n",
      "## c3h3\n"
     ]
    },
    {
     "cell_type": "markdown",
     "metadata": {
      "slideshow": {
       "slide_type": "subslide"
      }
     },
     "source": [
      "# [What is Kaggle?](http://www.kaggle.com/)"
     ]
    },
    {
     "cell_type": "markdown",
     "metadata": {
      "slideshow": {
       "slide_type": "subslide"
      }
     },
     "source": [
      "# \u5206\u7d44\u6642\u9593 ... \n",
      "\n",
      "- ## \u8acb\u6bcf\u500b\u4eba\u90fd\u7533\u8acb\u597d Kaggle \u5e33\u865f\n",
      "- ## \u8acb\u5927\u5bb6 3~5 \u4eba\u4e00\u7d44\n"
     ]
    },
    {
     "cell_type": "markdown",
     "metadata": {
      "slideshow": {
       "slide_type": "slide"
      }
     },
     "source": [
      "#[What is Orange?](http://orange.biolab.si/)"
     ]
    },
    {
     "cell_type": "markdown",
     "metadata": {
      "slideshow": {
       "slide_type": "subslide"
      }
     },
     "source": [
      "# [COSCUP 2013] \u4e0d\u5beb\u7a0b\u5f0f\u4e5f\u53ef\u4ee5\u73a9 Data ----- Orange \u5957\u4ef6\u4f7f\u7528\u8207\u5916\u639b\u958b\u767c"
     ]
    },
    {
     "cell_type": "code",
     "collapsed": false,
     "input": [
      "from IPython.display import YouTubeVideo\n",
      "YouTubeVideo(\"escsixrqG6M\")"
     ],
     "language": "python",
     "metadata": {
      "slideshow": {
       "slide_type": "fragment"
      }
     },
     "outputs": [
      {
       "html": [
        "\n",
        "        <iframe\n",
        "            width=\"400\"\n",
        "            height=300\"\n",
        "            src=\"https://www.youtube.com/embed/escsixrqG6M\"\n",
        "            frameborder=\"0\"\n",
        "            allowfullscreen\n",
        "        ></iframe>\n",
        "        "
       ],
       "metadata": {},
       "output_type": "pyout",
       "prompt_number": 1,
       "text": [
        "<IPython.lib.display.YouTubeVideo at 0x7f04605a1550>"
       ]
      }
     ],
     "prompt_number": 1
    },
    {
     "cell_type": "markdown",
     "metadata": {
      "slideshow": {
       "slide_type": "subslide"
      }
     },
     "source": [
      "# MLDM Monday 20140714 Play Data with Orange"
     ]
    },
    {
     "cell_type": "code",
     "collapsed": false,
     "input": [
      "from IPython.display import YouTubeVideo\n",
      "YouTubeVideo(\"xt1_oXJtB3M\")\n"
     ],
     "language": "python",
     "metadata": {
      "slideshow": {
       "slide_type": "fragment"
      }
     },
     "outputs": [
      {
       "html": [
        "\n",
        "        <iframe\n",
        "            width=\"400\"\n",
        "            height=300\"\n",
        "            src=\"https://www.youtube.com/embed/xt1_oXJtB3M\"\n",
        "            frameborder=\"0\"\n",
        "            allowfullscreen\n",
        "        ></iframe>\n",
        "        "
       ],
       "metadata": {},
       "output_type": "pyout",
       "prompt_number": 2,
       "text": [
        "<IPython.lib.display.YouTubeVideo at 0x7f04605a1490>"
       ]
      }
     ],
     "prompt_number": 2
    },
    {
     "cell_type": "markdown",
     "metadata": {
      "slideshow": {
       "slide_type": "slide"
      }
     },
     "source": [
      "# \u4e0d\u56c9\u5506 ... \u7acb\u99ac Live Demo ... "
     ]
    },
    {
     "cell_type": "markdown",
     "metadata": {
      "slideshow": {
       "slide_type": "fragment"
      }
     },
     "source": [
      "# Play Kaggle With Orange"
     ]
    },
    {
     "cell_type": "markdown",
     "metadata": {
      "slideshow": {
       "slide_type": "subslide"
      }
     },
     "source": [
      "![](images/kaggle_submit.png)"
     ]
    },
    {
     "cell_type": "markdown",
     "metadata": {
      "slideshow": {
       "slide_type": "subslide"
      }
     },
     "source": [
      "![](images/convert_to_team.png)"
     ]
    },
    {
     "cell_type": "markdown",
     "metadata": {
      "slideshow": {
       "slide_type": "subslide"
      }
     },
     "source": [
      "# [\u4eca\u5929\u73a9\u7684 Data ... ](http://nbviewer.ipython.org/github/c3h3/NANO-Data-Camp-201409/blob/master/ipynbs/Demo__ConvertCsvToDataTable.ipynb)"
     ]
    },
    {
     "cell_type": "markdown",
     "metadata": {
      "slideshow": {
       "slide_type": "subslide"
      }
     },
     "source": [
      "# Matplotlib Reference:\n",
      "\n",
      "- ## [some ipynbs](http://nbviewer.ipython.org/github/c3h3/PyData-Notes/tree/master/trying_notes/visualization/)\n",
      "- ## [20140303 PyData - Visualization in Python (part I)](https://www.youtube.com/watch?v=9K3B3OYMtjY)\n",
      "- ## [20140616 Visualization with Python (part II) by c3h3 (MLDM Monday)](https://www.youtube.com/watch?v=XwPhk-2h9hM)"
     ]
    },
    {
     "cell_type": "markdown",
     "metadata": {
      "slideshow": {
       "slide_type": "slide"
      }
     },
     "source": [
      "# Breif Introduction to Data Science ... "
     ]
    },
    {
     "cell_type": "markdown",
     "metadata": {
      "slideshow": {
       "slide_type": "subslide"
      }
     },
     "source": [
      "# \u5f9e\u8cc7\u6599\u6d41\u7a0b\u9762\u4f86\u770b\uff1a"
     ]
    },
    {
     "cell_type": "markdown",
     "metadata": {
      "slideshow": {
       "slide_type": "fragment"
      }
     },
     "source": [
      "- ### [Collecting and Scraping Data](http://nbviewer.ipython.org/github/c3h3/NCCU-PyData-Courses-2013Spring/blob/master/Lecture1/crawler/Lecture2_WebCrawler.ipynb)"
     ]
    },
    {
     "cell_type": "markdown",
     "metadata": {
      "slideshow": {
       "slide_type": "fragment"
      }
     },
     "source": [
      "- ### [Cleaning Data & Features Generation](http://nbviewer.ipython.org/github/c3h3/PyData-Notes/blob/master/pycontw2014/playdata/preprocessing/DataPreprocessing.ipynb)\n"
     ]
    },
    {
     "cell_type": "markdown",
     "metadata": {
      "slideshow": {
       "slide_type": "fragment"
      }
     },
     "source": [
      "- # [Machine Learning and Data Mining](http://www.meetup.com/Taiwan-R/)"
     ]
    },
    {
     "cell_type": "markdown",
     "metadata": {
      "slideshow": {
       "slide_type": "subslide"
      }
     },
     "source": [
      "# What is Data ?"
     ]
    },
    {
     "cell_type": "markdown",
     "metadata": {
      "slideshow": {
       "slide_type": "subslide"
      }
     },
     "source": [
      "# Data \u7684\u50f9\u503c\u53d6\u6c7a\u65bc ... \uff1f"
     ]
    },
    {
     "cell_type": "markdown",
     "metadata": {
      "slideshow": {
       "slide_type": "fragment"
      }
     },
     "source": [
      "- ## Network Effect"
     ]
    },
    {
     "cell_type": "markdown",
     "metadata": {
      "slideshow": {
       "slide_type": "fragment"
      }
     },
     "source": [
      "- ## Solve Real Problems ..."
     ]
    },
    {
     "cell_type": "markdown",
     "metadata": {
      "slideshow": {
       "slide_type": "subslide"
      }
     },
     "source": [
      "# \u5169\u7a2e\u4e0d\u540c\u578b\u614b\u7684\u554f\u984c\u8207\u5de5\u5177 ..."
     ]
    },
    {
     "cell_type": "markdown",
     "metadata": {
      "slideshow": {
       "slide_type": "slide"
      }
     },
     "source": [
      "# Top-Down"
     ]
    },
    {
     "cell_type": "markdown",
     "metadata": {
      "slideshow": {
       "slide_type": "fragment"
      }
     },
     "source": [
      "- ## \u60f3\u89e3\u6c7a\u7684\u554f\u984c\u5f88\u660e\u78ba\n"
     ]
    },
    {
     "cell_type": "markdown",
     "metadata": {
      "slideshow": {
       "slide_type": "fragment"
      }
     },
     "source": [
      "- ## \u7531\u4e0a\u800c\u4e0b\uff0c\u5c07\u771f\u5be6\u554f\u984c\u5206\u89e3\u6216\u8f49\u63db\u6210\u6578\u5b78\u554f\u984c\n"
     ]
    },
    {
     "cell_type": "markdown",
     "metadata": {
      "slideshow": {
       "slide_type": "fragment"
      }
     },
     "source": [
      "- ## \u518d\u5c07\u5404\u500b\u5927\u578b\u554f\u984c\u5207\u5c0f\u89e3\u6c7a"
     ]
    },
    {
     "cell_type": "markdown",
     "metadata": {
      "slideshow": {
       "slide_type": "subslide"
      }
     },
     "source": [
      "# Button-Up"
     ]
    },
    {
     "cell_type": "markdown",
     "metadata": {
      "slideshow": {
       "slide_type": "fragment"
      }
     },
     "source": [
      "- ## \u6c92\u6709\u4e00\u500b\u660e\u78ba\u7684\u65b9\u5411\u8981\u63a2\u7d22\u6216\u78ba\u5b9a\u7684\u554f\u984c\u8981\u89e3"
     ]
    },
    {
     "cell_type": "markdown",
     "metadata": {
      "slideshow": {
       "slide_type": "fragment"
      }
     },
     "source": [
      "- ## \u900f\u7531\u4e0d\u540c\u9762\u5411\u7684\u5c0f\u554f\u984c\u63a2\u7d22\uff0c\u4f86\u4e86\u89e3\u8207\u8a8d\u8b58 data"
     ]
    },
    {
     "cell_type": "markdown",
     "metadata": {
      "slideshow": {
       "slide_type": "fragment"
      }
     },
     "source": [
      "- ## \u63a2\u7d22\u662f\u5206\u6790\uff1a\u6709\u4e00\u6b65\uff0c\u554f\u4e00\u6b65\uff1b\u554f\u4e00\u6b65\uff0c\u8d70\u4e00\u6b65\n"
     ]
    },
    {
     "cell_type": "markdown",
     "metadata": {
      "slideshow": {
       "slide_type": "subslide"
      }
     },
     "source": [
      "### \u95dc\u65bc\u8cc7\u6599\u5206\u6790\u7684\u6982\u5ff5\u8207\u85cd\u5716 ..."
     ]
    },
    {
     "cell_type": "markdown",
     "metadata": {
      "slideshow": {
       "slide_type": "fragment"
      }
     },
     "source": [
      "### \u66f4\u591a\u8a73\u7d30\u7684\u8aaa\u660e ... \u5c07\u5728\u7b2c\u4e09\u5929\u4e0b\u5348 Session \u8aaa\u660e\u8207\u8a0e\u8ad6 ... "
     ]
    },
    {
     "cell_type": "markdown",
     "metadata": {
      "slideshow": {
       "slide_type": "fragment"
      }
     },
     "source": [
      "### \u524d\u5169\u5929\u534a ... \u6211\u5011\u5e0c\u671b\u5927\u5bb6\u80fd\u82b1\u66f4\u591a\u7684\u6642\u9593 ..."
     ]
    },
    {
     "cell_type": "markdown",
     "metadata": {
      "slideshow": {
       "slide_type": "fragment"
      }
     },
     "source": [
      "# \u52d5\u624b\u73a9 Data ... "
     ]
    },
    {
     "cell_type": "markdown",
     "metadata": {
      "slideshow": {
       "slide_type": "slide"
      }
     },
     "source": [
      "# Introdution to Supervised Learning "
     ]
    },
    {
     "cell_type": "markdown",
     "metadata": {
      "slideshow": {
       "slide_type": "fragment"
      }
     },
     "source": [
      "# with Playing Data ... (live demo)"
     ]
    },
    {
     "cell_type": "markdown",
     "metadata": {
      "slideshow": {
       "slide_type": "subslide"
      }
     },
     "source": [
      "# [Supervised Learning](https://www.udacity.com/course/ud675):\n",
      "\n",
      "- ## Classification\n",
      "- ## Regression"
     ]
    },
    {
     "cell_type": "markdown",
     "metadata": {
      "slideshow": {
       "slide_type": "slide"
      }
     },
     "source": [
      "# Introdution to Unsupervised Learning "
     ]
    },
    {
     "cell_type": "markdown",
     "metadata": {
      "slideshow": {
       "slide_type": "fragment"
      }
     },
     "source": [
      "# with Playing Data ... (live demo)"
     ]
    },
    {
     "cell_type": "markdown",
     "metadata": {
      "slideshow": {
       "slide_type": "subslide"
      }
     },
     "source": [
      "# [Unsupervised Learning](https://www.udacity.com/course/ud741):\n",
      "\n",
      "- ## Dimension Reduction & Low Rank Approximation\n",
      "    * [ref1:tensor completion](https://www.youtube.com/watch?v=aRyJV9uqWy8)\n",
      "    * [ref2](https://c3h3notes.wordpress.com/2010/10/29/introduction-to-dimension-reduction/)\n",
      "    * [ref3](http://nbviewer.ipython.org/github/c3h3/PyData-Notes/blob/master/pycontw2014/playdata/preprocessing/DataPreprocessing.ipynb#exercise-features-pca-)\n",
      "- ## [Clustering](http://scikit-learn.org/stable/auto_examples/cluster/plot_cluster_comparison.html)"
     ]
    },
    {
     "cell_type": "markdown",
     "metadata": {
      "slideshow": {
       "slide_type": "slide"
      }
     },
     "source": [
      "# Referene:\n",
      "\n",
      "- ## [2014 PyCon APAC PlaY Data Tutorial](http://pycontw.kktix.cc/events/play-data)\n",
      "- ## [What is Data ? / DigiTimes Talk Slides](http://nbviewer.ipython.org/github/c3h3/c3h3talks/blob/master/DIGITIMES_20140424/Slides.ipynb)"
     ]
    }
   ],
   "metadata": {}
  }
 ]
}