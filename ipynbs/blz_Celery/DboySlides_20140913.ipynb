{
 "metadata": {
  "name": "",
  "signature": "sha256:9d35bd41aeb9d1b57cd08d79d0c182ac886e3badcc8148f6b641fb05bd560f00"
 },
 "nbformat": 3,
 "nbformat_minor": 0,
 "worksheets": [
  {
   "cells": [
    {
     "cell_type": "markdown",
     "metadata": {
      "slideshow": {
       "slide_type": "slide"
      }
     },
     "source": [
      "# Large Scale Mining Strategies & Tools (Part 1)"
     ]
    },
    {
     "cell_type": "markdown",
     "metadata": {
      "slideshow": {
       "slide_type": "subslide"
      }
     },
     "source": [
      "## Large scale!? How large?\n",
      "\n",
      "<font size = \"4\" color=#B98435>\n",
      "We will use the data in this <a href=http://www.kaggle.com/c/criteo-display-ad-challenge>kaggle</a> competetion. <br>\n",
      "Before we move on, let's take a peek on the data.\n",
      "</font>"
     ]
    },
    {
     "cell_type": "code",
     "collapsed": false,
     "input": [
      "import blz\n",
      "import numpy as np\n",
      "\n",
      "%time Id_test = blz.open(\"/Users/DboyLiao/Documents/kaggle/DisplayAdvertisingChallenge/data/test_blzs/Id\")\n",
      "%time Id_train = blz.open(\"/Users/DboyLiao/Documents/kaggle/DisplayAdvertisingChallenge/data/train_blzs/Id\")"
     ],
     "language": "python",
     "metadata": {
      "slideshow": {
       "slide_type": "fragment"
      }
     },
     "outputs": [
      {
       "output_type": "stream",
       "stream": "stdout",
       "text": [
        "CPU times: user 649 \u00b5s, sys: 426 \u00b5s, total: 1.08 ms\n",
        "Wall time: 1.08 ms\n",
        "CPU times: user 525 \u00b5s, sys: 508 \u00b5s, total: 1.03 ms\n",
        "Wall time: 715 \u00b5s\n"
       ]
      }
     ],
     "prompt_number": 1
    },
    {
     "cell_type": "code",
     "collapsed": false,
     "input": [
      "print \"Train set size:\", len(Id_train)\n",
      "print \"Test set size:\", len(Id_test)"
     ],
     "language": "python",
     "metadata": {
      "slideshow": {
       "slide_type": "fragment"
      }
     },
     "outputs": [
      {
       "output_type": "stream",
       "stream": "stdout",
       "text": [
        "Train set size: 45840617\n",
        "Test set size: 6042135\n"
       ]
      }
     ],
     "prompt_number": 2
    },
    {
     "cell_type": "markdown",
     "metadata": {},
     "source": [
      "<font size=\"4\" color=\"red\">Load BIG data fast!</font>"
     ]
    },
    {
     "cell_type": "markdown",
     "metadata": {
      "slideshow": {
       "slide_type": "subslide"
      }
     },
     "source": [
      "# Large Scale Mining Strategies & Tools"
     ]
    },
    {
     "cell_type": "markdown",
     "metadata": {
      "slideshow": {
       "slide_type": "fragment"
      }
     },
     "source": [
      "  <br>\n",
      "<font size=\"4\" color=#B98435>\n",
      "Ok...I know the data sets are <strong><font color=\"red\">LARGE.</font></strong><br>\n",
      "What's wrong with that?\n",
      "</font>"
     ]
    },
    {
     "cell_type": "markdown",
     "metadata": {
      "slideshow": {
       "slide_type": "fragment"
      }
     },
     "source": [
      "- <font size=\"4\">Space?</font>"
     ]
    },
    {
     "cell_type": "markdown",
     "metadata": {
      "slideshow": {
       "slide_type": "fragment"
      }
     },
     "source": [
      "- <font size=\"4\">Time?</font>"
     ]
    },
    {
     "cell_type": "markdown",
     "metadata": {
      "slideshow": {
       "slide_type": "fragment"
      }
     },
     "source": [
      "- <font size=\"4\">Anything else?</font>"
     ]
    },
    {
     "cell_type": "markdown",
     "metadata": {
      "slideshow": {
       "slide_type": "subslide"
      }
     },
     "source": [
      "<font face=\"verdana\" size=\"4\">\n",
      "Here comes one important question: <br>\n",
      "</font>"
     ]
    },
    {
     "cell_type": "markdown",
     "metadata": {
      "slideshow": {
       "slide_type": "fragment"
      }
     },
     "source": [
      "<font face=\"verdana\" size=\"4\">\n",
      "<font color=\"red\">What will you do?</font>\n",
      "</font>"
     ]
    },
    {
     "cell_type": "markdown",
     "metadata": {
      "slideshow": {
       "slide_type": "fragment"
      }
     },
     "source": [
      "<font size=\"4\">\n",
      "Or.....What can you do?\n",
      "</font>\n",
      "\n",
      "- endlessly upgrade your device?\n",
      "- numpy and scipy?\n",
      "- any better solution?"
     ]
    },
    {
     "cell_type": "markdown",
     "metadata": {
      "slideshow": {
       "slide_type": "slide"
      }
     },
     "source": [
      "## Useful Tools"
     ]
    },
    {
     "cell_type": "markdown",
     "metadata": {
      "slideshow": {
       "slide_type": "fragment"
      }
     },
     "source": [
      "# What I Will Demo Today. (blz and celery)"
     ]
    },
    {
     "cell_type": "markdown",
     "metadata": {
      "slideshow": {
       "slide_type": "fragment"
      }
     },
     "source": [
      "- <font size=\"4\"><font color=\"green\">barray</font> in <font color=#4630C4 >blz</font> package.</font>\n",
      "- <font size=\"4\"><font color=\"green\">btable</font> in <font color=#4630C4 >blz</font> package.</font>\n",
      "- <font size=\"4\">How to deploy <font color=\"red\">celery</font> on your computer.</font>"
     ]
    },
    {
     "cell_type": "markdown",
     "metadata": {
      "slideshow": {
       "slide_type": "subslide"
      }
     },
     "source": [
      "# BLZ: barray\n",
      "<br>\n",
      "<font size=\"4\">\n",
      "<a href=http://blz.pydata.org/blz-manual/>The Manual</a>\n",
      "</font>"
     ]
    },
    {
     "cell_type": "markdown",
     "metadata": {
      "slideshow": {
       "slide_type": "fragment"
      }
     },
     "source": [
      "<font size=\"4\">\n",
      "Ok....I see no one want to read THAT.\n",
      "</font>\n",
      "<br>\n",
      "<font color=#B98435 size=\"4\">\n",
      "Let's take a look of some examples!\n",
      "</font>"
     ]
    },
    {
     "cell_type": "markdown",
     "metadata": {
      "slideshow": {
       "slide_type": "subslide"
      }
     },
     "source": [
      "<font color=#30C469 size=\"4\">\n",
      "Example 1: build a barray!\n",
      "</font>"
     ]
    },
    {
     "cell_type": "code",
     "collapsed": false,
     "input": [
      "my_array = blz.barray([i for i in range(1000000)])"
     ],
     "language": "python",
     "metadata": {
      "slideshow": {
       "slide_type": "fragment"
      }
     },
     "outputs": [],
     "prompt_number": 3
    },
    {
     "cell_type": "code",
     "collapsed": false,
     "input": [
      "my_array"
     ],
     "language": "python",
     "metadata": {
      "slideshow": {
       "slide_type": "fragment"
      }
     },
     "outputs": [
      {
       "metadata": {},
       "output_type": "pyout",
       "prompt_number": 4,
       "text": [
        "barray((1000000,), int64)\n",
        "  nbytes: 7.63 MB; cbytes: 172.30 KB; ratio: 45.34\n",
        "  bparams := bparams(clevel=5, shuffle=True, cname=blosclz)\n",
        "[     0      1      2 ..., 999997 999998 999999]"
       ]
      }
     ],
     "prompt_number": 4
    },
    {
     "cell_type": "markdown",
     "metadata": {
      "slideshow": {
       "slide_type": "fragment"
      }
     },
     "source": [
      "<font face=\"verdana\" size=\"4\" color=#B98435>\n",
      "As you can see here, the compression rate, ratio, is really high, <br>\n",
      "which makes _barray_ be really good at handling BIG data.\n",
      "</font>"
     ]
    },
    {
     "cell_type": "markdown",
     "metadata": {
      "slideshow": {
       "slide_type": "subslide"
      }
     },
     "source": [
      "<font size=\"4\">\n",
      "Here we can see that a _barray_ has following attributes:\n",
      "</font>"
     ]
    },
    {
     "cell_type": "markdown",
     "metadata": {
      "slideshow": {
       "slide_type": "fragment"
      }
     },
     "source": [
      "- <font size=\"4\">nbytes: The original (uncompressed) size of this object (in bytes).</font>\n",
      "- <font size=\"4\">cbytes: The compressed size of this object (in bytes).</font>\n",
      "- <font size=\"4\">dtype: The NumPy dtype for this object.</font>\n",
      "- <font size=\"4\">many others....</font>"
     ]
    },
    {
     "cell_type": "code",
     "collapsed": false,
     "input": [
      "my_array.nbytes"
     ],
     "language": "python",
     "metadata": {
      "slideshow": {
       "slide_type": "fragment"
      }
     },
     "outputs": [
      {
       "metadata": {},
       "output_type": "pyout",
       "prompt_number": 5,
       "text": [
        "8000000"
       ]
      }
     ],
     "prompt_number": 5
    },
    {
     "cell_type": "code",
     "collapsed": false,
     "input": [
      "my_array.cbytes"
     ],
     "language": "python",
     "metadata": {
      "slideshow": {
       "slide_type": "fragment"
      }
     },
     "outputs": [
      {
       "metadata": {},
       "output_type": "pyout",
       "prompt_number": 6,
       "text": [
        "176434"
       ]
      }
     ],
     "prompt_number": 6
    },
    {
     "cell_type": "code",
     "collapsed": false,
     "input": [
      "my_array.dtype"
     ],
     "language": "python",
     "metadata": {
      "slideshow": {
       "slide_type": "fragment"
      }
     },
     "outputs": [
      {
       "metadata": {},
       "output_type": "pyout",
       "prompt_number": 7,
       "text": [
        "dtype('int64')"
       ]
      }
     ],
     "prompt_number": 7
    },
    {
     "cell_type": "code",
     "collapsed": false,
     "input": [
      "print my_array.__doc__"
     ],
     "language": "python",
     "metadata": {
      "slideshow": {
       "slide_type": "subslide"
      }
     },
     "outputs": [
      {
       "output_type": "stream",
       "stream": "stdout",
       "text": [
        "\n",
        "  barray(array, bparams=None, dtype=None, dflt=None, expectedlen=None, chunklen=None, rootdir=None, mode='a')\n",
        "\n",
        "  A compressed and enlargeable in-memory data container.\n",
        "\n",
        "  `barray` exposes a series of methods for dealing with the compressed\n",
        "  container in a NumPy-like way.\n",
        "\n",
        "  Parameters\n",
        "  ----------\n",
        "  array : a NumPy-like object\n",
        "      This is taken as the input to create the barray.  It can be any Python\n",
        "      object that can be converted into a NumPy object.  The data type of\n",
        "      the resulting barray will be the same as this NumPy object.\n",
        "  bparams : instance of the `bparams` class, optional\n",
        "      Parameters to the internal Blosc compressor.\n",
        "  dtype : NumPy dtype\n",
        "      Force this `dtype` for the barray (rather than the `array` one).\n",
        "  dflt : Python or NumPy scalar\n",
        "      The value to be used when enlarging the barray.  If None, the default is\n",
        "      filling with zeros.\n",
        "  expectedlen : int, optional\n",
        "      A guess on the expected length of this object.  This will serve to\n",
        "      decide the best `chunklen` used for compression and memory I/O\n",
        "      purposes.\n",
        "  chunklen : int, optional\n",
        "      The number of items that fits into a chunk.  By specifying it you can\n",
        "      explicitely set the chunk size used for compression and memory I/O.\n",
        "      Only use it if you know what are you doing.\n",
        "  rootdir : str, optional\n",
        "      The directory where all the data and metadata will be stored.  If\n",
        "      specified, then the barray object will be disk-based (i.e. all chunks\n",
        "      will live on-disk, not in memory) and persistent (i.e. it can be\n",
        "      restored in other session, e.g. via the `open()` top-level function).\n",
        "  mode : str, optional\n",
        "      The mode that a *persistent* barray should be created/opened.  The\n",
        "      values can be:\n",
        "\n",
        "        * 'r' for read-only\n",
        "        * 'w' for read/write.  During barray creation, the `rootdir` will be\n",
        "          removed if it exists.  During barray opening, the barray will be\n",
        "          resized to 0.\n",
        "        * 'a' for append (possible data inside `rootdir` will not be removed).\n",
        "\n",
        "  \n"
       ]
      }
     ],
     "prompt_number": 8
    },
    {
     "cell_type": "markdown",
     "metadata": {
      "slideshow": {
       "slide_type": "subslide"
      }
     },
     "source": [
      "<font size=\"4\" color=#3066C4>\n",
      "You may wonder how it can do this. <br>\n",
      "Please refer to this <a href=http://continuum.io/blog/blz-format>document</a>.\n",
      "</font>\n",
      "  <br>"
     ]
    },
    {
     "cell_type": "markdown",
     "metadata": {
      "slideshow": {
       "slide_type": "subslide"
      }
     },
     "source": [
      "<font color=#30C469 size=\"4\">\n",
      "Example 2: Convert a barray into numpy ndarray!\n",
      "</font>"
     ]
    },
    {
     "cell_type": "code",
     "collapsed": false,
     "input": [
      "my_array_freg = my_array[369:10000]\n",
      "my_array_freg"
     ],
     "language": "python",
     "metadata": {
      "slideshow": {
       "slide_type": "fragment"
      }
     },
     "outputs": [
      {
       "metadata": {},
       "output_type": "pyout",
       "prompt_number": 9,
       "text": [
        "array([ 369,  370,  371, ..., 9997, 9998, 9999])"
       ]
      }
     ],
     "prompt_number": 9
    },
    {
     "cell_type": "code",
     "collapsed": false,
     "input": [
      "type(my_array_freg)"
     ],
     "language": "python",
     "metadata": {
      "slideshow": {
       "slide_type": "fragment"
      }
     },
     "outputs": [
      {
       "metadata": {},
       "output_type": "pyout",
       "prompt_number": 10,
       "text": [
        "numpy.ndarray"
       ]
      }
     ],
     "prompt_number": 10
    },
    {
     "cell_type": "code",
     "collapsed": false,
     "input": [
      "my_array.dtype"
     ],
     "language": "python",
     "metadata": {
      "slideshow": {
       "slide_type": "fragment"
      }
     },
     "outputs": [
      {
       "metadata": {},
       "output_type": "pyout",
       "prompt_number": 11,
       "text": [
        "dtype('int64')"
       ]
      }
     ],
     "prompt_number": 11
    },
    {
     "cell_type": "markdown",
     "metadata": {
      "slideshow": {
       "slide_type": "slide"
      }
     },
     "source": [
      "# BLZ: btable"
     ]
    },
    {
     "cell_type": "markdown",
     "metadata": {
      "slideshow": {
       "slide_type": "subslide"
      }
     },
     "source": [
      "<font color=#30C469 size=\"4\">\n",
      "Example 1: build a btable!\n",
      "</font>\n",
      "<br>"
     ]
    },
    {
     "cell_type": "code",
     "collapsed": false,
     "input": [
      "import random\n",
      "Id = np.array([ind + 1 for ind in range(30)])\n",
      "Math = np.array([100*random.random() for ind in range(30)])"
     ],
     "language": "python",
     "metadata": {
      "slideshow": {
       "slide_type": "fragment"
      }
     },
     "outputs": [],
     "prompt_number": 12
    },
    {
     "cell_type": "code",
     "collapsed": false,
     "input": [
      "columns = [Id, Math]\n",
      "names = [\"Id\", \"Math\"]\n",
      "score_table = blz.btable(columns = columns, names = names)"
     ],
     "language": "python",
     "metadata": {
      "slideshow": {
       "slide_type": "fragment"
      }
     },
     "outputs": [],
     "prompt_number": 13
    },
    {
     "cell_type": "code",
     "collapsed": false,
     "input": [
      "score_table"
     ],
     "language": "python",
     "metadata": {
      "slideshow": {
       "slide_type": "fragment"
      }
     },
     "outputs": [
      {
       "metadata": {},
       "output_type": "pyout",
       "prompt_number": 14,
       "text": [
        "btable((30,), [('Id', '<i8'), ('Math', '<f8')])\n",
        "  nbytes: 480; cbytes: 16.00 KB; ratio: 0.03\n",
        "  bparams := bparams(clevel=5, shuffle=True, cname=blosclz)\n",
        "[(1, 31.438816569622695) (2, 68.54415382193856) (3, 64.8522272352685)\n",
        " (4, 83.13992364391062) (5, 34.49301782761991) (6, 76.6977166169982)\n",
        " (7, 4.810000218737165) (8, 45.91701150323537) (9, 65.5296572509581)\n",
        " (10, 75.9236662014381) (11, 95.34635026021492) (12, 16.52822367022331)\n",
        " (13, 67.63340988822333) (14, 11.761980712494113) (15, 67.00554454235647)\n",
        " (16, 93.75299207877968) (17, 83.62934657653963) (18, 94.2866248562066)\n",
        " (19, 29.06775088536625) (20, 48.27057146174709) (21, 0.23575510804576538)\n",
        " (22, 55.60442227880558) (23, 67.70644318348519) (24, 64.28070718241692)\n",
        " (25, 74.37595270796183) (26, 72.4563835854669) (27, 87.50669977685034)\n",
        " (28, 51.4124523962486) (29, 55.23453491403395) (30, 84.32052790050209)]"
       ]
      }
     ],
     "prompt_number": 14
    },
    {
     "cell_type": "code",
     "collapsed": false,
     "input": [
      "score_table[1:5]"
     ],
     "language": "python",
     "metadata": {
      "slideshow": {
       "slide_type": "subslide"
      }
     },
     "outputs": [
      {
       "metadata": {},
       "output_type": "pyout",
       "prompt_number": 15,
       "text": [
        "array([(2, 68.54415382193856), (3, 64.8522272352685),\n",
        "       (4, 83.13992364391062), (5, 34.49301782761991)], \n",
        "      dtype=[('Id', '<i8'), ('Math', '<f8')])"
       ]
      }
     ],
     "prompt_number": 15
    },
    {
     "cell_type": "code",
     "collapsed": false,
     "input": [
      "score_table[\"Id\"][:]"
     ],
     "language": "python",
     "metadata": {
      "slideshow": {
       "slide_type": "fragment"
      }
     },
     "outputs": [
      {
       "metadata": {},
       "output_type": "pyout",
       "prompt_number": 16,
       "text": [
        "array([ 1,  2,  3,  4,  5,  6,  7,  8,  9, 10, 11, 12, 13, 14, 15, 16, 17,\n",
        "       18, 19, 20, 21, 22, 23, 24, 25, 26, 27, 28, 29, 30])"
       ]
      }
     ],
     "prompt_number": 16
    },
    {
     "cell_type": "code",
     "collapsed": false,
     "input": [
      "score_table[\"Math\"][:]"
     ],
     "language": "python",
     "metadata": {
      "slideshow": {
       "slide_type": "fragment"
      }
     },
     "outputs": [
      {
       "metadata": {},
       "output_type": "pyout",
       "prompt_number": 17,
       "text": [
        "array([ 31.43881657,  68.54415382,  64.85222724,  83.13992364,\n",
        "        34.49301783,  76.69771662,   4.81000022,  45.9170115 ,\n",
        "        65.52965725,  75.9236662 ,  95.34635026,  16.52822367,\n",
        "        67.63340989,  11.76198071,  67.00554454,  93.75299208,\n",
        "        83.62934658,  94.28662486,  29.06775089,  48.27057146,\n",
        "         0.23575511,  55.60442228,  67.70644318,  64.28070718,\n",
        "        74.37595271,  72.45638359,  87.50669978,  51.4124524 ,\n",
        "        55.23453491,  84.3205279 ])"
       ]
      }
     ],
     "prompt_number": 17
    },
    {
     "cell_type": "markdown",
     "metadata": {
      "slideshow": {
       "slide_type": "subslide"
      }
     },
     "source": [
      "<font size=\"4\" color=#3066C4>\n",
      "Fancy Indexing\n",
      "</font>"
     ]
    },
    {
     "cell_type": "code",
     "collapsed": false,
     "input": [
      "score_table[[1, 10, 2]]"
     ],
     "language": "python",
     "metadata": {
      "slideshow": {
       "slide_type": "fragment"
      }
     },
     "outputs": [
      {
       "metadata": {},
       "output_type": "pyout",
       "prompt_number": 18,
       "text": [
        "array([(2, 68.54415382193856), (11, 95.34635026021492),\n",
        "       (3, 64.8522272352685)], \n",
        "      dtype=[('Id', '<i8'), ('Math', '<f8')])"
       ]
      }
     ],
     "prompt_number": 18
    },
    {
     "cell_type": "code",
     "collapsed": false,
     "input": [
      "score_table[\"(Id > 10) & (Math >=70)\"]"
     ],
     "language": "python",
     "metadata": {
      "slideshow": {
       "slide_type": "fragment"
      }
     },
     "outputs": [
      {
       "metadata": {},
       "output_type": "pyout",
       "prompt_number": 19,
       "text": [
        "array([(11, 95.34635026021492), (16, 93.75299207877968),\n",
        "       (17, 83.62934657653963), (18, 94.2866248562066),\n",
        "       (25, 74.37595270796183), (26, 72.4563835854669),\n",
        "       (27, 87.50669977685034), (30, 84.32052790050209)], \n",
        "      dtype=[('Id', '<i8'), ('Math', '<f8')])"
       ]
      }
     ],
     "prompt_number": 19
    },
    {
     "cell_type": "markdown",
     "metadata": {
      "slideshow": {
       "slide_type": "subslide"
      }
     },
     "source": [
      "<font size=\"4\" color=#3066C4>\n",
      "Add and Delete Column\n",
      "</font>"
     ]
    },
    {
     "cell_type": "code",
     "collapsed": false,
     "input": [
      "Eng = np.array([40 * random.random() + 60 for ind in range(30)])"
     ],
     "language": "python",
     "metadata": {
      "slideshow": {
       "slide_type": "fragment"
      }
     },
     "outputs": [],
     "prompt_number": 20
    },
    {
     "cell_type": "code",
     "collapsed": false,
     "input": [
      "score_table.addcol(Eng, name=\"Eng\")"
     ],
     "language": "python",
     "metadata": {
      "slideshow": {
       "slide_type": "fragment"
      }
     },
     "outputs": [],
     "prompt_number": 21
    },
    {
     "cell_type": "code",
     "collapsed": false,
     "input": [
      "score_table[:10]"
     ],
     "language": "python",
     "metadata": {
      "slideshow": {
       "slide_type": "fragment"
      }
     },
     "outputs": [
      {
       "metadata": {},
       "output_type": "pyout",
       "prompt_number": 22,
       "text": [
        "array([(1, 31.438816569622695, 74.16345474130955),\n",
        "       (2, 68.54415382193856, 69.73822976040105),\n",
        "       (3, 64.8522272352685, 95.18246167470821),\n",
        "       (4, 83.13992364391062, 81.45515538999379),\n",
        "       (5, 34.49301782761991, 62.641489962938934),\n",
        "       (6, 76.6977166169982, 73.72012190497242),\n",
        "       (7, 4.810000218737165, 92.88846127840065),\n",
        "       (8, 45.91701150323537, 93.09626002479422),\n",
        "       (9, 65.5296572509581, 78.21692108619882),\n",
        "       (10, 75.9236662014381, 72.71831230228113)], \n",
        "      dtype=[('Id', '<i8'), ('Math', '<f8'), ('Eng', '<f8')])"
       ]
      }
     ],
     "prompt_number": 22
    },
    {
     "cell_type": "code",
     "collapsed": false,
     "input": [
      "score_table.delcol(\"Eng\")\n",
      "score_table"
     ],
     "language": "python",
     "metadata": {
      "slideshow": {
       "slide_type": "subslide"
      }
     },
     "outputs": [
      {
       "metadata": {},
       "output_type": "pyout",
       "prompt_number": 23,
       "text": [
        "btable((30,), [('Id', '<i8'), ('Math', '<f8')])\n",
        "  nbytes: 480; cbytes: 16.00 KB; ratio: 0.03\n",
        "  bparams := bparams(clevel=5, shuffle=True, cname=blosclz)\n",
        "[(1, 31.438816569622695) (2, 68.54415382193856) (3, 64.8522272352685)\n",
        " (4, 83.13992364391062) (5, 34.49301782761991) (6, 76.6977166169982)\n",
        " (7, 4.810000218737165) (8, 45.91701150323537) (9, 65.5296572509581)\n",
        " (10, 75.9236662014381) (11, 95.34635026021492) (12, 16.52822367022331)\n",
        " (13, 67.63340988822333) (14, 11.761980712494113) (15, 67.00554454235647)\n",
        " (16, 93.75299207877968) (17, 83.62934657653963) (18, 94.2866248562066)\n",
        " (19, 29.06775088536625) (20, 48.27057146174709) (21, 0.23575510804576538)\n",
        " (22, 55.60442227880558) (23, 67.70644318348519) (24, 64.28070718241692)\n",
        " (25, 74.37595270796183) (26, 72.4563835854669) (27, 87.50669977685034)\n",
        " (28, 51.4124523962486) (29, 55.23453491403395) (30, 84.32052790050209)]"
       ]
      }
     ],
     "prompt_number": 23
    },
    {
     "cell_type": "markdown",
     "metadata": {
      "slideshow": {
       "slide_type": "subslide"
      }
     },
     "source": [
      "<font size=\"4\" color=#3066C4>\n",
      "Iteration Over btable\n",
      "</font>"
     ]
    },
    {
     "cell_type": "code",
     "collapsed": false,
     "input": [
      "for student in score_table:\n",
      "    print student"
     ],
     "language": "python",
     "metadata": {
      "slideshow": {
       "slide_type": "fragment"
      }
     },
     "outputs": [
      {
       "output_type": "stream",
       "stream": "stdout",
       "text": [
        "row(Id=1, Math=31.438816569622695)\n",
        "row(Id=2, Math=68.54415382193856)\n",
        "row(Id=3, Math=64.8522272352685)\n",
        "row(Id=4, Math=83.13992364391062)\n",
        "row(Id=5, Math=34.49301782761991)\n",
        "row(Id=6, Math=76.6977166169982)\n",
        "row(Id=7, Math=4.810000218737165)\n",
        "row(Id=8, Math=45.91701150323537)\n",
        "row(Id=9, Math=65.5296572509581)\n",
        "row(Id=10, Math=75.9236662014381)\n",
        "row(Id=11, Math=95.34635026021492)\n",
        "row(Id=12, Math=16.52822367022331)\n",
        "row(Id=13, Math=67.63340988822333)\n",
        "row(Id=14, Math=11.761980712494113)\n",
        "row(Id=15, Math=67.00554454235647)\n",
        "row(Id=16, Math=93.75299207877968)\n",
        "row(Id=17, Math=83.62934657653963)\n",
        "row(Id=18, Math=94.2866248562066)\n",
        "row(Id=19, Math=29.06775088536625)\n",
        "row(Id=20, Math=48.27057146174709)\n",
        "row(Id=21, Math=0.23575510804576538)\n",
        "row(Id=22, Math=55.60442227880558)\n",
        "row(Id=23, Math=67.70644318348519)\n",
        "row(Id=24, Math=64.28070718241692)\n",
        "row(Id=25, Math=74.37595270796183)\n",
        "row(Id=26, Math=72.4563835854669)\n",
        "row(Id=27, Math=87.50669977685034)\n",
        "row(Id=28, Math=51.4124523962486)\n",
        "row(Id=29, Math=55.23453491403395)\n",
        "row(Id=30, Math=84.32052790050209)\n"
       ]
      }
     ],
     "prompt_number": 24
    },
    {
     "cell_type": "markdown",
     "metadata": {
      "slideshow": {
       "slide_type": "slide"
      }
     },
     "source": [
      "# Celery: The Basic"
     ]
    },
    {
     "cell_type": "markdown",
     "metadata": {
      "slideshow": {
       "slide_type": "subslide"
      }
     },
     "source": [
      "<font size=\"4\" color=#3066C4>\n",
      "First Look\n",
      "</font>\n",
      " <br>\n",
      "<font size=\"4\">\n",
      "When Celery is ready to go: <br>\n",
      "</font>\n",
      "<img width=700 height=700 src=\"https://raw.githubusercontent.com/c3h3/NANO-Data-Camp-201409/master/ipynbs/blz_Celery/image/celery.png\"/>"
     ]
    },
    {
     "cell_type": "markdown",
     "metadata": {
      "slideshow": {
       "slide_type": "subslide"
      }
     },
     "source": [
      "<font size=\"4\">\n",
      "When Celery is working on your jobs: <br>\n",
      "</font>\n",
      "  <br>\n",
      "<img width=700 height=700 src=https://raw.githubusercontent.com/c3h3/NANO-Data-Camp-201409/master/dev_ipynbs/Dboy_dev/image/celery_working.png />"
     ]
    },
    {
     "cell_type": "markdown",
     "metadata": {
      "slideshow": {
       "slide_type": "subslide"
      }
     },
     "source": [
      "# Celery: One Simple Way to Parallelize Your Code.\n",
      "  <br>\n",
      "<font size=\"4\" color=#3066C4>\n",
      "The Basic Structure of a Celery Applictation:\n",
      "</font>\n",
      "  <br>\n",
      "<font size=\"4\">\n",
      "Suppose you have a celery application named <em>predict_test_celery<em>.\n",
      "</font>\n",
      "  <br>\n",
      "<img src=\"https://raw.githubusercontent.com/c3h3/NANO-Data-Camp-201409/master/dev_ipynbs/Dboy_dev/image/proj_celery.png\"/ width=700 height=700>"
     ]
    },
    {
     "cell_type": "markdown",
     "metadata": {
      "slideshow": {
       "slide_type": "subslide"
      }
     },
     "source": [
      "<font size=\"4\" color=#3066C4>\n",
      "Under the predict_test_celery project, you have:\n",
      "</font>\n",
      "  <br>"
     ]
    },
    {
     "cell_type": "markdown",
     "metadata": {
      "slideshow": {
       "slide_type": "fragment"
      }
     },
     "source": [
      "- <font size=\"4\">\\_\\_init__.py</font>\n",
      "- <font size=\"4\">celery.py</font>\n",
      "- <font size=\"4\">tasks.py</font>"
     ]
    },
    {
     "cell_type": "markdown",
     "metadata": {
      "slideshow": {
       "slide_type": "subslide"
      }
     },
     "source": [
      "<font size=\"4\" color=#3066C4>\n",
      "A First Look of \\_\\_init__.py:\n",
      "</font>"
     ]
    },
    {
     "cell_type": "markdown",
     "metadata": {
      "slideshow": {
       "slide_type": "fragment"
      }
     },
     "source": [
      "<img src=\"https://raw.githubusercontent.com/c3h3/NANO-Data-Camp-201409/master/dev_ipynbs/Dboy_dev/image/init_celery.png\" width=700 height=700/>"
     ]
    },
    {
     "cell_type": "markdown",
     "metadata": {
      "slideshow": {
       "slide_type": "fragment"
      }
     },
     "source": [
      "<font size=\"4\">\n",
      "......... Just Nothing\n",
      "</font>"
     ]
    },
    {
     "cell_type": "markdown",
     "metadata": {
      "slideshow": {
       "slide_type": "subslide"
      }
     },
     "source": [
      "<font size=\"4\" color=#3066C4>\n",
      "A First Look of celery.py:\n",
      "</font>"
     ]
    },
    {
     "cell_type": "markdown",
     "metadata": {
      "slideshow": {
       "slide_type": "fragment"
      }
     },
     "source": [
      "<img src=\"http://raw.githubusercontent.com/c3h3/NANO-Data-Camp-201409/master/dev_ipynbs/Dboy_dev/image/celery_celery.png\" width=700 height=700/>"
     ]
    },
    {
     "cell_type": "markdown",
     "metadata": {
      "slideshow": {
       "slide_type": "fragment"
      }
     },
     "source": [
      "<font size=\"4\">\n",
      ".........\n",
      "<a href=https://github.com/c3h3/NANO-Data-Camp-201409/blob/master/ipynbs/blz_Celery/celery_example/celery.py>\n",
      "Codes\n",
      "</a>\n",
      "</font>"
     ]
    },
    {
     "cell_type": "markdown",
     "metadata": {
      "slideshow": {
       "slide_type": "subslide"
      }
     },
     "source": [
      "<font size=\"4\" color=#3066C4>\n",
      "A First Look of tasks.py:\n",
      "</font>"
     ]
    },
    {
     "cell_type": "markdown",
     "metadata": {
      "slideshow": {
       "slide_type": "fragment"
      }
     },
     "source": [
      "<img src=\"https://raw.githubusercontent.com/c3h3/NANO-Data-Camp-201409/master/dev_ipynbs/Dboy_dev/image/tasks_celery.png\" width=700 height=700>"
     ]
    },
    {
     "cell_type": "markdown",
     "metadata": {
      "slideshow": {
       "slide_type": "fragment"
      }
     },
     "source": [
      "<font size=\"4\">\n",
      ".........\n",
      "<a href=\"https://github.com/c3h3/NANO-Data-Camp-201409/blob/master/ipynbs/blz_Celery/celery_example/tasks.py\">\n",
      "Codes\n",
      "</a>\n",
      "</font>"
     ]
    },
    {
     "cell_type": "markdown",
     "metadata": {
      "slideshow": {
       "slide_type": "subslide"
      }
     },
     "source": [
      "<font color=#30C469 size=\"4\">\n",
      "Excersice: Parallelized Writing Files\n",
      "</font>"
     ]
    },
    {
     "cell_type": "markdown",
     "metadata": {
      "slideshow": {
       "slide_type": "fragment"
      }
     },
     "source": [
      "- <font size=\"4\"><font color=\"navy\">Goal</font>: A celery project which can write multiple files for you at the same time.</font>\n",
      "- <font size=\"4\">Make a \\_\\_init__.py file.</font>\n",
      "- <font size=\"4\">Make a celery.py file.</font>\n",
      "- <font size=\"4\">Make a tasks.py and write a function named <font color=\"green\"><em>multi_write(path,content)</em></font>.</font>\n",
      "- <font size=\"4\">Put above three .py files in a dirctory named <font color=\"green\"><em>multi_write_celery</em></font>.</font>"
     ]
    },
    {
     "cell_type": "markdown",
     "metadata": {
      "slideshow": {
       "slide_type": "subslide"
      }
     },
     "source": [
      "<font size=\"4\" color=#3066C4>\n",
      "How to Wake Up the Celery Worker\n",
      "</font>\n",
      "  <br>\n",
      "<font size=\"4\">In the Terminal:</font>\n",
      "\n",
      "- <font size=\"4\">\\$ mongod <font color=\"gray\">\\# Turn on the MongoDB</font></font>\n",
      "- <font size=\"4\">\\$ celery -A multi_write worker -n worker1.%h --concurrency 1 -l info</font>"
     ]
    },
    {
     "cell_type": "markdown",
     "metadata": {
      "slideshow": {
       "slide_type": "fragment"
      }
     },
     "source": [
      "<img width=700 height=700 src=https://raw.githubusercontent.com/c3h3/NANO-Data-Camp-201409/master/dev_ipynbs/Dboy_dev/image/celery.png />"
     ]
    },
    {
     "cell_type": "markdown",
     "metadata": {
      "slideshow": {
       "slide_type": "subslide"
      }
     },
     "source": [
      "<font size=\"4\">\n",
      "1. Copy and paste following code into a fire_up.py file. <br>\n",
      "2. Put fire_up.py under the same directory which contains multi_write_celery.<br>\n",
      "3. Change the working directory to that directory.<br>\n",
      "4. type `python fire_up.py`\n",
      "</font>\n",
      "\n",
      "    from multi_write_celery import multi_write\n",
      "    \n",
      "    jobs = []\n",
      "    for ind in range(10):\n",
      "        job = (\"No_{ind}.csv\".format(ind=ind), \"I'm file No.{ind}!!\".format(ind=ind))\n",
      "        jobs.append(job)\n",
      "    \n",
      "    for file, content in jobs:\n",
      "        multi_write.delay(file, content)\n",
      "\n",
      "  <br>\n",
      "<font color=\"red\" size=\"4\">Be Careful About The Indent!!</font>"
     ]
    },
    {
     "cell_type": "code",
     "collapsed": false,
     "input": [
      "import blz\n",
      "import numpy as np"
     ],
     "language": "python",
     "metadata": {},
     "outputs": [],
     "prompt_number": 3
    },
    {
     "cell_type": "code",
     "collapsed": false,
     "input": [
      "a = blz.barray([i for i in np.random.random(300)])"
     ],
     "language": "python",
     "metadata": {},
     "outputs": [],
     "prompt_number": 4
    },
    {
     "cell_type": "code",
     "collapsed": false,
     "input": [
      "a"
     ],
     "language": "python",
     "metadata": {},
     "outputs": [
      {
       "metadata": {},
       "output_type": "pyout",
       "prompt_number": 5,
       "text": [
        "barray((300,), float64)\n",
        "  nbytes: 2.34 KB; cbytes: 16.00 KB; ratio: 0.15\n",
        "  bparams := bparams(clevel=5, shuffle=True, cname=blosclz)\n",
        "[ 0.13055381  0.49054973  0.54879245  0.28560863  0.04774612  0.58455116\n",
        "  0.3612502   0.39768507  0.18163575  0.07081601  0.01040704  0.37268291\n",
        "  0.17118959  0.73348652  0.85841838  0.68005021  0.42786687  0.66184244\n",
        "  0.60834454  0.25092346  0.96676735  0.47258233  0.79701462  0.8456785\n",
        "  0.48324713  0.99740963  0.76914308  0.84115052  0.5420379   0.69590356\n",
        "  0.05717313  0.6520537   0.94512255  0.09028834  0.42372066  0.06285414\n",
        "  0.17840999  0.29485975  0.09843507  0.10270969  0.14059361  0.00721394\n",
        "  0.71010773  0.94608805  0.77001669  0.39447216  0.66359855  0.78553936\n",
        "  0.87760751  0.2200247   0.61598505  0.59235758  0.57579656  0.49038538\n",
        "  0.6479161   0.42028173  0.20714135  0.75308388  0.86793777  0.42527729\n",
        "  0.10053546  0.1476801   0.34900197  0.08547487  0.908667    0.28801333\n",
        "  0.63033538  0.22241898  0.85495272  0.20916274  0.92986869  0.21189353\n",
        "  0.32174343  0.82281885  0.80161621  0.98183226  0.17599364  0.14868148\n",
        "  0.94864808  0.16425083  0.12797537  0.98124765  0.22499562  0.66217002\n",
        "  0.73055572  0.6775662   0.32016948  0.12007825  0.20879205  0.39430882\n",
        "  0.86808735  0.77606604  0.77763213  0.25658369  0.79600725  0.12468833\n",
        "  0.81319225  0.41387314  0.43324313  0.22338326  0.90601434  0.61518824\n",
        "  0.17329482  0.34772434  0.21425338  0.33263097  0.78730326  0.0017441\n",
        "  0.01487668  0.18317063  0.40910992  0.02834362  0.62252958  0.38836008\n",
        "  0.49760023  0.76148521  0.34059671  0.88884435  0.50027253  0.85681683\n",
        "  0.53996094  0.45929243  0.6352311   0.45694248  0.32218063  0.16559314\n",
        "  0.96817607  0.86104121  0.72289242  0.12183243  0.97908431  0.96568207\n",
        "  0.47111073  0.98708126  0.80967364  0.60457353  0.26500535  0.90624804\n",
        "  0.35228812  0.24154571  0.95891261  0.99641834  0.85768653  0.18513662\n",
        "  0.71067505  0.14974192  0.5042479   0.24549336  0.04877432  0.17311696\n",
        "  0.84562006  0.62278047  0.17962565  0.27895299  0.10791065  0.75404736\n",
        "  0.33033798  0.17022708  0.0594996   0.12153255  0.38544674  0.60283444\n",
        "  0.8126048   0.28718274  0.7063007   0.42683864  0.70130807  0.1696843\n",
        "  0.82577124  0.84822772  0.84791065  0.0653509   0.03030344  0.16602345\n",
        "  0.21571056  0.52371041  0.28446313  0.87299047  0.79054775  0.99941823\n",
        "  0.31876276  0.5409613   0.34438948  0.41584655  0.58848678  0.038928\n",
        "  0.81589534  0.22644521  0.52288293  0.00447772  0.33995445  0.23279245\n",
        "  0.43165417  0.14183205  0.56751345  0.33873254  0.84012761  0.76434169\n",
        "  0.55736881  0.90975925  0.23345829  0.30208239  0.14103756  0.61831052\n",
        "  0.1890014   0.32960452  0.38544191  0.29310643  0.73532004  0.45057845\n",
        "  0.34439532  0.85505286  0.79269849  0.9157275   0.98434988  0.12905956\n",
        "  0.67679527  0.51326952  0.42745739  0.59919539  0.02893642  0.23451644\n",
        "  0.29387381  0.1956559   0.4877797   0.44457684  0.11466555  0.63320859\n",
        "  0.25524726  0.26841912  0.32797967  0.96310981  0.92596246  0.6865035\n",
        "  0.26176881  0.8694733   0.13798276  0.90117202  0.9598445   0.18277085\n",
        "  0.68068289  0.54646343  0.06096771  0.88878479  0.13774061  0.05457189\n",
        "  0.73228586  0.0555315   0.59355454  0.97093499  0.78860062  0.25360245\n",
        "  0.69457027  0.40857101  0.81761539  0.41603788  0.73434451  0.90189447\n",
        "  0.7034169   0.69415329  0.66201253  0.08262371  0.14131102  0.42112363\n",
        "  0.08625656  0.08423609  0.41412744  0.24682264  0.77046551  0.6790844\n",
        "  0.97576221  0.91335915  0.17812327  0.17435983  0.70144908  0.81373656\n",
        "  0.33198562  0.12571507  0.77328295  0.38605729  0.65633521  0.09558297\n",
        "  0.98691495  0.12186871  0.32625068  0.50350156  0.28429547  0.57190286\n",
        "  0.49293777  0.16079345  0.89662708  0.99554767  0.48611569  0.27506071\n",
        "  0.25030739  0.45384594  0.88161538  0.81966471  0.59744353  0.96605125]"
       ]
      }
     ],
     "prompt_number": 5
    },
    {
     "cell_type": "code",
     "collapsed": false,
     "input": [
      "ind = blz.eval(\"a > 0.5\")"
     ],
     "language": "python",
     "metadata": {},
     "outputs": [],
     "prompt_number": 6
    },
    {
     "cell_type": "code",
     "collapsed": false,
     "input": [
      "ind"
     ],
     "language": "python",
     "metadata": {},
     "outputs": [
      {
       "metadata": {},
       "output_type": "pyout",
       "prompt_number": 8,
       "text": [
        "barray((300,), bool)\n",
        "  nbytes: 300; cbytes: 8.00 KB; ratio: 0.04\n",
        "  bparams := bparams(clevel=5, shuffle=True, cname=blosclz)\n",
        "[False False  True False False  True False False False False False False\n",
        " False  True  True  True False  True  True False  True False  True  True\n",
        " False  True  True  True  True  True False  True  True False False False\n",
        " False False False False False False  True  True  True False  True  True\n",
        "  True False  True  True  True False  True False False  True  True False\n",
        " False False False False  True False  True False  True False  True False\n",
        " False  True  True  True False False  True False False  True False  True\n",
        "  True  True False False False False  True  True  True False  True False\n",
        "  True False False False  True  True False False False False  True False\n",
        " False False False False  True False False  True False  True  True  True\n",
        "  True False  True False False False  True  True  True False  True  True\n",
        " False  True  True  True False  True False False  True  True  True False\n",
        "  True False  True False False False  True  True False False False  True\n",
        " False False False False False  True  True False  True False  True False\n",
        "  True  True  True False False False False  True False  True  True  True\n",
        " False  True False False  True False  True False  True False False False\n",
        " False False  True False  True  True  True  True False False False  True\n",
        " False False False False  True False False  True  True  True  True False\n",
        "  True  True False  True False False False False False False False  True\n",
        " False False False  True  True  True False  True False  True  True False\n",
        "  True  True False  True False False  True False  True  True  True False\n",
        "  True False  True False  True  True  True  True  True False False False\n",
        " False False False False  True  True  True  True False False  True  True\n",
        " False False  True False  True False  True False False  True False  True\n",
        " False False  True  True False False False False  True  True  True  True]"
       ]
      }
     ],
     "prompt_number": 8
    },
    {
     "cell_type": "code",
     "collapsed": false,
     "input": [
      "a[ind]"
     ],
     "language": "python",
     "metadata": {},
     "outputs": [
      {
       "metadata": {},
       "output_type": "pyout",
       "prompt_number": 7,
       "text": [
        "array([ 0.54879245,  0.58455116,  0.73348652,  0.85841838,  0.68005021,\n",
        "        0.66184244,  0.60834454,  0.96676735,  0.79701462,  0.8456785 ,\n",
        "        0.99740963,  0.76914308,  0.84115052,  0.5420379 ,  0.69590356,\n",
        "        0.6520537 ,  0.94512255,  0.71010773,  0.94608805,  0.77001669,\n",
        "        0.66359855,  0.78553936,  0.87760751,  0.61598505,  0.59235758,\n",
        "        0.57579656,  0.6479161 ,  0.75308388,  0.86793777,  0.908667  ,\n",
        "        0.63033538,  0.85495272,  0.92986869,  0.82281885,  0.80161621,\n",
        "        0.98183226,  0.94864808,  0.98124765,  0.66217002,  0.73055572,\n",
        "        0.6775662 ,  0.86808735,  0.77606604,  0.77763213,  0.79600725,\n",
        "        0.81319225,  0.90601434,  0.61518824,  0.78730326,  0.62252958,\n",
        "        0.76148521,  0.88884435,  0.50027253,  0.85681683,  0.53996094,\n",
        "        0.6352311 ,  0.96817607,  0.86104121,  0.72289242,  0.97908431,\n",
        "        0.96568207,  0.98708126,  0.80967364,  0.60457353,  0.90624804,\n",
        "        0.95891261,  0.99641834,  0.85768653,  0.71067505,  0.5042479 ,\n",
        "        0.84562006,  0.62278047,  0.75404736,  0.60283444,  0.8126048 ,\n",
        "        0.7063007 ,  0.70130807,  0.82577124,  0.84822772,  0.84791065,\n",
        "        0.52371041,  0.87299047,  0.79054775,  0.99941823,  0.5409613 ,\n",
        "        0.58848678,  0.81589534,  0.52288293,  0.56751345,  0.84012761,\n",
        "        0.76434169,  0.55736881,  0.90975925,  0.61831052,  0.73532004,\n",
        "        0.85505286,  0.79269849,  0.9157275 ,  0.98434988,  0.67679527,\n",
        "        0.51326952,  0.59919539,  0.63320859,  0.96310981,  0.92596246,\n",
        "        0.6865035 ,  0.8694733 ,  0.90117202,  0.9598445 ,  0.68068289,\n",
        "        0.54646343,  0.88878479,  0.73228586,  0.59355454,  0.97093499,\n",
        "        0.78860062,  0.69457027,  0.81761539,  0.73434451,  0.90189447,\n",
        "        0.7034169 ,  0.69415329,  0.66201253,  0.77046551,  0.6790844 ,\n",
        "        0.97576221,  0.91335915,  0.70144908,  0.81373656,  0.77328295,\n",
        "        0.65633521,  0.98691495,  0.50350156,  0.57190286,  0.89662708,\n",
        "        0.99554767,  0.88161538,  0.81966471,  0.59744353,  0.96605125])"
       ]
      }
     ],
     "prompt_number": 7
    },
    {
     "cell_type": "code",
     "collapsed": false,
     "input": [
      "b = blz.barray([i for i in range(3000)])\n",
      "a.append(b)"
     ],
     "language": "python",
     "metadata": {},
     "outputs": [],
     "prompt_number": 11
    },
    {
     "cell_type": "code",
     "collapsed": false,
     "input": [
      "a"
     ],
     "language": "python",
     "metadata": {},
     "outputs": [
      {
       "metadata": {},
       "output_type": "pyout",
       "prompt_number": 12,
       "text": [
        "barray((3300,), float64)\n",
        "  nbytes: 25.78 KB; cbytes: 18.99 KB; ratio: 1.36\n",
        "  bparams := bparams(clevel=5, shuffle=True, cname=blosclz)\n",
        "[  1.30553808e-01   4.90549735e-01   5.48792449e-01 ...,   2.99700000e+03\n",
        "   2.99800000e+03   2.99900000e+03]"
       ]
      }
     ],
     "prompt_number": 12
    },
    {
     "cell_type": "code",
     "collapsed": false,
     "input": [],
     "language": "python",
     "metadata": {},
     "outputs": []
    }
   ],
   "metadata": {}
  }
 ]
}