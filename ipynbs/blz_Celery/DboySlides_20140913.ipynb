{
 "metadata": {
  "name": "",
  "signature": "sha256:9ec94dc780b5b8fd51617d44739c38768bbadd730178234ed3c6b2063f255e07"
 },
 "nbformat": 3,
 "nbformat_minor": 0,
 "worksheets": [
  {
   "cells": [
    {
     "cell_type": "markdown",
     "metadata": {
      "slideshow": {
       "slide_type": "slide"
      }
     },
     "source": [
      "# Large Scale Mining Strategies & Tools (Part 1)"
     ]
    },
    {
     "cell_type": "markdown",
     "metadata": {
      "slideshow": {
       "slide_type": "subslide"
      }
     },
     "source": [
      "## Large scale!? How large?\n",
      "\n",
      "<font size = \"4\" color=#B98435>\n",
      "We will use the data in this <a href=http://www.kaggle.com/c/criteo-display-ad-challenge>kaggle</a> competetion. <br>\n",
      "Before we move on, let's take a peek on the data.\n",
      "</font>"
     ]
    },
    {
     "cell_type": "code",
     "collapsed": false,
     "input": [
      "import blz\n",
      "import numpy as np\n",
      "\n",
      "%time Id_test = blz.open(\"/Users/DboyLiao/Documents/kaggle/DisplayAdvertisingChallenge/data/test_blzs/Id\")\n",
      "%time Id_train = blz.open(\"/Users/DboyLiao/Documents/kaggle/DisplayAdvertisingChallenge/data/train_blzs/Id\")"
     ],
     "language": "python",
     "metadata": {
      "slideshow": {
       "slide_type": "fragment"
      }
     },
     "outputs": [
      {
       "output_type": "stream",
       "stream": "stdout",
       "text": [
        "CPU times: user 649 \u00b5s, sys: 426 \u00b5s, total: 1.08 ms\n",
        "Wall time: 1.08 ms\n",
        "CPU times: user 525 \u00b5s, sys: 508 \u00b5s, total: 1.03 ms\n",
        "Wall time: 715 \u00b5s\n"
       ]
      }
     ],
     "prompt_number": 1
    },
    {
     "cell_type": "code",
     "collapsed": false,
     "input": [
      "print \"Train set size:\", len(Id_train)\n",
      "print \"Test set size:\", len(Id_test)"
     ],
     "language": "python",
     "metadata": {
      "slideshow": {
       "slide_type": "fragment"
      }
     },
     "outputs": [
      {
       "output_type": "stream",
       "stream": "stdout",
       "text": [
        "Train set size: 45840617\n",
        "Test set size: 6042135\n"
       ]
      }
     ],
     "prompt_number": 2
    },
    {
     "cell_type": "markdown",
     "metadata": {},
     "source": [
      "<font size=\"4\" color=\"red\">Load BIG data fast!</font>"
     ]
    },
    {
     "cell_type": "markdown",
     "metadata": {
      "slideshow": {
       "slide_type": "subslide"
      }
     },
     "source": [
      "# Large Scale Mining Strategies & Tools"
     ]
    },
    {
     "cell_type": "markdown",
     "metadata": {
      "slideshow": {
       "slide_type": "fragment"
      }
     },
     "source": [
      "  <br>\n",
      "<font size=\"4\" color=#B98435>\n",
      "Ok...I know the data sets are <strong><font color=\"red\">LARGE.</font></strong><br>\n",
      "What's wrong with that?\n",
      "</font>"
     ]
    },
    {
     "cell_type": "markdown",
     "metadata": {
      "slideshow": {
       "slide_type": "fragment"
      }
     },
     "source": [
      "- <font size=\"4\">Space?</font>"
     ]
    },
    {
     "cell_type": "markdown",
     "metadata": {
      "slideshow": {
       "slide_type": "fragment"
      }
     },
     "source": [
      "- <font size=\"4\">Time?</font>"
     ]
    },
    {
     "cell_type": "markdown",
     "metadata": {
      "slideshow": {
       "slide_type": "fragment"
      }
     },
     "source": [
      "- <font size=\"4\">Anything else?</font>"
     ]
    },
    {
     "cell_type": "markdown",
     "metadata": {
      "slideshow": {
       "slide_type": "subslide"
      }
     },
     "source": [
      "<font face=\"verdana\" size=\"4\">\n",
      "Here comes one important question: <br>\n",
      "</font>"
     ]
    },
    {
     "cell_type": "markdown",
     "metadata": {
      "slideshow": {
       "slide_type": "fragment"
      }
     },
     "source": [
      "<font face=\"verdana\" size=\"4\">\n",
      "<font color=\"red\">What will you do?</font>\n",
      "</font>"
     ]
    },
    {
     "cell_type": "markdown",
     "metadata": {
      "slideshow": {
       "slide_type": "fragment"
      }
     },
     "source": [
      "<font size=\"4\">\n",
      "Or.....What can you do?\n",
      "</font>\n",
      "\n",
      "- endlessly upgrade your device?\n",
      "- numpy and scipy?\n",
      "- any better solution?"
     ]
    },
    {
     "cell_type": "markdown",
     "metadata": {
      "slideshow": {
       "slide_type": "slide"
      }
     },
     "source": [
      "## Useful Tools"
     ]
    },
    {
     "cell_type": "markdown",
     "metadata": {
      "slideshow": {
       "slide_type": "fragment"
      }
     },
     "source": [
      "# What I Will Demo Today. (blz and celery)"
     ]
    },
    {
     "cell_type": "markdown",
     "metadata": {
      "slideshow": {
       "slide_type": "fragment"
      }
     },
     "source": [
      "- <font size=\"4\"><font color=\"green\">barray</font> in <font color=#4630C4 >blz</font> package.</font>\n",
      "- <font size=\"4\"><font color=\"green\">btable</font> in <font color=#4630C4 >blz</font> package.</font>\n",
      "- <font size=\"4\">How to deploy <font color=\"red\">celery</font> on your computer.</font>"
     ]
    },
    {
     "cell_type": "markdown",
     "metadata": {
      "slideshow": {
       "slide_type": "subslide"
      }
     },
     "source": [
      "# BLZ: barray\n",
      "<br>\n",
      "<font size=\"4\">\n",
      "<a href=http://blz.pydata.org/blz-manual/>The Manual</a>\n",
      "</font>"
     ]
    },
    {
     "cell_type": "markdown",
     "metadata": {
      "slideshow": {
       "slide_type": "fragment"
      }
     },
     "source": [
      "<font size=\"4\">\n",
      "Ok....I see no one want to read THAT.\n",
      "</font>\n",
      "<br>\n",
      "<font color=#B98435 size=\"4\">\n",
      "Let's take a look of some examples!\n",
      "</font>"
     ]
    },
    {
     "cell_type": "markdown",
     "metadata": {
      "slideshow": {
       "slide_type": "subslide"
      }
     },
     "source": [
      "<font color=#30C469 size=\"4\">\n",
      "Example 1: build a barray!\n",
      "</font>"
     ]
    },
    {
     "cell_type": "code",
     "collapsed": false,
     "input": [
      "my_array = blz.barray([i for i in range(1000000)])"
     ],
     "language": "python",
     "metadata": {
      "slideshow": {
       "slide_type": "fragment"
      }
     },
     "outputs": [],
     "prompt_number": 3
    },
    {
     "cell_type": "code",
     "collapsed": false,
     "input": [
      "my_array"
     ],
     "language": "python",
     "metadata": {
      "slideshow": {
       "slide_type": "fragment"
      }
     },
     "outputs": [
      {
       "metadata": {},
       "output_type": "pyout",
       "prompt_number": 4,
       "text": [
        "barray((1000000,), int64)\n",
        "  nbytes: 7.63 MB; cbytes: 172.30 KB; ratio: 45.34\n",
        "  bparams := bparams(clevel=5, shuffle=True, cname=blosclz)\n",
        "[     0      1      2 ..., 999997 999998 999999]"
       ]
      }
     ],
     "prompt_number": 4
    },
    {
     "cell_type": "markdown",
     "metadata": {
      "slideshow": {
       "slide_type": "fragment"
      }
     },
     "source": [
      "<font face=\"verdana\" size=\"4\" color=#B98435>\n",
      "As you can see here, the compression rate, ratio, is really high, <br>\n",
      "which makes _barray_ be really good at handling BIG data.\n",
      "</font>"
     ]
    },
    {
     "cell_type": "markdown",
     "metadata": {
      "slideshow": {
       "slide_type": "subslide"
      }
     },
     "source": [
      "<font size=\"4\">\n",
      "Here we can see that a _barray_ has following attributes:\n",
      "</font>"
     ]
    },
    {
     "cell_type": "markdown",
     "metadata": {
      "slideshow": {
       "slide_type": "fragment"
      }
     },
     "source": [
      "- <font size=\"4\">nbytes: The original (uncompressed) size of this object (in bytes).</font>\n",
      "- <font size=\"4\">cbytes: The compressed size of this object (in bytes).</font>\n",
      "- <font size=\"4\">dtype: The NumPy dtype for this object.</font>\n",
      "- <font size=\"4\">many others....</font>"
     ]
    },
    {
     "cell_type": "code",
     "collapsed": false,
     "input": [
      "my_array.nbytes"
     ],
     "language": "python",
     "metadata": {
      "slideshow": {
       "slide_type": "fragment"
      }
     },
     "outputs": [
      {
       "metadata": {},
       "output_type": "pyout",
       "prompt_number": 5,
       "text": [
        "8000000"
       ]
      }
     ],
     "prompt_number": 5
    },
    {
     "cell_type": "code",
     "collapsed": false,
     "input": [
      "my_array.cbytes"
     ],
     "language": "python",
     "metadata": {
      "slideshow": {
       "slide_type": "fragment"
      }
     },
     "outputs": [
      {
       "metadata": {},
       "output_type": "pyout",
       "prompt_number": 6,
       "text": [
        "176434"
       ]
      }
     ],
     "prompt_number": 6
    },
    {
     "cell_type": "code",
     "collapsed": false,
     "input": [
      "my_array.dtype"
     ],
     "language": "python",
     "metadata": {
      "slideshow": {
       "slide_type": "fragment"
      }
     },
     "outputs": [
      {
       "metadata": {},
       "output_type": "pyout",
       "prompt_number": 7,
       "text": [
        "dtype('int64')"
       ]
      }
     ],
     "prompt_number": 7
    },
    {
     "cell_type": "code",
     "collapsed": false,
     "input": [
      "print my_array.__doc__"
     ],
     "language": "python",
     "metadata": {
      "slideshow": {
       "slide_type": "subslide"
      }
     },
     "outputs": [
      {
       "output_type": "stream",
       "stream": "stdout",
       "text": [
        "\n",
        "  barray(array, bparams=None, dtype=None, dflt=None, expectedlen=None, chunklen=None, rootdir=None, mode='a')\n",
        "\n",
        "  A compressed and enlargeable in-memory data container.\n",
        "\n",
        "  `barray` exposes a series of methods for dealing with the compressed\n",
        "  container in a NumPy-like way.\n",
        "\n",
        "  Parameters\n",
        "  ----------\n",
        "  array : a NumPy-like object\n",
        "      This is taken as the input to create the barray.  It can be any Python\n",
        "      object that can be converted into a NumPy object.  The data type of\n",
        "      the resulting barray will be the same as this NumPy object.\n",
        "  bparams : instance of the `bparams` class, optional\n",
        "      Parameters to the internal Blosc compressor.\n",
        "  dtype : NumPy dtype\n",
        "      Force this `dtype` for the barray (rather than the `array` one).\n",
        "  dflt : Python or NumPy scalar\n",
        "      The value to be used when enlarging the barray.  If None, the default is\n",
        "      filling with zeros.\n",
        "  expectedlen : int, optional\n",
        "      A guess on the expected length of this object.  This will serve to\n",
        "      decide the best `chunklen` used for compression and memory I/O\n",
        "      purposes.\n",
        "  chunklen : int, optional\n",
        "      The number of items that fits into a chunk.  By specifying it you can\n",
        "      explicitely set the chunk size used for compression and memory I/O.\n",
        "      Only use it if you know what are you doing.\n",
        "  rootdir : str, optional\n",
        "      The directory where all the data and metadata will be stored.  If\n",
        "      specified, then the barray object will be disk-based (i.e. all chunks\n",
        "      will live on-disk, not in memory) and persistent (i.e. it can be\n",
        "      restored in other session, e.g. via the `open()` top-level function).\n",
        "  mode : str, optional\n",
        "      The mode that a *persistent* barray should be created/opened.  The\n",
        "      values can be:\n",
        "\n",
        "        * 'r' for read-only\n",
        "        * 'w' for read/write.  During barray creation, the `rootdir` will be\n",
        "          removed if it exists.  During barray opening, the barray will be\n",
        "          resized to 0.\n",
        "        * 'a' for append (possible data inside `rootdir` will not be removed).\n",
        "\n",
        "  \n"
       ]
      }
     ],
     "prompt_number": 8
    },
    {
     "cell_type": "markdown",
     "metadata": {
      "slideshow": {
       "slide_type": "subslide"
      }
     },
     "source": [
      "<font size=\"4\" color=#3066C4>\n",
      "You may wonder how it can do this. <br>\n",
      "Please refer to this <a href=http://continuum.io/blog/blz-format>document</a>.\n",
      "</font>\n",
      "  <br>"
     ]
    },
    {
     "cell_type": "markdown",
     "metadata": {
      "slideshow": {
       "slide_type": "subslide"
      }
     },
     "source": [
      "<font color=#30C469 size=\"4\">\n",
      "Example 2: Convert a barray into numpy ndarray!\n",
      "</font>"
     ]
    },
    {
     "cell_type": "code",
     "collapsed": false,
     "input": [
      "my_array_freg = my_array[369:10000]\n",
      "my_array_freg"
     ],
     "language": "python",
     "metadata": {
      "slideshow": {
       "slide_type": "fragment"
      }
     },
     "outputs": [
      {
       "metadata": {},
       "output_type": "pyout",
       "prompt_number": 9,
       "text": [
        "array([ 369,  370,  371, ..., 9997, 9998, 9999])"
       ]
      }
     ],
     "prompt_number": 9
    },
    {
     "cell_type": "code",
     "collapsed": false,
     "input": [
      "type(my_array_freg)"
     ],
     "language": "python",
     "metadata": {
      "slideshow": {
       "slide_type": "fragment"
      }
     },
     "outputs": [
      {
       "metadata": {},
       "output_type": "pyout",
       "prompt_number": 10,
       "text": [
        "numpy.ndarray"
       ]
      }
     ],
     "prompt_number": 10
    },
    {
     "cell_type": "code",
     "collapsed": false,
     "input": [
      "my_array.dtype"
     ],
     "language": "python",
     "metadata": {
      "slideshow": {
       "slide_type": "fragment"
      }
     },
     "outputs": [
      {
       "metadata": {},
       "output_type": "pyout",
       "prompt_number": 11,
       "text": [
        "dtype('int64')"
       ]
      }
     ],
     "prompt_number": 11
    },
    {
     "cell_type": "markdown",
     "metadata": {
      "slideshow": {
       "slide_type": "slide"
      }
     },
     "source": [
      "# BLZ: btable"
     ]
    },
    {
     "cell_type": "markdown",
     "metadata": {
      "slideshow": {
       "slide_type": "subslide"
      }
     },
     "source": [
      "<font color=#30C469 size=\"4\">\n",
      "Example 1: build a btable!\n",
      "</font>\n",
      "<br>"
     ]
    },
    {
     "cell_type": "code",
     "collapsed": false,
     "input": [
      "import random\n",
      "Id = np.array([ind + 1 for ind in range(30)])\n",
      "Math = np.array([100*random.random() for ind in range(30)])"
     ],
     "language": "python",
     "metadata": {
      "slideshow": {
       "slide_type": "fragment"
      }
     },
     "outputs": [],
     "prompt_number": 12
    },
    {
     "cell_type": "code",
     "collapsed": false,
     "input": [
      "columns = [Id, Math]\n",
      "names = [\"Id\", \"Math\"]\n",
      "score_table = blz.btable(columns = columns, names = names)"
     ],
     "language": "python",
     "metadata": {
      "slideshow": {
       "slide_type": "fragment"
      }
     },
     "outputs": [],
     "prompt_number": 13
    },
    {
     "cell_type": "code",
     "collapsed": false,
     "input": [
      "score_table"
     ],
     "language": "python",
     "metadata": {
      "slideshow": {
       "slide_type": "fragment"
      }
     },
     "outputs": [
      {
       "metadata": {},
       "output_type": "pyout",
       "prompt_number": 14,
       "text": [
        "btable((30,), [('Id', '<i8'), ('Math', '<f8')])\n",
        "  nbytes: 480; cbytes: 16.00 KB; ratio: 0.03\n",
        "  bparams := bparams(clevel=5, shuffle=True, cname=blosclz)\n",
        "[(1, 31.438816569622695) (2, 68.54415382193856) (3, 64.8522272352685)\n",
        " (4, 83.13992364391062) (5, 34.49301782761991) (6, 76.6977166169982)\n",
        " (7, 4.810000218737165) (8, 45.91701150323537) (9, 65.5296572509581)\n",
        " (10, 75.9236662014381) (11, 95.34635026021492) (12, 16.52822367022331)\n",
        " (13, 67.63340988822333) (14, 11.761980712494113) (15, 67.00554454235647)\n",
        " (16, 93.75299207877968) (17, 83.62934657653963) (18, 94.2866248562066)\n",
        " (19, 29.06775088536625) (20, 48.27057146174709) (21, 0.23575510804576538)\n",
        " (22, 55.60442227880558) (23, 67.70644318348519) (24, 64.28070718241692)\n",
        " (25, 74.37595270796183) (26, 72.4563835854669) (27, 87.50669977685034)\n",
        " (28, 51.4124523962486) (29, 55.23453491403395) (30, 84.32052790050209)]"
       ]
      }
     ],
     "prompt_number": 14
    },
    {
     "cell_type": "code",
     "collapsed": false,
     "input": [
      "score_table[1:5]"
     ],
     "language": "python",
     "metadata": {
      "slideshow": {
       "slide_type": "subslide"
      }
     },
     "outputs": [
      {
       "metadata": {},
       "output_type": "pyout",
       "prompt_number": 15,
       "text": [
        "array([(2, 68.54415382193856), (3, 64.8522272352685),\n",
        "       (4, 83.13992364391062), (5, 34.49301782761991)], \n",
        "      dtype=[('Id', '<i8'), ('Math', '<f8')])"
       ]
      }
     ],
     "prompt_number": 15
    },
    {
     "cell_type": "code",
     "collapsed": false,
     "input": [
      "score_table[\"Id\"][:]"
     ],
     "language": "python",
     "metadata": {
      "slideshow": {
       "slide_type": "fragment"
      }
     },
     "outputs": [
      {
       "metadata": {},
       "output_type": "pyout",
       "prompt_number": 16,
       "text": [
        "array([ 1,  2,  3,  4,  5,  6,  7,  8,  9, 10, 11, 12, 13, 14, 15, 16, 17,\n",
        "       18, 19, 20, 21, 22, 23, 24, 25, 26, 27, 28, 29, 30])"
       ]
      }
     ],
     "prompt_number": 16
    },
    {
     "cell_type": "code",
     "collapsed": false,
     "input": [
      "score_table[\"Math\"][:]"
     ],
     "language": "python",
     "metadata": {
      "slideshow": {
       "slide_type": "fragment"
      }
     },
     "outputs": [
      {
       "metadata": {},
       "output_type": "pyout",
       "prompt_number": 17,
       "text": [
        "array([ 31.43881657,  68.54415382,  64.85222724,  83.13992364,\n",
        "        34.49301783,  76.69771662,   4.81000022,  45.9170115 ,\n",
        "        65.52965725,  75.9236662 ,  95.34635026,  16.52822367,\n",
        "        67.63340989,  11.76198071,  67.00554454,  93.75299208,\n",
        "        83.62934658,  94.28662486,  29.06775089,  48.27057146,\n",
        "         0.23575511,  55.60442228,  67.70644318,  64.28070718,\n",
        "        74.37595271,  72.45638359,  87.50669978,  51.4124524 ,\n",
        "        55.23453491,  84.3205279 ])"
       ]
      }
     ],
     "prompt_number": 17
    },
    {
     "cell_type": "markdown",
     "metadata": {
      "slideshow": {
       "slide_type": "subslide"
      }
     },
     "source": [
      "<font size=\"4\" color=#3066C4>\n",
      "Fancy Indexing\n",
      "</font>"
     ]
    },
    {
     "cell_type": "code",
     "collapsed": false,
     "input": [
      "score_table[[1, 10, 2]]"
     ],
     "language": "python",
     "metadata": {
      "slideshow": {
       "slide_type": "fragment"
      }
     },
     "outputs": [
      {
       "metadata": {},
       "output_type": "pyout",
       "prompt_number": 18,
       "text": [
        "array([(2, 68.54415382193856), (11, 95.34635026021492),\n",
        "       (3, 64.8522272352685)], \n",
        "      dtype=[('Id', '<i8'), ('Math', '<f8')])"
       ]
      }
     ],
     "prompt_number": 18
    },
    {
     "cell_type": "code",
     "collapsed": false,
     "input": [
      "score_table[\"(Id > 10) & (Math >=70)\"]"
     ],
     "language": "python",
     "metadata": {
      "slideshow": {
       "slide_type": "fragment"
      }
     },
     "outputs": [
      {
       "metadata": {},
       "output_type": "pyout",
       "prompt_number": 19,
       "text": [
        "array([(11, 95.34635026021492), (16, 93.75299207877968),\n",
        "       (17, 83.62934657653963), (18, 94.2866248562066),\n",
        "       (25, 74.37595270796183), (26, 72.4563835854669),\n",
        "       (27, 87.50669977685034), (30, 84.32052790050209)], \n",
        "      dtype=[('Id', '<i8'), ('Math', '<f8')])"
       ]
      }
     ],
     "prompt_number": 19
    },
    {
     "cell_type": "markdown",
     "metadata": {
      "slideshow": {
       "slide_type": "subslide"
      }
     },
     "source": [
      "<font size=\"4\" color=#3066C4>\n",
      "Add and Delete Column\n",
      "</font>"
     ]
    },
    {
     "cell_type": "code",
     "collapsed": false,
     "input": [
      "Eng = np.array([40 * random.random() + 60 for ind in range(30)])"
     ],
     "language": "python",
     "metadata": {
      "slideshow": {
       "slide_type": "fragment"
      }
     },
     "outputs": [],
     "prompt_number": 20
    },
    {
     "cell_type": "code",
     "collapsed": false,
     "input": [
      "score_table.addcol(Eng, name=\"Eng\")"
     ],
     "language": "python",
     "metadata": {
      "slideshow": {
       "slide_type": "fragment"
      }
     },
     "outputs": [],
     "prompt_number": 21
    },
    {
     "cell_type": "code",
     "collapsed": false,
     "input": [
      "score_table[:10]"
     ],
     "language": "python",
     "metadata": {
      "slideshow": {
       "slide_type": "fragment"
      }
     },
     "outputs": [
      {
       "metadata": {},
       "output_type": "pyout",
       "prompt_number": 22,
       "text": [
        "array([(1, 31.438816569622695, 74.16345474130955),\n",
        "       (2, 68.54415382193856, 69.73822976040105),\n",
        "       (3, 64.8522272352685, 95.18246167470821),\n",
        "       (4, 83.13992364391062, 81.45515538999379),\n",
        "       (5, 34.49301782761991, 62.641489962938934),\n",
        "       (6, 76.6977166169982, 73.72012190497242),\n",
        "       (7, 4.810000218737165, 92.88846127840065),\n",
        "       (8, 45.91701150323537, 93.09626002479422),\n",
        "       (9, 65.5296572509581, 78.21692108619882),\n",
        "       (10, 75.9236662014381, 72.71831230228113)], \n",
        "      dtype=[('Id', '<i8'), ('Math', '<f8'), ('Eng', '<f8')])"
       ]
      }
     ],
     "prompt_number": 22
    },
    {
     "cell_type": "code",
     "collapsed": false,
     "input": [
      "score_table.delcol(\"Eng\")\n",
      "score_table"
     ],
     "language": "python",
     "metadata": {
      "slideshow": {
       "slide_type": "subslide"
      }
     },
     "outputs": [
      {
       "metadata": {},
       "output_type": "pyout",
       "prompt_number": 23,
       "text": [
        "btable((30,), [('Id', '<i8'), ('Math', '<f8')])\n",
        "  nbytes: 480; cbytes: 16.00 KB; ratio: 0.03\n",
        "  bparams := bparams(clevel=5, shuffle=True, cname=blosclz)\n",
        "[(1, 31.438816569622695) (2, 68.54415382193856) (3, 64.8522272352685)\n",
        " (4, 83.13992364391062) (5, 34.49301782761991) (6, 76.6977166169982)\n",
        " (7, 4.810000218737165) (8, 45.91701150323537) (9, 65.5296572509581)\n",
        " (10, 75.9236662014381) (11, 95.34635026021492) (12, 16.52822367022331)\n",
        " (13, 67.63340988822333) (14, 11.761980712494113) (15, 67.00554454235647)\n",
        " (16, 93.75299207877968) (17, 83.62934657653963) (18, 94.2866248562066)\n",
        " (19, 29.06775088536625) (20, 48.27057146174709) (21, 0.23575510804576538)\n",
        " (22, 55.60442227880558) (23, 67.70644318348519) (24, 64.28070718241692)\n",
        " (25, 74.37595270796183) (26, 72.4563835854669) (27, 87.50669977685034)\n",
        " (28, 51.4124523962486) (29, 55.23453491403395) (30, 84.32052790050209)]"
       ]
      }
     ],
     "prompt_number": 23
    },
    {
     "cell_type": "markdown",
     "metadata": {
      "slideshow": {
       "slide_type": "subslide"
      }
     },
     "source": [
      "<font size=\"4\" color=#3066C4>\n",
      "Iteration Over btable\n",
      "</font>"
     ]
    },
    {
     "cell_type": "code",
     "collapsed": false,
     "input": [
      "for student in score_table:\n",
      "    print student"
     ],
     "language": "python",
     "metadata": {
      "slideshow": {
       "slide_type": "fragment"
      }
     },
     "outputs": [
      {
       "output_type": "stream",
       "stream": "stdout",
       "text": [
        "row(Id=1, Math=31.438816569622695)\n",
        "row(Id=2, Math=68.54415382193856)\n",
        "row(Id=3, Math=64.8522272352685)\n",
        "row(Id=4, Math=83.13992364391062)\n",
        "row(Id=5, Math=34.49301782761991)\n",
        "row(Id=6, Math=76.6977166169982)\n",
        "row(Id=7, Math=4.810000218737165)\n",
        "row(Id=8, Math=45.91701150323537)\n",
        "row(Id=9, Math=65.5296572509581)\n",
        "row(Id=10, Math=75.9236662014381)\n",
        "row(Id=11, Math=95.34635026021492)\n",
        "row(Id=12, Math=16.52822367022331)\n",
        "row(Id=13, Math=67.63340988822333)\n",
        "row(Id=14, Math=11.761980712494113)\n",
        "row(Id=15, Math=67.00554454235647)\n",
        "row(Id=16, Math=93.75299207877968)\n",
        "row(Id=17, Math=83.62934657653963)\n",
        "row(Id=18, Math=94.2866248562066)\n",
        "row(Id=19, Math=29.06775088536625)\n",
        "row(Id=20, Math=48.27057146174709)\n",
        "row(Id=21, Math=0.23575510804576538)\n",
        "row(Id=22, Math=55.60442227880558)\n",
        "row(Id=23, Math=67.70644318348519)\n",
        "row(Id=24, Math=64.28070718241692)\n",
        "row(Id=25, Math=74.37595270796183)\n",
        "row(Id=26, Math=72.4563835854669)\n",
        "row(Id=27, Math=87.50669977685034)\n",
        "row(Id=28, Math=51.4124523962486)\n",
        "row(Id=29, Math=55.23453491403395)\n",
        "row(Id=30, Math=84.32052790050209)\n"
       ]
      }
     ],
     "prompt_number": 24
    },
    {
     "cell_type": "markdown",
     "metadata": {
      "slideshow": {
       "slide_type": "slide"
      }
     },
     "source": [
      "# Celery: The Basic"
     ]
    },
    {
     "cell_type": "markdown",
     "metadata": {
      "slideshow": {
       "slide_type": "subslide"
      }
     },
     "source": [
      "<font size=\"4\" color=#3066C4>\n",
      "First Look\n",
      "</font>\n",
      " <br>\n",
      "<font size=\"4\">\n",
      "When Celery is ready to go: <br>\n",
      "</font>\n",
      "<img width=700 height=700 src=\"https://raw.githubusercontent.com/c3h3/NANO-Data-Camp-201409/master/ipynbs/blz_Celery/image/celery.png\"/>"
     ]
    },
    {
     "cell_type": "markdown",
     "metadata": {
      "slideshow": {
       "slide_type": "subslide"
      }
     },
     "source": [
      "<font size=\"4\">\n",
      "When Celery is working on your jobs: <br>\n",
      "</font>\n",
      "  <br>\n",
      "<img width=700 height=700 src=https://raw.githubusercontent.com/c3h3/NANO-Data-Camp-201409/master/dev_ipynbs/Dboy_dev/image/celery_working.png />"
     ]
    },
    {
     "cell_type": "markdown",
     "metadata": {
      "slideshow": {
       "slide_type": "subslide"
      }
     },
     "source": [
      "# Celery: One Simple Way to Parallelize Your Code.\n",
      "  <br>\n",
      "<font size=\"4\" color=#3066C4>\n",
      "The Basic Structure of a Celery Applictation:\n",
      "</font>\n",
      "  <br>\n",
      "<font size=\"4\">\n",
      "Suppose you have a celery application named <em>predict_test_celery<em>.\n",
      "</font>\n",
      "  <br>\n",
      "<img src=\"https://raw.githubusercontent.com/c3h3/NANO-Data-Camp-201409/master/dev_ipynbs/Dboy_dev/image/proj_celery.png\"/ width=700 height=700>"
     ]
    },
    {
     "cell_type": "markdown",
     "metadata": {
      "slideshow": {
       "slide_type": "subslide"
      }
     },
     "source": [
      "<font size=\"4\" color=#3066C4>\n",
      "Under the predict_test_celery project, you have:\n",
      "</font>\n",
      "  <br>"
     ]
    },
    {
     "cell_type": "markdown",
     "metadata": {
      "slideshow": {
       "slide_type": "fragment"
      }
     },
     "source": [
      "- <font size=\"4\">\\_\\_init__.py</font>\n",
      "- <font size=\"4\">celery.py</font>\n",
      "- <font size=\"4\">tasks.py</font>"
     ]
    },
    {
     "cell_type": "markdown",
     "metadata": {
      "slideshow": {
       "slide_type": "subslide"
      }
     },
     "source": [
      "<font size=\"4\" color=#3066C4>\n",
      "A First Look of \\_\\_init__.py:\n",
      "</font>"
     ]
    },
    {
     "cell_type": "markdown",
     "metadata": {
      "slideshow": {
       "slide_type": "fragment"
      }
     },
     "source": [
      "<img src=\"https://raw.githubusercontent.com/c3h3/NANO-Data-Camp-201409/master/dev_ipynbs/Dboy_dev/image/init_celery.png\" width=700 height=700/>"
     ]
    },
    {
     "cell_type": "markdown",
     "metadata": {
      "slideshow": {
       "slide_type": "fragment"
      }
     },
     "source": [
      "<font size=\"4\">\n",
      "......... Just Nothing\n",
      "</font>"
     ]
    },
    {
     "cell_type": "markdown",
     "metadata": {
      "slideshow": {
       "slide_type": "subslide"
      }
     },
     "source": [
      "<font size=\"4\" color=#3066C4>\n",
      "A First Look of celery.py:\n",
      "</font>"
     ]
    },
    {
     "cell_type": "markdown",
     "metadata": {
      "slideshow": {
       "slide_type": "fragment"
      }
     },
     "source": [
      "<img src=\"http://raw.githubusercontent.com/c3h3/NANO-Data-Camp-201409/master/dev_ipynbs/Dboy_dev/image/celery_celery.png\" width=700 height=700/>"
     ]
    },
    {
     "cell_type": "markdown",
     "metadata": {
      "slideshow": {
       "slide_type": "fragment"
      }
     },
     "source": [
      "<font size=\"4\">\n",
      ".........\n",
      "<a href=https://github.com/c3h3/NANO-Data-Camp-201409/blob/master/ipynbs/blz_Celery/celery_example/celery.py>\n",
      "Codes\n",
      "</a>\n",
      "</font>"
     ]
    },
    {
     "cell_type": "markdown",
     "metadata": {
      "slideshow": {
       "slide_type": "subslide"
      }
     },
     "source": [
      "<font size=\"4\" color=#3066C4>\n",
      "A First Look of tasks.py:\n",
      "</font>"
     ]
    },
    {
     "cell_type": "markdown",
     "metadata": {
      "slideshow": {
       "slide_type": "fragment"
      }
     },
     "source": [
      "<img src=\"https://raw.githubusercontent.com/c3h3/NANO-Data-Camp-201409/master/dev_ipynbs/Dboy_dev/image/tasks_celery.png\" width=700 height=700>"
     ]
    },
    {
     "cell_type": "markdown",
     "metadata": {
      "slideshow": {
       "slide_type": "fragment"
      }
     },
     "source": [
      "<font size=\"4\">\n",
      ".........\n",
      "<a href=\"https://github.com/c3h3/NANO-Data-Camp-201409/blob/master/ipynbs/blz_Celery/celery_example/tasks.py\">\n",
      "Codes\n",
      "</a>\n",
      "</font>"
     ]
    },
    {
     "cell_type": "markdown",
     "metadata": {
      "slideshow": {
       "slide_type": "subslide"
      }
     },
     "source": [
      "<font color=#30C469 size=\"4\">\n",
      "Excersice: Parallelized Writing Files\n",
      "</font>"
     ]
    },
    {
     "cell_type": "markdown",
     "metadata": {
      "slideshow": {
       "slide_type": "fragment"
      }
     },
     "source": [
      "- <font size=\"4\"><font color=\"navy\">Goal</font>: A celery project which can write multiple files for you at the same time.</font>\n",
      "- <font size=\"4\">Make a \\_\\_init__.py file.</font>\n",
      "- <font size=\"4\">Make a celery.py file.</font>\n",
      "- <font size=\"4\">Make a tasks.py and write a function named <font color=\"green\"><em>multi_write(path,content)</em></font>.</font>\n",
      "- <font size=\"4\">Put above three .py files in a dirctory named <font color=\"green\"><em>multi_write_celery</em></font>.</font>"
     ]
    },
    {
     "cell_type": "markdown",
     "metadata": {
      "slideshow": {
       "slide_type": "subslide"
      }
     },
     "source": [
      "<font size=\"4\" color=#3066C4>\n",
      "How to Wake Up the Celery Worker\n",
      "</font>\n",
      "  <br>\n",
      "<font size=\"4\">In the Terminal:</font>\n",
      "\n",
      "- <font size=\"4\">\\$ mongod <font color=\"gray\">\\# Turn on the MongoDB</font></font>\n",
      "- <font size=\"4\">\\$ celery -A multi_write worker -n worker1.%h --concurrency 1 -l info</font>"
     ]
    },
    {
     "cell_type": "markdown",
     "metadata": {
      "slideshow": {
       "slide_type": "fragment"
      }
     },
     "source": [
      "<img width=700 height=700 src=https://raw.githubusercontent.com/c3h3/NANO-Data-Camp-201409/master/dev_ipynbs/Dboy_dev/image/celery.png />"
     ]
    },
    {
     "cell_type": "markdown",
     "metadata": {
      "slideshow": {
       "slide_type": "subslide"
      }
     },
     "source": [
      "<font size=\"4\">\n",
      "1. Copy and paste following code into a fire_up.py file. <br>\n",
      "2. Put fire_up.py under the same directory which contains multi_write_celery.<br>\n",
      "3. Change the working directory to that directory.<br>\n",
      "4. type `python fire_up.py`\n",
      "</font>\n",
      "\n",
      "    from multi_write_celery import multi_write\n",
      "    \n",
      "    jobs = []\n",
      "    for ind in range(10):\n",
      "        job = (\"No_{ind}.csv\".format(ind=ind), \"I'm file No.{ind}!!\".format(ind=ind))\n",
      "        jobs.append(job)\n",
      "    \n",
      "    for file, content in jobs:\n",
      "        multi_write.delay(file, content)\n",
      "\n",
      "  <br>\n",
      "<font color=\"red\" size=\"4\">Be Careful About The Indent!!</font>"
     ]
    }
   ],
   "metadata": {}
  }
 ]
}