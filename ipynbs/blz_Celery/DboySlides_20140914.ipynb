{
 "metadata": {
  "name": "",
  "signature": "sha256:824d34c57a02f2863e7b793682440120f64a3ae36b2e45f3ad3b037056379f1e"
 },
 "nbformat": 3,
 "nbformat_minor": 0,
 "worksheets": [
  {
   "cells": [
    {
     "cell_type": "markdown",
     "metadata": {},
     "source": [
      "# Large Scale Mining Strategies & Tools (Part 2)"
     ]
    },
    {
     "cell_type": "markdown",
     "metadata": {},
     "source": [
      "## Outline Today\n",
      "\n",
      "- Saving your data as barray.\n",
      "- Connect different machines with Celery.\n",
      "- Model Resampling.\n",
      "- Play large data with Kaggle. "
     ]
    },
    {
     "cell_type": "markdown",
     "metadata": {},
     "source": [
      "---"
     ]
    },
    {
     "cell_type": "markdown",
     "metadata": {},
     "source": [
      "## Saving Your Data as barray"
     ]
    },
    {
     "cell_type": "code",
     "collapsed": false,
     "input": [
      "import blz\n",
      "import numpy as np\n",
      "\n",
      "demo = blz.barray(np.random.random(1000000), rootdir=\"demo_dir\", mode=\"w\")\n",
      "demo"
     ],
     "language": "python",
     "metadata": {},
     "outputs": [
      {
       "metadata": {},
       "output_type": "pyout",
       "prompt_number": 1,
       "text": [
        "barray((1000000,), float64)\n",
        "  nbytes: 7.63 MB; cbytes: 6.76 MB; ratio: 1.13\n",
        "  bparams := bparams(clevel=5, shuffle=True, cname=blosclz)\n",
        "  rootdir := 'demo_dir'\n",
        "[ 0.62418981  0.34091906  0.08649325 ...,  0.21495898  0.23875103\n",
        "  0.56708002]"
       ]
      }
     ],
     "prompt_number": 1
    },
    {
     "cell_type": "code",
     "collapsed": false,
     "input": [
      "import os\n",
      "\n",
      "print os.listdir(\".\")\n",
      "\"demo_dir\" in os.listdir(\".\")"
     ],
     "language": "python",
     "metadata": {},
     "outputs": [
      {
       "output_type": "stream",
       "stream": "stdout",
       "text": [
        "['.DS_Store', '.ipynb_checkpoints', 'celery_example', 'data', 'DboySlides.slides.html', 'DboySlides_20140913.ipynb', 'DboySlides_20140914.ipynb', 'demo_dir', 'image', 'multi_write_ans']\n"
       ]
      },
      {
       "metadata": {},
       "output_type": "pyout",
       "prompt_number": 2,
       "text": [
        "True"
       ]
      }
     ],
     "prompt_number": 2
    },
    {
     "cell_type": "code",
     "collapsed": false,
     "input": [
      "# Remove demo\n",
      "del demo"
     ],
     "language": "python",
     "metadata": {},
     "outputs": [],
     "prompt_number": 3
    },
    {
     "cell_type": "code",
     "collapsed": false,
     "input": [
      "demo"
     ],
     "language": "python",
     "metadata": {},
     "outputs": [
      {
       "ename": "NameError",
       "evalue": "name 'demo' is not defined",
       "output_type": "pyerr",
       "traceback": [
        "\u001b[0;31m---------------------------------------------------------------------------\u001b[0m\n\u001b[0;31mNameError\u001b[0m                                 Traceback (most recent call last)",
        "\u001b[0;32m<ipython-input-4-8aae25baff2e>\u001b[0m in \u001b[0;36m<module>\u001b[0;34m()\u001b[0m\n\u001b[0;32m----> 1\u001b[0;31m \u001b[0mdemo\u001b[0m\u001b[0;34m\u001b[0m\u001b[0m\n\u001b[0m",
        "\u001b[0;31mNameError\u001b[0m: name 'demo' is not defined"
       ]
      }
     ],
     "prompt_number": 4
    },
    {
     "cell_type": "code",
     "collapsed": false,
     "input": [
      "demo = blz.open(\"./demo_dir\")\n",
      "\n",
      "demo"
     ],
     "language": "python",
     "metadata": {},
     "outputs": [
      {
       "metadata": {},
       "output_type": "pyout",
       "prompt_number": 5,
       "text": [
        "barray((1000000,), float64)\n",
        "  nbytes: 7.63 MB; cbytes: 6.76 MB; ratio: 1.13\n",
        "  bparams := bparams(clevel=5, shuffle=True, cname=blosclz)\n",
        "  rootdir := './demo_dir'\n",
        "[ 0.62418981  0.34091906  0.08649325 ...,  0.21495898  0.23875103\n",
        "  0.56708002]"
       ]
      }
     ],
     "prompt_number": 5
    },
    {
     "cell_type": "markdown",
     "metadata": {},
     "source": [
      "<font color=\"red\" size=\"4\">demo is back!!</font>"
     ]
    },
    {
     "cell_type": "markdown",
     "metadata": {},
     "source": [
      "---"
     ]
    },
    {
     "cell_type": "markdown",
     "metadata": {},
     "source": [
      "## Connect Different Machine with Celery\n",
      "\n",
      "You will need:\n",
      "\n",
      "- The ip address of the brocker machine\n",
      "- The ip address of the backend machine\n",
      "- Internet"
     ]
    },
    {
     "cell_type": "markdown",
     "metadata": {},
     "source": [
      "<font size=\"4\" color=#3066C4>Use the multi_write_celery For Example:</font>"
     ]
    },
    {
     "cell_type": "markdown",
     "metadata": {},
     "source": [
      "## In the celery.py\n",
      "\n",
      "  <br>\n",
      "from __future__ import absolute_import <br>\n",
      "from celery import Celery <br>\n",
      "\n",
      "app = Celery( <br>\n",
      "&nbsp;&nbsp;&nbsp;&nbsp;&nbsp;&nbsp;&nbsp;&nbsp;'multi_write_celery',<br>\n",
      "&nbsp;&nbsp;&nbsp;&nbsp;&nbsp;&nbsp;&nbsp;&nbsp;broker='mongodb://<font color=\"red\">device_ip_address'</font>,<br>\n",
      "&nbsp;&nbsp;&nbsp;&nbsp;&nbsp;&nbsp;&nbsp;&nbsp;backend='mongodb://<font color=\"red\">device_ip_address'</font>,<br>\n",
      "&nbsp;&nbsp;&nbsp;&nbsp;&nbsp;&nbsp;&nbsp;&nbsp;include=['multi_write_celery.tasks']<br>\n",
      ")<br>\n",
      "\n",
      "app.conf.update( <br>\n",
      "&nbsp;&nbsp;&nbsp;&nbsp;&nbsp;&nbsp;&nbsp;&nbsp;CELERY_TASK_RESULT_EXPIRES = 3600,<br>\n",
      ")\n",
      "\n",
      "if __name__ == '__main__':<br>\n",
      "&nbsp;&nbsp;&nbsp;&nbsp;&nbsp;&nbsp;&nbsp;&nbsp;app.start()\n",
      "</center>"
     ]
    },
    {
     "cell_type": "markdown",
     "metadata": {},
     "source": [
      "## In Terminal\n",
      "\n",
      "140.116.21.177\n",
      "- <font size=\"3\" color=\"green\">\\$ mongod</font> # server only\n",
      "- <font size=\"3\" color=\"green\">\\$ celery -A multi_write_celery<font color=\"red\">.tasks</font> worker -n w1.%h --concurrency 1 -l info</font>\n",
      "- <font size=\"3\" color=\"green\">\\$ python fire_up.py</font>"
     ]
    },
    {
     "cell_type": "markdown",
     "metadata": {},
     "source": [
      "---"
     ]
    },
    {
     "cell_type": "markdown",
     "metadata": {},
     "source": [
      "## Model Resampling: Shuffle Your Data"
     ]
    },
    {
     "cell_type": "code",
     "collapsed": false,
     "input": [
      "Id_test = blz.open(\"/Users/DboyLiao/Documents/kaggle/DisplayAdvertisingChallenge/data/test_blzs/Id\")\n",
      "Id_train = blz.open(\"/Users/DboyLiao/Documents/kaggle/DisplayAdvertisingChallenge/data/train_blzs/Id\")"
     ],
     "language": "python",
     "metadata": {},
     "outputs": [],
     "prompt_number": 6
    },
    {
     "cell_type": "code",
     "collapsed": false,
     "input": [
      "# It will take approximately 20s~40s to finish the job.\n",
      "def shuffle_barray(barray, chunck_size):\n",
      "    barray_shuffled = blz.barray(np.array([0 for i in range(len(barray))]))\n",
      "    if len(barray) % chunck_size == 0:\n",
      "        max_ind = len(barray) / chunck_size\n",
      "    else:\n",
      "        max_ind = (len(barray) / chunck_size) + 1\n",
      "    rand_ind = [i for i in range(max_ind)]\n",
      "    np.random.shuffle(rand_ind)\n",
      "    for idx in rand_ind:\n",
      "        temp = barray[idx*chunck_size:(idx + 1)*chunck_size]\n",
      "        np.random.shuffle(temp)\n",
      "        if idx == max_ind - 1:\n",
      "            barray_shuffled[idx*chunck_size:(idx*chunck_size + len(barray)%chunck_size)] = temp\n",
      "        else:\n",
      "            barray_shuffled[idx*chunck_size:(idx + 1)*chunck_size] = temp\n",
      "    return barray_shuffled"
     ],
     "language": "python",
     "metadata": {},
     "outputs": [],
     "prompt_number": 7
    },
    {
     "cell_type": "code",
     "collapsed": false,
     "input": [
      "%time Id_train_shuffled = shuffle_barray(Id_train, 500000)"
     ],
     "language": "python",
     "metadata": {},
     "outputs": [
      {
       "output_type": "stream",
       "stream": "stdout",
       "text": [
        "CPU times: user 25.2 s, sys: 1.38 s, total: 26.5 s\n",
        "Wall time: 25.4 s\n"
       ]
      }
     ],
     "prompt_number": 8
    },
    {
     "cell_type": "code",
     "collapsed": false,
     "input": [
      "Id_train[:10]"
     ],
     "language": "python",
     "metadata": {},
     "outputs": [
      {
       "metadata": {},
       "output_type": "pyout",
       "prompt_number": 9,
       "text": [
        "array([10000000, 10000001, 10000002, 10000003, 10000004, 10000005,\n",
        "       10000006, 10000007, 10000008, 10000009])"
       ]
      }
     ],
     "prompt_number": 9
    },
    {
     "cell_type": "code",
     "collapsed": false,
     "input": [
      "Id_train_shuffled[:10]"
     ],
     "language": "python",
     "metadata": {},
     "outputs": [
      {
       "metadata": {},
       "output_type": "pyout",
       "prompt_number": 10,
       "text": [
        "array([10189288, 10146066, 10009444, 10124826, 10342818, 10215316,\n",
        "       10366123, 10442701, 10055019, 10388007])"
       ]
      }
     ],
     "prompt_number": 10
    },
    {
     "cell_type": "markdown",
     "metadata": {},
     "source": [
      "## Model Resampling: Training Many Small Models"
     ]
    },
    {
     "cell_type": "code",
     "collapsed": false,
     "input": [
      "# Loading Data\n",
      "colnames = ['C1', 'C2', 'C3', 'C4', 'C5', 'C6', 'C7', 'C8',\n",
      "            'C9', 'C10', 'C11', 'C12', 'C13', 'C14', 'C15',\n",
      "            'C16', 'C17', 'C18', 'C19', 'C20', 'C21', 'C22',\n",
      "            'C23', 'C24', 'C25', 'C26', 'I1', 'I2', 'I3', 'I4',\n",
      "            'I5', 'I6', 'I7', 'I8', 'I9', 'I10', 'I11', 'I12', 'I13']\n",
      "columns = []\n",
      "for colname in colnames:\n",
      "    rootdir = \"/Users/DboyLiao/Documents/kaggle/DisplayAdvertisingChallenge/data/train_blzs/\" + colname\n",
      "    print \"Reading \"+ rootdir\n",
      "    temp_barray = blz.open(rootdir)\n",
      "    columns.append(temp_barray[Id_train_shuffled[:100000]])\n",
      "X = np.column_stack(columns)"
     ],
     "language": "python",
     "metadata": {},
     "outputs": [
      {
       "output_type": "stream",
       "stream": "stdout",
       "text": [
        "Reading /Users/DboyLiao/Documents/kaggle/DisplayAdvertisingChallenge/data/train_blzs/C1\n",
        "Reading /Users/DboyLiao/Documents/kaggle/DisplayAdvertisingChallenge/data/train_blzs/C2"
       ]
      },
      {
       "output_type": "stream",
       "stream": "stdout",
       "text": [
        "\n",
        "Reading /Users/DboyLiao/Documents/kaggle/DisplayAdvertisingChallenge/data/train_blzs/C3"
       ]
      },
      {
       "output_type": "stream",
       "stream": "stdout",
       "text": [
        "\n",
        "Reading /Users/DboyLiao/Documents/kaggle/DisplayAdvertisingChallenge/data/train_blzs/C4"
       ]
      },
      {
       "output_type": "stream",
       "stream": "stdout",
       "text": [
        "\n",
        "Reading /Users/DboyLiao/Documents/kaggle/DisplayAdvertisingChallenge/data/train_blzs/C5"
       ]
      },
      {
       "output_type": "stream",
       "stream": "stdout",
       "text": [
        "\n",
        "Reading /Users/DboyLiao/Documents/kaggle/DisplayAdvertisingChallenge/data/train_blzs/C6"
       ]
      },
      {
       "output_type": "stream",
       "stream": "stdout",
       "text": [
        "\n",
        "Reading /Users/DboyLiao/Documents/kaggle/DisplayAdvertisingChallenge/data/train_blzs/C7"
       ]
      },
      {
       "output_type": "stream",
       "stream": "stdout",
       "text": [
        "\n",
        "Reading /Users/DboyLiao/Documents/kaggle/DisplayAdvertisingChallenge/data/train_blzs/C8"
       ]
      },
      {
       "output_type": "stream",
       "stream": "stdout",
       "text": [
        "\n",
        "Reading /Users/DboyLiao/Documents/kaggle/DisplayAdvertisingChallenge/data/train_blzs/C9"
       ]
      },
      {
       "output_type": "stream",
       "stream": "stdout",
       "text": [
        "\n",
        "Reading /Users/DboyLiao/Documents/kaggle/DisplayAdvertisingChallenge/data/train_blzs/C10"
       ]
      },
      {
       "output_type": "stream",
       "stream": "stdout",
       "text": [
        "\n",
        "Reading /Users/DboyLiao/Documents/kaggle/DisplayAdvertisingChallenge/data/train_blzs/C11"
       ]
      },
      {
       "output_type": "stream",
       "stream": "stdout",
       "text": [
        "\n",
        "Reading /Users/DboyLiao/Documents/kaggle/DisplayAdvertisingChallenge/data/train_blzs/C12"
       ]
      },
      {
       "output_type": "stream",
       "stream": "stdout",
       "text": [
        "\n",
        "Reading /Users/DboyLiao/Documents/kaggle/DisplayAdvertisingChallenge/data/train_blzs/C13"
       ]
      },
      {
       "output_type": "stream",
       "stream": "stdout",
       "text": [
        "\n",
        "Reading /Users/DboyLiao/Documents/kaggle/DisplayAdvertisingChallenge/data/train_blzs/C14"
       ]
      },
      {
       "output_type": "stream",
       "stream": "stdout",
       "text": [
        "\n",
        "Reading /Users/DboyLiao/Documents/kaggle/DisplayAdvertisingChallenge/data/train_blzs/C15"
       ]
      },
      {
       "output_type": "stream",
       "stream": "stdout",
       "text": [
        "\n",
        "Reading /Users/DboyLiao/Documents/kaggle/DisplayAdvertisingChallenge/data/train_blzs/C16"
       ]
      },
      {
       "output_type": "stream",
       "stream": "stdout",
       "text": [
        "\n",
        "Reading /Users/DboyLiao/Documents/kaggle/DisplayAdvertisingChallenge/data/train_blzs/C17"
       ]
      },
      {
       "output_type": "stream",
       "stream": "stdout",
       "text": [
        "\n",
        "Reading /Users/DboyLiao/Documents/kaggle/DisplayAdvertisingChallenge/data/train_blzs/C18"
       ]
      },
      {
       "output_type": "stream",
       "stream": "stdout",
       "text": [
        "\n",
        "Reading /Users/DboyLiao/Documents/kaggle/DisplayAdvertisingChallenge/data/train_blzs/C19"
       ]
      },
      {
       "output_type": "stream",
       "stream": "stdout",
       "text": [
        "\n",
        "Reading /Users/DboyLiao/Documents/kaggle/DisplayAdvertisingChallenge/data/train_blzs/C20"
       ]
      },
      {
       "output_type": "stream",
       "stream": "stdout",
       "text": [
        "\n",
        "Reading /Users/DboyLiao/Documents/kaggle/DisplayAdvertisingChallenge/data/train_blzs/C21"
       ]
      },
      {
       "output_type": "stream",
       "stream": "stdout",
       "text": [
        "\n",
        "Reading /Users/DboyLiao/Documents/kaggle/DisplayAdvertisingChallenge/data/train_blzs/C22"
       ]
      },
      {
       "output_type": "stream",
       "stream": "stdout",
       "text": [
        "\n",
        "Reading /Users/DboyLiao/Documents/kaggle/DisplayAdvertisingChallenge/data/train_blzs/C23"
       ]
      },
      {
       "output_type": "stream",
       "stream": "stdout",
       "text": [
        "\n",
        "Reading /Users/DboyLiao/Documents/kaggle/DisplayAdvertisingChallenge/data/train_blzs/C24"
       ]
      },
      {
       "output_type": "stream",
       "stream": "stdout",
       "text": [
        "\n",
        "Reading /Users/DboyLiao/Documents/kaggle/DisplayAdvertisingChallenge/data/train_blzs/C25"
       ]
      },
      {
       "output_type": "stream",
       "stream": "stdout",
       "text": [
        "\n",
        "Reading /Users/DboyLiao/Documents/kaggle/DisplayAdvertisingChallenge/data/train_blzs/C26"
       ]
      },
      {
       "output_type": "stream",
       "stream": "stdout",
       "text": [
        "\n",
        "Reading /Users/DboyLiao/Documents/kaggle/DisplayAdvertisingChallenge/data/train_blzs/I1"
       ]
      },
      {
       "output_type": "stream",
       "stream": "stdout",
       "text": [
        "\n",
        "Reading /Users/DboyLiao/Documents/kaggle/DisplayAdvertisingChallenge/data/train_blzs/I2"
       ]
      },
      {
       "output_type": "stream",
       "stream": "stdout",
       "text": [
        "\n",
        "Reading /Users/DboyLiao/Documents/kaggle/DisplayAdvertisingChallenge/data/train_blzs/I3"
       ]
      },
      {
       "output_type": "stream",
       "stream": "stdout",
       "text": [
        "\n",
        "Reading /Users/DboyLiao/Documents/kaggle/DisplayAdvertisingChallenge/data/train_blzs/I4"
       ]
      },
      {
       "output_type": "stream",
       "stream": "stdout",
       "text": [
        "\n",
        "Reading /Users/DboyLiao/Documents/kaggle/DisplayAdvertisingChallenge/data/train_blzs/I5"
       ]
      },
      {
       "output_type": "stream",
       "stream": "stdout",
       "text": [
        "\n",
        "Reading /Users/DboyLiao/Documents/kaggle/DisplayAdvertisingChallenge/data/train_blzs/I6"
       ]
      },
      {
       "output_type": "stream",
       "stream": "stdout",
       "text": [
        "\n",
        "Reading /Users/DboyLiao/Documents/kaggle/DisplayAdvertisingChallenge/data/train_blzs/I7"
       ]
      },
      {
       "output_type": "stream",
       "stream": "stdout",
       "text": [
        "\n",
        "Reading /Users/DboyLiao/Documents/kaggle/DisplayAdvertisingChallenge/data/train_blzs/I8"
       ]
      },
      {
       "output_type": "stream",
       "stream": "stdout",
       "text": [
        "\n",
        "Reading /Users/DboyLiao/Documents/kaggle/DisplayAdvertisingChallenge/data/train_blzs/I9"
       ]
      },
      {
       "output_type": "stream",
       "stream": "stdout",
       "text": [
        "\n",
        "Reading /Users/DboyLiao/Documents/kaggle/DisplayAdvertisingChallenge/data/train_blzs/I10"
       ]
      },
      {
       "output_type": "stream",
       "stream": "stdout",
       "text": [
        "\n",
        "Reading /Users/DboyLiao/Documents/kaggle/DisplayAdvertisingChallenge/data/train_blzs/I11"
       ]
      },
      {
       "output_type": "stream",
       "stream": "stdout",
       "text": [
        "\n",
        "Reading /Users/DboyLiao/Documents/kaggle/DisplayAdvertisingChallenge/data/train_blzs/I12"
       ]
      },
      {
       "output_type": "stream",
       "stream": "stdout",
       "text": [
        "\n",
        "Reading /Users/DboyLiao/Documents/kaggle/DisplayAdvertisingChallenge/data/train_blzs/I13"
       ]
      },
      {
       "output_type": "stream",
       "stream": "stdout",
       "text": [
        "\n"
       ]
      }
     ],
     "prompt_number": 11
    },
    {
     "cell_type": "code",
     "collapsed": false,
     "input": [
      "# Training a small model.\n",
      "from sklearn.svm import LinearSVC\n",
      "\n",
      "svc = LinearSVC(C=1.0, penalty=\"l2\", dual=False, class_weight={0:1.0,1:2.8})\n",
      "Label = blz.open(\"/Users/DboyLiao/Documents/kaggle/DisplayAdvertisingChallenge/data/train_blzs/Label\")\n",
      "\n",
      "small_model = svc.fit(X, Label[Id_train_shuffled[:100000]])\n",
      "small_model"
     ],
     "language": "python",
     "metadata": {},
     "outputs": [
      {
       "metadata": {},
       "output_type": "pyout",
       "prompt_number": 12,
       "text": [
        "LinearSVC(C=1.0, class_weight={0: 1.0, 1: 2.8}, dual=False,\n",
        "     fit_intercept=True, intercept_scaling=1, loss='l2', multi_class='ovr',\n",
        "     penalty='l2', random_state=None, tol=0.0001, verbose=0)"
       ]
      }
     ],
     "prompt_number": 12
    },
    {
     "cell_type": "markdown",
     "metadata": {},
     "source": [
      "<font color=\"navy\" size=\"4\">Next: train another small model.</font>"
     ]
    },
    {
     "cell_type": "markdown",
     "metadata": {},
     "source": [
      "<font size=\"6\" color=\"red\">It's Your Turn Now!!</font>"
     ]
    }
   ],
   "metadata": {}
  }
 ]
}