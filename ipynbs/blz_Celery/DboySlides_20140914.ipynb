{
 "metadata": {
  "name": "",
  "signature": "sha256:360f4b2ab9e2d5a8d6f2939661f2796050c56751af2797b295aee03ddcb56136"
 },
 "nbformat": 3,
 "nbformat_minor": 0,
 "worksheets": [
  {
   "cells": [
    {
     "cell_type": "markdown",
     "metadata": {},
     "source": [
      "# Large Scale Mining Strategies & Tools (Part 2)"
     ]
    },
    {
     "cell_type": "markdown",
     "metadata": {},
     "source": [
      "## Outline Today\n",
      "\n",
      "- Saving your data as barray.\n",
      "- Model Resampling.\n",
      "- Play large data with Kaggle. "
     ]
    },
    {
     "cell_type": "markdown",
     "metadata": {},
     "source": [
      "## Review of barray and btable\n",
      "\n"
     ]
    },
    {
     "cell_type": "code",
     "collapsed": false,
     "input": [
      "import blz\n",
      "import numpy as np\n",
      "\n",
      "Id_test = blz.open(\"/Users/DboyLiao/Documents/kaggle/DisplayAdvertisingChallenge/data/test_blzs/Id\")\n",
      "Id_train = blz.open(\"/Users/DboyLiao/Documents/kaggle/DisplayAdvertisingChallenge/data/train_blzs/Id\")"
     ],
     "language": "python",
     "metadata": {},
     "outputs": [],
     "prompt_number": 1
    },
    {
     "cell_type": "markdown",
     "metadata": {},
     "source": []
    },
    {
     "cell_type": "code",
     "collapsed": false,
     "input": [],
     "language": "python",
     "metadata": {},
     "outputs": []
    },
    {
     "cell_type": "code",
     "collapsed": false,
     "input": [],
     "language": "python",
     "metadata": {},
     "outputs": []
    },
    {
     "cell_type": "code",
     "collapsed": false,
     "input": [],
     "language": "python",
     "metadata": {},
     "outputs": []
    },
    {
     "cell_type": "code",
     "collapsed": false,
     "input": [
      "# It will take approximately 20s to finish the job.\n",
      "def shuffle_barray(barray, chunck_size):\n",
      "    barray_shuffled = blz.barray(np.array([0 for i in range(len(barray))]))\n",
      "    if len(barray) % chunck_size == 0:\n",
      "        max_ind = len(barray) / chunck_size\n",
      "    else:\n",
      "        max_ind = (len(barray) / chunck_size) + 1\n",
      "    rand_ind = [i for i in range(max_ind)]\n",
      "    np.random.shuffle(rand_ind)\n",
      "    for idx in rand_ind:\n",
      "        temp = barray[idx*chunck_size:(idx + 1)*chunck_size]\n",
      "        np.random.shuffle(temp)\n",
      "        if idx == max_ind - 1:\n",
      "            barray_shuffled[idx*chunck_size:(idx*chunck_size + len(barray)%chunck_size)] = temp\n",
      "        else:\n",
      "            barray_shuffled[idx*chunck_size:(idx + 1)*chunck_size] = temp\n",
      "    return barray_shuffled"
     ],
     "language": "python",
     "metadata": {},
     "outputs": [],
     "prompt_number": 8
    },
    {
     "cell_type": "code",
     "collapsed": false,
     "input": [
      "%time Id_train_shuffled = shuffle_barray(Id_train, 500000)"
     ],
     "language": "python",
     "metadata": {},
     "outputs": [
      {
       "output_type": "stream",
       "stream": "stdout",
       "text": [
        "CPU times: user 23.9 s, sys: 1.03 s, total: 24.9 s\n",
        "Wall time: 23.7 s\n"
       ]
      }
     ],
     "prompt_number": 9
    },
    {
     "cell_type": "code",
     "collapsed": false,
     "input": [
      "Id_train[:10]"
     ],
     "language": "python",
     "metadata": {},
     "outputs": [
      {
       "metadata": {},
       "output_type": "pyout",
       "prompt_number": 5,
       "text": [
        "array([10000000, 10000001, 10000002, 10000003, 10000004, 10000005,\n",
        "       10000006, 10000007, 10000008, 10000009])"
       ]
      }
     ],
     "prompt_number": 5
    },
    {
     "cell_type": "code",
     "collapsed": false,
     "input": [
      "Id_train_shuffled[:10]"
     ],
     "language": "python",
     "metadata": {},
     "outputs": [
      {
       "metadata": {},
       "output_type": "pyout",
       "prompt_number": 4,
       "text": [
        "array([15892975, 17156627, 13644151, 12506541, 15249037, 16874275,\n",
        "       12594937, 17155686, 18881263, 15533856])"
       ]
      }
     ],
     "prompt_number": 4
    },
    {
     "cell_type": "code",
     "collapsed": false,
     "input": [],
     "language": "python",
     "metadata": {},
     "outputs": []
    }
   ],
   "metadata": {}
  }
 ]
}