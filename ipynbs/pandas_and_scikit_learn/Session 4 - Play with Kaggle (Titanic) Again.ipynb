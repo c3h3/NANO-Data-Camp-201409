{
 "metadata": {
  "celltoolbar": "Slideshow",
  "kernelspec": {
   "codemirror_mode": {
    "name": "ipython",
    "version": 3
   },
   "display_name": "IPython (Python 3)",
   "language": "python",
   "name": "python3"
  },
  "name": "",
  "signature": "sha256:947a121c4e9121bc8b5f3215a1cd20e1607bc364a6345372b0135917da1532cc"
 },
 "nbformat": 3,
 "nbformat_minor": 0,
 "worksheets": [
  {
   "cells": [
    {
     "cell_type": "markdown",
     "metadata": {
      "slideshow": {
       "slide_type": "slide"
      }
     },
     "source": [
      "# Play with Kaggle (Titanic) Again\n",
      "\n",
      "### Willy Kuo\n",
      "2014/09/12"
     ]
    },
    {
     "cell_type": "markdown",
     "metadata": {
      "slideshow": {
       "slide_type": "slide"
      }
     },
     "source": [
      "# Prepare the training data"
     ]
    },
    {
     "cell_type": "code",
     "collapsed": false,
     "input": [
      "import pandas as pd\n",
      "\n",
      "df_train = pd.read_csv('data/titanic/train.csv')\n",
      "df_train.head(10)"
     ],
     "language": "python",
     "metadata": {},
     "outputs": []
    },
    {
     "cell_type": "markdown",
     "metadata": {
      "slideshow": {
       "slide_type": "slide"
      }
     },
     "source": [
      "# Preprocess the training data"
     ]
    },
    {
     "cell_type": "code",
     "collapsed": false,
     "input": [
      "from sklearn.preprocessing import LabelEncoder\n",
      "\n",
      "encoder = LabelEncoder()\n",
      "\n",
      "df_train['Sex2'] = encoder.fit_transform(df_train['Sex'])\n",
      "\n",
      "\n",
      "X_train = df_train[['Sex2', 'Pclass', 'Fare']].values\n",
      "Y_train = df_train['Survived'].values\n"
     ],
     "language": "python",
     "metadata": {
      "slideshow": {
       "slide_type": "-"
      }
     },
     "outputs": []
    },
    {
     "cell_type": "markdown",
     "metadata": {
      "slideshow": {
       "slide_type": "slide"
      }
     },
     "source": [
      "# Create the Desision Tree Classifier\n",
      "# Train it by the training data"
     ]
    },
    {
     "cell_type": "code",
     "collapsed": false,
     "input": [
      "from sklearn import tree\n",
      "\n",
      "clf = tree.DecisionTreeClassifier()\n",
      "clf = clf.fit(X_train, Y_train)\n"
     ],
     "language": "python",
     "metadata": {},
     "outputs": []
    },
    {
     "cell_type": "markdown",
     "metadata": {
      "slideshow": {
       "slide_type": "slide"
      }
     },
     "source": [
      "# Prepare our testing data"
     ]
    },
    {
     "cell_type": "code",
     "collapsed": false,
     "input": [
      "df_test = pd.read_csv('data/titanic/test.csv')"
     ],
     "language": "python",
     "metadata": {},
     "outputs": []
    },
    {
     "cell_type": "markdown",
     "metadata": {
      "slideshow": {
       "slide_type": "slide"
      }
     },
     "source": [
      "# Quiz 1: Encode the Sex column of the testing data"
     ]
    },
    {
     "cell_type": "code",
     "collapsed": false,
     "input": [
      "# DON'T FIT YOUR ENCODER AGAIN!!!!!\n",
      "\n",
      "# Hint df_test['Sex2'] = encoder.???(df_test['Sex'])\n"
     ],
     "language": "python",
     "metadata": {},
     "outputs": []
    },
    {
     "cell_type": "markdown",
     "metadata": {
      "slideshow": {
       "slide_type": "slide"
      }
     },
     "source": [
      "# Check the missing value"
     ]
    },
    {
     "cell_type": "code",
     "collapsed": false,
     "input": [
      "df_test['Fare'].isnull()"
     ],
     "language": "python",
     "metadata": {},
     "outputs": []
    },
    {
     "cell_type": "markdown",
     "metadata": {
      "slideshow": {
       "slide_type": "slide"
      }
     },
     "source": [
      "# Quiz 2: Show the row with missing Fare"
     ]
    },
    {
     "cell_type": "code",
     "collapsed": false,
     "input": [
      "# Hint: df_test[ ???the true/false array??? ]\n",
      "\n"
     ],
     "language": "python",
     "metadata": {
      "slideshow": {
       "slide_type": "-"
      }
     },
     "outputs": []
    },
    {
     "cell_type": "markdown",
     "metadata": {
      "slideshow": {
       "slide_type": "slide"
      }
     },
     "source": [
      "# Fill the missing data by the average value"
     ]
    },
    {
     "cell_type": "code",
     "collapsed": false,
     "input": [
      "df_test['Fare'] = df_test['Fare'].fillna( df_test['Fare'].mean() )"
     ],
     "language": "python",
     "metadata": {
      "slideshow": {
       "slide_type": "-"
      }
     },
     "outputs": []
    },
    {
     "cell_type": "markdown",
     "metadata": {
      "slideshow": {
       "slide_type": "slide"
      }
     },
     "source": [
      "# Quiz 3: Predict it"
     ]
    },
    {
     "cell_type": "code",
     "collapsed": false,
     "input": [
      "X_test = df_test[['Sex2', 'Pclass', 'Fare']].values\n",
      "\n",
      "# Hint: clf.?(X_test)]\n",
      "# Put your code here ...\n",
      "\n"
     ],
     "language": "python",
     "metadata": {},
     "outputs": []
    },
    {
     "cell_type": "markdown",
     "metadata": {
      "slideshow": {
       "slide_type": "slide"
      }
     },
     "source": [
      "# Quiz 4: Append your prediction to the original dataframe"
     ]
    },
    {
     "cell_type": "code",
     "collapsed": false,
     "input": [
      "# Hint: df_test['???'] = clf.???(X_test)\n",
      "# Put your code here ...\n",
      "\n",
      "\n",
      "# Check your df_test\n",
      "df_test"
     ],
     "language": "python",
     "metadata": {},
     "outputs": []
    },
    {
     "cell_type": "markdown",
     "metadata": {
      "slideshow": {
       "slide_type": "slide"
      }
     },
     "source": [
      "# Output your super awesome submission"
     ]
    },
    {
     "cell_type": "code",
     "collapsed": false,
     "input": [
      "df_test[['PassengerId', 'Survived']].to_csv('output/titanic_submission3.csv', index=None)"
     ],
     "language": "python",
     "metadata": {},
     "outputs": []
    },
    {
     "cell_type": "markdown",
     "metadata": {
      "slideshow": {
       "slide_type": "slide"
      }
     },
     "source": [
      "# Submit\n",
      "\n",
      "<https://www.kaggle.com/c/titanic-gettingStarted/submissions/attach>"
     ]
    },
    {
     "cell_type": "markdown",
     "metadata": {
      "slideshow": {
       "slide_type": "slide"
      }
     },
     "source": [
      "# QA"
     ]
    }
   ],
   "metadata": {}
  }
 ]
}