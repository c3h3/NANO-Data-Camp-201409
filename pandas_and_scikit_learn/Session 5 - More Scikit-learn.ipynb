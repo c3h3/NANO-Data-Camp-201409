{
 "metadata": {
  "celltoolbar": "Slideshow",
  "kernelspec": {
   "codemirror_mode": {
    "name": "ipython",
    "version": 3
   },
   "display_name": "IPython (Python 3)",
   "language": "python",
   "name": "python3"
  },
  "name": "",
  "signature": "sha256:8e8f6ae4d4154669291af5677c43064e6fa63e17febf3c6de92e8a585ed20211"
 },
 "nbformat": 3,
 "nbformat_minor": 0,
 "worksheets": [
  {
   "cells": [
    {
     "cell_type": "markdown",
     "metadata": {},
     "source": [
      "# More Scikit-Learn\n",
      "\n",
      "### Willy Kuo\n",
      "2014/09/12"
     ]
    },
    {
     "cell_type": "markdown",
     "metadata": {},
     "source": [
      "# Let's play another data set"
     ]
    },
    {
     "cell_type": "markdown",
     "metadata": {},
     "source": [
      "# Data Science London + Scikit-learn\n",
      "\n",
      "<http://www.kaggle.com/c/data-science-london-scikit-learn>"
     ]
    },
    {
     "cell_type": "markdown",
     "metadata": {},
     "source": [
      "# Get the data\n",
      "\n",
      "<http://www.kaggle.com/c/data-science-london-scikit-learn/data>"
     ]
    },
    {
     "cell_type": "markdown",
     "metadata": {},
     "source": [
      "# Check the submission rule\n",
      "\n",
      "<http://www.kaggle.com/c/data-science-london-scikit-learn/details/evaluation>"
     ]
    },
    {
     "cell_type": "raw",
     "metadata": {},
     "source": [
      "# Read the training data"
     ]
    },
    {
     "cell_type": "code",
     "collapsed": false,
     "input": [
      "import pandas as pd\n",
      "\n",
      "X = pd.read_csv('data/dslondon/train.csv', header=None).values\n",
      "X"
     ],
     "language": "python",
     "metadata": {},
     "outputs": [
      {
       "metadata": {},
       "output_type": "pyout",
       "prompt_number": 30,
       "text": [
        "array([[ 0.29940251, -1.22662419,  1.49842505, ..., -2.71555881,\n",
        "        -2.68240859,  0.10105047],\n",
        "       [-1.17417585,  0.33215734,  0.94991875, ...,  1.21321926,\n",
        "         1.38293163, -1.81776106],\n",
        "       [ 1.19222208, -0.41437073,  0.06705418, ...,  0.6564375 ,\n",
        "        -0.93247282,  2.9874358 ],\n",
        "       ..., \n",
        "       [ 0.91274769, -1.73403887, -1.04703517, ...,  0.06151283,\n",
        "         0.8955364 ,  0.81368551],\n",
        "       [ 2.43977998, -0.73551082, -0.90242559, ...,  0.22974842,\n",
        "        -2.31108844, -3.4222166 ],\n",
        "       [ 0.2289942 , -0.08545331,  0.87658248, ...,  0.40037229,\n",
        "        -3.43103056,  2.37007995]])"
       ]
      }
     ],
     "prompt_number": 30
    },
    {
     "cell_type": "markdown",
     "metadata": {},
     "source": [
      "# Read the Labels"
     ]
    },
    {
     "cell_type": "code",
     "collapsed": false,
     "input": [
      "y = pd.read_csv('data/dslondon/trainLabels.csv', header=None).values[:,0]\n",
      "y[:20]"
     ],
     "language": "python",
     "metadata": {},
     "outputs": [
      {
       "metadata": {},
       "output_type": "pyout",
       "prompt_number": 64,
       "text": [
        "array([1, 0, 0, 1, 0, 1, 0, 1, 1, 0, 1, 0, 0, 0, 0, 1, 1, 0, 1, 0])"
       ]
      }
     ],
     "prompt_number": 64
    },
    {
     "cell_type": "markdown",
     "metadata": {},
     "source": [
      "# Split the data"
     ]
    },
    {
     "cell_type": "code",
     "collapsed": false,
     "input": [
      "from sklearn import cross_validation as cv\n",
      "\n",
      "X_train, X_test, y_train, y_test = cv.train_test_split(X, y, test_size=0.1)"
     ],
     "language": "python",
     "metadata": {},
     "outputs": [],
     "prompt_number": 65
    },
    {
     "cell_type": "markdown",
     "metadata": {},
     "source": [
      "# Scikit-Learn - Support Vector Machine\n",
      "\n",
      "<http://scikit-learn.org/stable/modules/svm.html>\n",
      "\n",
      "<http://scikit-learn.org/stable/modules/generated/sklearn.svm.SVC.html>"
     ]
    },
    {
     "cell_type": "code",
     "collapsed": false,
     "input": [
      "from sklearn import svm\n",
      "\n",
      "C = 10 ** 6.5\n",
      "gamma = 10 ** -1.5\n",
      "kernel = 'rbf'\n",
      "\n",
      "clf = svm.SVC(C=C, gamma=gamma, kernel=kernel)"
     ],
     "language": "python",
     "metadata": {},
     "outputs": [],
     "prompt_number": 66
    },
    {
     "cell_type": "code",
     "collapsed": false,
     "input": [
      "clf.fit(X_train, y_train)"
     ],
     "language": "python",
     "metadata": {},
     "outputs": [
      {
       "metadata": {},
       "output_type": "pyout",
       "prompt_number": 67,
       "text": [
        "SVC(C=3162277.6601683795, cache_size=200, class_weight=None, coef0=0.0,\n",
        "  degree=3, gamma=0.03162277660168379, kernel='rbf', max_iter=-1,\n",
        "  probability=False, random_state=None, shrinking=True, tol=0.001,\n",
        "  verbose=False)"
       ]
      }
     ],
     "prompt_number": 67
    },
    {
     "cell_type": "markdown",
     "metadata": {},
     "source": [
      "# Predict"
     ]
    },
    {
     "cell_type": "code",
     "collapsed": false,
     "input": [
      "clf.predict(X_test)"
     ],
     "language": "python",
     "metadata": {},
     "outputs": [
      {
       "metadata": {},
       "output_type": "pyout",
       "prompt_number": 68,
       "text": [
        "array([1, 1, 1, 1, 0, 1, 1, 0, 0, 0, 0, 0, 1, 1, 0, 0, 0, 1, 0, 1, 1, 0, 0,\n",
        "       0, 0, 0, 0, 0, 0, 0, 0, 1, 1, 1, 1, 0, 1, 0, 0, 1, 1, 1, 0, 1, 1, 1,\n",
        "       1, 0, 0, 1, 0, 1, 1, 0, 1, 1, 0, 0, 0, 0, 1, 0, 0, 0, 0, 0, 1, 0, 0,\n",
        "       1, 1, 0, 0, 0, 0, 0, 1, 1, 0, 1, 0, 1, 0, 0, 0, 1, 0, 1, 0, 1, 0, 1,\n",
        "       1, 0, 0, 0, 1, 0, 0, 0])"
       ]
      }
     ],
     "prompt_number": 68
    },
    {
     "cell_type": "markdown",
     "metadata": {},
     "source": [
      "# Scikit-Learn - Metrics"
     ]
    },
    {
     "cell_type": "code",
     "collapsed": false,
     "input": [
      "from sklearn import metrics\n",
      "\n",
      "print( metrics.classification_report(y_test, clf.predict(X_test)) )"
     ],
     "language": "python",
     "metadata": {},
     "outputs": [
      {
       "output_type": "stream",
       "stream": "stdout",
       "text": [
        "             precision    recall  f1-score   support\n",
        "\n",
        "          0       0.98      0.98      0.98        58\n",
        "          1       0.98      0.98      0.98        42\n",
        "\n",
        "avg / total       0.98      0.98      0.98       100\n",
        "\n"
       ]
      }
     ],
     "prompt_number": 69
    },
    {
     "cell_type": "markdown",
     "metadata": {},
     "source": [
      "# Cross Validation"
     ]
    },
    {
     "cell_type": "markdown",
     "metadata": {},
     "source": [
      "# Scikit-Learn - K Fold\n",
      "\n",
      "Stratified K-Folds cross validation iterator\n",
      "\n",
      "<http://scikit-learn.org/stable/modules/generated/sklearn.cross_validation.StratifiedKFold.html>"
     ]
    },
    {
     "cell_type": "markdown",
     "metadata": {},
     "source": [
      "# Scikit-Learn - Grid Search CV\n",
      "\n",
      "<http://scikit-learn.org/0.13/modules/generated/sklearn.grid_search.GridSearchCV.html#sklearn.grid_search.GridSearchCV>"
     ]
    },
    {
     "cell_type": "markdown",
     "metadata": {},
     "source": [
      "# Prepare the parameters"
     ]
    },
    {
     "cell_type": "code",
     "collapsed": false,
     "input": [
      "import numpy as np\n",
      "\n",
      "c_range = 10.0 ** np.arange(6.5,7.5,.25)\n",
      "gamma_range = 10.0 ** np.arange(-1.5,0.5,.25)\n",
      "params = [{'kernel': ['rbf'], 'gamma': gamma_range, 'C': c_range}]\n",
      "\n",
      "print('C     : %s' % c_range)\n",
      "print('gamma : %s' % gamma_range)\n",
      "print('kernel: %s' % c_range)"
     ],
     "language": "python",
     "metadata": {},
     "outputs": [
      {
       "output_type": "stream",
       "stream": "stdout",
       "text": [
        "C     : [  3162277.66016838   5623413.25190349  10000000.          17782794.10038923]\n",
        "gamma : [ 0.03162278  0.05623413  0.1         0.17782794  0.31622777  0.56234133\n",
        "  1.          1.77827941]\n",
        "kernel: [  3162277.66016838   5623413.25190349  10000000.          17782794.10038923]\n"
       ]
      }
     ],
     "prompt_number": 70
    },
    {
     "cell_type": "markdown",
     "metadata": {},
     "source": [
      "# K-fold & GridSearchCV"
     ]
    },
    {
     "cell_type": "code",
     "collapsed": false,
     "input": [
      "from sklearn import grid_search as gs\n",
      "\n",
      "cvk = cv.StratifiedKFold(y_train, n_folds=5)\n",
      "clf = gs.GridSearchCV(svm.SVC(), params, cv=cvk)\n"
     ],
     "language": "python",
     "metadata": {},
     "outputs": [],
     "prompt_number": 75
    },
    {
     "cell_type": "markdown",
     "metadata": {},
     "source": [
      "# Fit the data"
     ]
    },
    {
     "cell_type": "code",
     "collapsed": false,
     "input": [
      "clf.fit(X_train, y_train)"
     ],
     "language": "python",
     "metadata": {},
     "outputs": [
      {
       "metadata": {},
       "output_type": "pyout",
       "prompt_number": 76,
       "text": [
        "GridSearchCV(cv=sklearn.cross_validation.StratifiedKFold(labels=[1 1 ..., 1 0], n_folds=5, shuffle=False, random_state=None),\n",
        "       estimator=SVC(C=1.0, cache_size=200, class_weight=None, coef0=0.0, degree=3, gamma=0.0,\n",
        "  kernel='rbf', max_iter=-1, probability=False, random_state=None,\n",
        "  shrinking=True, tol=0.001, verbose=False),\n",
        "       fit_params={}, iid=True, loss_func=None, n_jobs=1,\n",
        "       param_grid=[{'C': array([  3162277.66017,   5623413.2519 ,  10000000.     ,  17782794.10039]), 'gamma': array([ 0.03162,  0.05623,  0.1    ,  0.17783,  0.31623,  0.56234,\n",
        "        1.     ,  1.77828]), 'kernel': ['rbf']}],\n",
        "       pre_dispatch='2*n_jobs', refit=True, score_func=None, scoring=None,\n",
        "       verbose=0)"
       ]
      }
     ],
     "prompt_number": 76
    },
    {
     "cell_type": "markdown",
     "metadata": {},
     "source": [
      "# Show the scores"
     ]
    },
    {
     "cell_type": "code",
     "collapsed": false,
     "input": [
      "print( metrics.classification_report(y_test, clf.predict(X_test)) )"
     ],
     "language": "python",
     "metadata": {},
     "outputs": [
      {
       "output_type": "stream",
       "stream": "stdout",
       "text": [
        "             precision    recall  f1-score   support\n",
        "\n",
        "          0       0.98      0.98      0.98        58\n",
        "          1       0.98      0.98      0.98        42\n",
        "\n",
        "avg / total       0.98      0.98      0.98       100\n",
        "\n"
       ]
      }
     ],
     "prompt_number": 81
    },
    {
     "cell_type": "markdown",
     "metadata": {},
     "source": [
      "# Read our real testing data"
     ]
    },
    {
     "cell_type": "code",
     "collapsed": false,
     "input": [
      "test_X = pd.read_csv('data/dslondon/test.csv', header=None).values\n",
      "test_X"
     ],
     "language": "python",
     "metadata": {},
     "outputs": [
      {
       "metadata": {},
       "output_type": "pyout",
       "prompt_number": 90,
       "text": [
        "array([[ 2.80890949, -0.24289415, -0.54642134, ...,  0.01066468,\n",
        "        -0.41921433,  2.8183871 ],\n",
        "       [-0.3741013 ,  0.53766912,  0.08106285, ..., -1.47093888,\n",
        "        -0.06740834, -0.97626498],\n",
        "       [-0.08837031,  0.15474257,  0.38071611, ...,  1.26586577,\n",
        "        -1.74924825,  1.77378412],\n",
        "       ..., \n",
        "       [ 0.05227421, -1.73655765, -0.26369872, ...,  1.1796059 ,\n",
        "         1.15633997, -1.21856135],\n",
        "       [ 1.44365875,  0.65189194,  0.55072377, ..., -0.42495429,\n",
        "         1.33337425,  2.32527112],\n",
        "       [-0.42914491, -0.11082132,  1.2572304 , ...,  0.61748452,\n",
        "         1.46443756,  3.30144546]])"
       ]
      }
     ],
     "prompt_number": 90
    },
    {
     "cell_type": "markdown",
     "metadata": {},
     "source": [
      "# Predcit it\n"
     ]
    },
    {
     "cell_type": "code",
     "collapsed": false,
     "input": [
      "predictions = clf.predict(test_X)\n",
      "predictions"
     ],
     "language": "python",
     "metadata": {},
     "outputs": [
      {
       "metadata": {},
       "output_type": "pyout",
       "prompt_number": 88,
       "text": [
        "array([1, 0, 1, ..., 1, 0, 1])"
       ]
      }
     ],
     "prompt_number": 88
    },
    {
     "cell_type": "markdown",
     "metadata": {},
     "source": [
      "# Make the submission"
     ]
    },
    {
     "cell_type": "code",
     "collapsed": false,
     "input": [
      "df_submission = pd.DataFrame( predictions , columns=['Solution'])\n",
      "df_submission.head()"
     ],
     "language": "python",
     "metadata": {},
     "outputs": [
      {
       "html": [
        "<div style=\"max-height:1000px;max-width:1500px;overflow:auto;\">\n",
        "<table border=\"1\" class=\"dataframe\">\n",
        "  <thead>\n",
        "    <tr style=\"text-align: right;\">\n",
        "      <th></th>\n",
        "      <th>Solution</th>\n",
        "    </tr>\n",
        "  </thead>\n",
        "  <tbody>\n",
        "    <tr>\n",
        "      <th>0</th>\n",
        "      <td> 1</td>\n",
        "    </tr>\n",
        "    <tr>\n",
        "      <th>1</th>\n",
        "      <td> 0</td>\n",
        "    </tr>\n",
        "    <tr>\n",
        "      <th>2</th>\n",
        "      <td> 1</td>\n",
        "    </tr>\n",
        "    <tr>\n",
        "      <th>3</th>\n",
        "      <td> 0</td>\n",
        "    </tr>\n",
        "    <tr>\n",
        "      <th>4</th>\n",
        "      <td> 0</td>\n",
        "    </tr>\n",
        "  </tbody>\n",
        "</table>\n",
        "<p>5 rows \u00d7 1 columns</p>\n",
        "</div>"
       ],
       "metadata": {},
       "output_type": "pyout",
       "prompt_number": 100,
       "text": [
        "   Solution\n",
        "0         1\n",
        "1         0\n",
        "2         1\n",
        "3         0\n",
        "4         0\n",
        "\n",
        "[5 rows x 1 columns]"
       ]
      }
     ],
     "prompt_number": 100
    },
    {
     "cell_type": "markdown",
     "metadata": {},
     "source": [
      "# Use the current index as Id"
     ]
    },
    {
     "cell_type": "code",
     "collapsed": false,
     "input": [
      "df_submission = df_submission.reset_index()\n",
      "df_submission.head()"
     ],
     "language": "python",
     "metadata": {},
     "outputs": [
      {
       "html": [
        "<div style=\"max-height:1000px;max-width:1500px;overflow:auto;\">\n",
        "<table border=\"1\" class=\"dataframe\">\n",
        "  <thead>\n",
        "    <tr style=\"text-align: right;\">\n",
        "      <th></th>\n",
        "      <th>index</th>\n",
        "      <th>Solution</th>\n",
        "    </tr>\n",
        "  </thead>\n",
        "  <tbody>\n",
        "    <tr>\n",
        "      <th>0</th>\n",
        "      <td> 0</td>\n",
        "      <td> 1</td>\n",
        "    </tr>\n",
        "    <tr>\n",
        "      <th>1</th>\n",
        "      <td> 1</td>\n",
        "      <td> 0</td>\n",
        "    </tr>\n",
        "    <tr>\n",
        "      <th>2</th>\n",
        "      <td> 2</td>\n",
        "      <td> 1</td>\n",
        "    </tr>\n",
        "    <tr>\n",
        "      <th>3</th>\n",
        "      <td> 3</td>\n",
        "      <td> 0</td>\n",
        "    </tr>\n",
        "    <tr>\n",
        "      <th>4</th>\n",
        "      <td> 4</td>\n",
        "      <td> 0</td>\n",
        "    </tr>\n",
        "  </tbody>\n",
        "</table>\n",
        "<p>5 rows \u00d7 2 columns</p>\n",
        "</div>"
       ],
       "metadata": {},
       "output_type": "pyout",
       "prompt_number": 101,
       "text": [
        "   index  Solution\n",
        "0      0         1\n",
        "1      1         0\n",
        "2      2         1\n",
        "3      3         0\n",
        "4      4         0\n",
        "\n",
        "[5 rows x 2 columns]"
       ]
      }
     ],
     "prompt_number": 101
    },
    {
     "cell_type": "markdown",
     "metadata": {},
     "source": [
      "# Rename index as Id"
     ]
    },
    {
     "cell_type": "code",
     "collapsed": false,
     "input": [
      "df_submission = df_submission.rename(columns={'index': 'Id'})\n",
      "df_submission.head()"
     ],
     "language": "python",
     "metadata": {},
     "outputs": [
      {
       "html": [
        "<div style=\"max-height:1000px;max-width:1500px;overflow:auto;\">\n",
        "<table border=\"1\" class=\"dataframe\">\n",
        "  <thead>\n",
        "    <tr style=\"text-align: right;\">\n",
        "      <th></th>\n",
        "      <th>Id</th>\n",
        "      <th>Solution</th>\n",
        "    </tr>\n",
        "  </thead>\n",
        "  <tbody>\n",
        "    <tr>\n",
        "      <th>0</th>\n",
        "      <td> 0</td>\n",
        "      <td> 1</td>\n",
        "    </tr>\n",
        "    <tr>\n",
        "      <th>1</th>\n",
        "      <td> 1</td>\n",
        "      <td> 0</td>\n",
        "    </tr>\n",
        "    <tr>\n",
        "      <th>2</th>\n",
        "      <td> 2</td>\n",
        "      <td> 1</td>\n",
        "    </tr>\n",
        "    <tr>\n",
        "      <th>3</th>\n",
        "      <td> 3</td>\n",
        "      <td> 0</td>\n",
        "    </tr>\n",
        "    <tr>\n",
        "      <th>4</th>\n",
        "      <td> 4</td>\n",
        "      <td> 0</td>\n",
        "    </tr>\n",
        "  </tbody>\n",
        "</table>\n",
        "<p>5 rows \u00d7 2 columns</p>\n",
        "</div>"
       ],
       "metadata": {},
       "output_type": "pyout",
       "prompt_number": 106,
       "text": [
        "   Id  Solution\n",
        "0   0         1\n",
        "1   1         0\n",
        "2   2         1\n",
        "3   3         0\n",
        "4   4         0\n",
        "\n",
        "[5 rows x 2 columns]"
       ]
      }
     ],
     "prompt_number": 106
    },
    {
     "cell_type": "markdown",
     "metadata": {},
     "source": [
      "# Increase Id by 1"
     ]
    },
    {
     "cell_type": "code",
     "collapsed": false,
     "input": [
      "df_submission['Id'] = df_submission['Id'] + 1\n",
      "df_submission.head()"
     ],
     "language": "python",
     "metadata": {},
     "outputs": [
      {
       "html": [
        "<div style=\"max-height:1000px;max-width:1500px;overflow:auto;\">\n",
        "<table border=\"1\" class=\"dataframe\">\n",
        "  <thead>\n",
        "    <tr style=\"text-align: right;\">\n",
        "      <th></th>\n",
        "      <th>Id</th>\n",
        "      <th>Solution</th>\n",
        "    </tr>\n",
        "  </thead>\n",
        "  <tbody>\n",
        "    <tr>\n",
        "      <th>0</th>\n",
        "      <td> 1</td>\n",
        "      <td> 1</td>\n",
        "    </tr>\n",
        "    <tr>\n",
        "      <th>1</th>\n",
        "      <td> 2</td>\n",
        "      <td> 0</td>\n",
        "    </tr>\n",
        "    <tr>\n",
        "      <th>2</th>\n",
        "      <td> 3</td>\n",
        "      <td> 1</td>\n",
        "    </tr>\n",
        "    <tr>\n",
        "      <th>3</th>\n",
        "      <td> 4</td>\n",
        "      <td> 0</td>\n",
        "    </tr>\n",
        "    <tr>\n",
        "      <th>4</th>\n",
        "      <td> 5</td>\n",
        "      <td> 0</td>\n",
        "    </tr>\n",
        "  </tbody>\n",
        "</table>\n",
        "<p>5 rows \u00d7 2 columns</p>\n",
        "</div>"
       ],
       "metadata": {},
       "output_type": "pyout",
       "prompt_number": 108,
       "text": [
        "   Id  Solution\n",
        "0   1         1\n",
        "1   2         0\n",
        "2   3         1\n",
        "3   4         0\n",
        "4   5         0\n",
        "\n",
        "[5 rows x 2 columns]"
       ]
      }
     ],
     "prompt_number": 108
    },
    {
     "cell_type": "markdown",
     "metadata": {},
     "source": [
      "# Output your submission"
     ]
    },
    {
     "cell_type": "code",
     "collapsed": false,
     "input": [
      "df_submission.to_csv('output/dslondon_submission1.csv', index=None)"
     ],
     "language": "python",
     "metadata": {},
     "outputs": [],
     "prompt_number": 110
    },
    {
     "cell_type": "markdown",
     "metadata": {},
     "source": [
      "# Submit !\n",
      "\n",
      "<http://www.kaggle.com/c/data-science-london-scikit-learn/submissions/attach>"
     ]
    },
    {
     "cell_type": "markdown",
     "metadata": {},
     "source": [
      "# QA"
     ]
    },
    {
     "cell_type": "code",
     "collapsed": false,
     "input": [],
     "language": "python",
     "metadata": {},
     "outputs": []
    }
   ],
   "metadata": {}
  }
 ]
}