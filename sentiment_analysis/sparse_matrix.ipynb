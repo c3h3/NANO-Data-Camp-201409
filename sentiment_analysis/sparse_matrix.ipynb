{
 "metadata": {
  "name": ""
 },
 "nbformat": 3,
 "nbformat_minor": 0,
 "worksheets": [
  {
   "cells": [
    {
     "cell_type": "code",
     "collapsed": false,
     "input": [
      "import numpy as np\n",
      "import pandas as pd\n",
      "import re\n",
      "import nltk\n",
      "from scipy import sparse\n",
      "import jieba"
     ],
     "language": "python",
     "metadata": {
      "slideshow": {
       "slide_type": "slide"
      }
     },
     "outputs": [],
     "prompt_number": 1
    },
    {
     "cell_type": "code",
     "collapsed": false,
     "input": [
      "train_doc = pd.read_csv('./train.tsv', sep=\"\\t\")"
     ],
     "language": "python",
     "metadata": {
      "slideshow": {
       "slide_type": "slide"
      }
     },
     "outputs": [],
     "prompt_number": 2
    },
    {
     "cell_type": "heading",
     "level": 2,
     "metadata": {
      "slideshow": {
       "slide_type": "slide"
      }
     },
     "source": [
      "\u5148\u770b\u770b data \u7684\u6a23\u5b50"
     ]
    },
    {
     "cell_type": "code",
     "collapsed": false,
     "input": [
      "train_doc"
     ],
     "language": "python",
     "metadata": {
      "slideshow": {
       "slide_type": "slide"
      }
     },
     "outputs": [
      {
       "html": [
        "<div style=\"max-height:1000px;max-width:1500px;overflow:auto;\">\n",
        "<table border=\"1\" class=\"dataframe\">\n",
        "  <thead>\n",
        "    <tr style=\"text-align: right;\">\n",
        "      <th></th>\n",
        "      <th>PhraseId</th>\n",
        "      <th>SentenceId</th>\n",
        "      <th>Phrase</th>\n",
        "      <th>Sentiment</th>\n",
        "    </tr>\n",
        "  </thead>\n",
        "  <tbody>\n",
        "    <tr>\n",
        "      <th>0     </th>\n",
        "      <td>      1</td>\n",
        "      <td>    1</td>\n",
        "      <td> A series of escapades demonstrating the adage ...</td>\n",
        "      <td> 1</td>\n",
        "    </tr>\n",
        "    <tr>\n",
        "      <th>1     </th>\n",
        "      <td>      2</td>\n",
        "      <td>    1</td>\n",
        "      <td> A series of escapades demonstrating the adage ...</td>\n",
        "      <td> 2</td>\n",
        "    </tr>\n",
        "    <tr>\n",
        "      <th>2     </th>\n",
        "      <td>      3</td>\n",
        "      <td>    1</td>\n",
        "      <td>                                          A series</td>\n",
        "      <td> 2</td>\n",
        "    </tr>\n",
        "    <tr>\n",
        "      <th>3     </th>\n",
        "      <td>      4</td>\n",
        "      <td>    1</td>\n",
        "      <td>                                                 A</td>\n",
        "      <td> 2</td>\n",
        "    </tr>\n",
        "    <tr>\n",
        "      <th>4     </th>\n",
        "      <td>      5</td>\n",
        "      <td>    1</td>\n",
        "      <td>                                            series</td>\n",
        "      <td> 2</td>\n",
        "    </tr>\n",
        "    <tr>\n",
        "      <th>5     </th>\n",
        "      <td>      6</td>\n",
        "      <td>    1</td>\n",
        "      <td> of escapades demonstrating the adage that what...</td>\n",
        "      <td> 2</td>\n",
        "    </tr>\n",
        "    <tr>\n",
        "      <th>6     </th>\n",
        "      <td>      7</td>\n",
        "      <td>    1</td>\n",
        "      <td>                                                of</td>\n",
        "      <td> 2</td>\n",
        "    </tr>\n",
        "    <tr>\n",
        "      <th>7     </th>\n",
        "      <td>      8</td>\n",
        "      <td>    1</td>\n",
        "      <td> escapades demonstrating the adage that what is...</td>\n",
        "      <td> 2</td>\n",
        "    </tr>\n",
        "    <tr>\n",
        "      <th>8     </th>\n",
        "      <td>      9</td>\n",
        "      <td>    1</td>\n",
        "      <td>                                         escapades</td>\n",
        "      <td> 2</td>\n",
        "    </tr>\n",
        "    <tr>\n",
        "      <th>9     </th>\n",
        "      <td>     10</td>\n",
        "      <td>    1</td>\n",
        "      <td> demonstrating the adage that what is good for ...</td>\n",
        "      <td> 2</td>\n",
        "    </tr>\n",
        "    <tr>\n",
        "      <th>10    </th>\n",
        "      <td>     11</td>\n",
        "      <td>    1</td>\n",
        "      <td>                           demonstrating the adage</td>\n",
        "      <td> 2</td>\n",
        "    </tr>\n",
        "    <tr>\n",
        "      <th>11    </th>\n",
        "      <td>     12</td>\n",
        "      <td>    1</td>\n",
        "      <td>                                     demonstrating</td>\n",
        "      <td> 2</td>\n",
        "    </tr>\n",
        "    <tr>\n",
        "      <th>12    </th>\n",
        "      <td>     13</td>\n",
        "      <td>    1</td>\n",
        "      <td>                                         the adage</td>\n",
        "      <td> 2</td>\n",
        "    </tr>\n",
        "    <tr>\n",
        "      <th>13    </th>\n",
        "      <td>     14</td>\n",
        "      <td>    1</td>\n",
        "      <td>                                               the</td>\n",
        "      <td> 2</td>\n",
        "    </tr>\n",
        "    <tr>\n",
        "      <th>14    </th>\n",
        "      <td>     15</td>\n",
        "      <td>    1</td>\n",
        "      <td>                                             adage</td>\n",
        "      <td> 2</td>\n",
        "    </tr>\n",
        "    <tr>\n",
        "      <th>15    </th>\n",
        "      <td>     16</td>\n",
        "      <td>    1</td>\n",
        "      <td>                   that what is good for the goose</td>\n",
        "      <td> 2</td>\n",
        "    </tr>\n",
        "    <tr>\n",
        "      <th>16    </th>\n",
        "      <td>     17</td>\n",
        "      <td>    1</td>\n",
        "      <td>                                              that</td>\n",
        "      <td> 2</td>\n",
        "    </tr>\n",
        "    <tr>\n",
        "      <th>17    </th>\n",
        "      <td>     18</td>\n",
        "      <td>    1</td>\n",
        "      <td>                        what is good for the goose</td>\n",
        "      <td> 2</td>\n",
        "    </tr>\n",
        "    <tr>\n",
        "      <th>18    </th>\n",
        "      <td>     19</td>\n",
        "      <td>    1</td>\n",
        "      <td>                                              what</td>\n",
        "      <td> 2</td>\n",
        "    </tr>\n",
        "    <tr>\n",
        "      <th>19    </th>\n",
        "      <td>     20</td>\n",
        "      <td>    1</td>\n",
        "      <td>                             is good for the goose</td>\n",
        "      <td> 2</td>\n",
        "    </tr>\n",
        "    <tr>\n",
        "      <th>20    </th>\n",
        "      <td>     21</td>\n",
        "      <td>    1</td>\n",
        "      <td>                                                is</td>\n",
        "      <td> 2</td>\n",
        "    </tr>\n",
        "    <tr>\n",
        "      <th>21    </th>\n",
        "      <td>     22</td>\n",
        "      <td>    1</td>\n",
        "      <td>                                good for the goose</td>\n",
        "      <td> 3</td>\n",
        "    </tr>\n",
        "    <tr>\n",
        "      <th>22    </th>\n",
        "      <td>     23</td>\n",
        "      <td>    1</td>\n",
        "      <td>                                              good</td>\n",
        "      <td> 3</td>\n",
        "    </tr>\n",
        "    <tr>\n",
        "      <th>23    </th>\n",
        "      <td>     24</td>\n",
        "      <td>    1</td>\n",
        "      <td>                                     for the goose</td>\n",
        "      <td> 2</td>\n",
        "    </tr>\n",
        "    <tr>\n",
        "      <th>24    </th>\n",
        "      <td>     25</td>\n",
        "      <td>    1</td>\n",
        "      <td>                                               for</td>\n",
        "      <td> 2</td>\n",
        "    </tr>\n",
        "    <tr>\n",
        "      <th>25    </th>\n",
        "      <td>     26</td>\n",
        "      <td>    1</td>\n",
        "      <td>                                         the goose</td>\n",
        "      <td> 2</td>\n",
        "    </tr>\n",
        "    <tr>\n",
        "      <th>26    </th>\n",
        "      <td>     27</td>\n",
        "      <td>    1</td>\n",
        "      <td>                                             goose</td>\n",
        "      <td> 2</td>\n",
        "    </tr>\n",
        "    <tr>\n",
        "      <th>27    </th>\n",
        "      <td>     28</td>\n",
        "      <td>    1</td>\n",
        "      <td> is also good for the gander , some of which oc...</td>\n",
        "      <td> 2</td>\n",
        "    </tr>\n",
        "    <tr>\n",
        "      <th>28    </th>\n",
        "      <td>     29</td>\n",
        "      <td>    1</td>\n",
        "      <td> is also good for the gander , some of which oc...</td>\n",
        "      <td> 2</td>\n",
        "    </tr>\n",
        "    <tr>\n",
        "      <th>29    </th>\n",
        "      <td>     30</td>\n",
        "      <td>    1</td>\n",
        "      <td>                                           is also</td>\n",
        "      <td> 2</td>\n",
        "    </tr>\n",
        "    <tr>\n",
        "      <th>...</th>\n",
        "      <td>...</td>\n",
        "      <td>...</td>\n",
        "      <td>...</td>\n",
        "      <td>...</td>\n",
        "    </tr>\n",
        "    <tr>\n",
        "      <th>156030</th>\n",
        "      <td> 156031</td>\n",
        "      <td> 8542</td>\n",
        "      <td>                       a joke in the United States</td>\n",
        "      <td> 2</td>\n",
        "    </tr>\n",
        "    <tr>\n",
        "      <th>156031</th>\n",
        "      <td> 156032</td>\n",
        "      <td> 8543</td>\n",
        "      <td> The movie 's downfall is to substitute plot fo...</td>\n",
        "      <td> 1</td>\n",
        "    </tr>\n",
        "    <tr>\n",
        "      <th>156032</th>\n",
        "      <td> 156033</td>\n",
        "      <td> 8543</td>\n",
        "      <td>                             The movie 's downfall</td>\n",
        "      <td> 1</td>\n",
        "    </tr>\n",
        "    <tr>\n",
        "      <th>156033</th>\n",
        "      <td> 156034</td>\n",
        "      <td> 8543</td>\n",
        "      <td>           is to substitute plot for personality .</td>\n",
        "      <td> 1</td>\n",
        "    </tr>\n",
        "    <tr>\n",
        "      <th>156034</th>\n",
        "      <td> 156035</td>\n",
        "      <td> 8543</td>\n",
        "      <td>             is to substitute plot for personality</td>\n",
        "      <td> 1</td>\n",
        "    </tr>\n",
        "    <tr>\n",
        "      <th>156035</th>\n",
        "      <td> 156036</td>\n",
        "      <td> 8543</td>\n",
        "      <td>                to substitute plot for personality</td>\n",
        "      <td> 2</td>\n",
        "    </tr>\n",
        "    <tr>\n",
        "      <th>156036</th>\n",
        "      <td> 156037</td>\n",
        "      <td> 8543</td>\n",
        "      <td>                   substitute plot for personality</td>\n",
        "      <td> 1</td>\n",
        "    </tr>\n",
        "    <tr>\n",
        "      <th>156037</th>\n",
        "      <td> 156038</td>\n",
        "      <td> 8543</td>\n",
        "      <td>                                   substitute plot</td>\n",
        "      <td> 2</td>\n",
        "    </tr>\n",
        "    <tr>\n",
        "      <th>156038</th>\n",
        "      <td> 156039</td>\n",
        "      <td> 8543</td>\n",
        "      <td>                                   for personality</td>\n",
        "      <td> 2</td>\n",
        "    </tr>\n",
        "    <tr>\n",
        "      <th>156039</th>\n",
        "      <td> 156040</td>\n",
        "      <td> 8544</td>\n",
        "      <td> The film is darkly atmospheric , with Herrmann...</td>\n",
        "      <td> 2</td>\n",
        "    </tr>\n",
        "    <tr>\n",
        "      <th>156040</th>\n",
        "      <td> 156041</td>\n",
        "      <td> 8544</td>\n",
        "      <td> is darkly atmospheric , with Herrmann quietly ...</td>\n",
        "      <td> 2</td>\n",
        "    </tr>\n",
        "    <tr>\n",
        "      <th>156041</th>\n",
        "      <td> 156042</td>\n",
        "      <td> 8544</td>\n",
        "      <td> is darkly atmospheric , with Herrmann quietly ...</td>\n",
        "      <td> 2</td>\n",
        "    </tr>\n",
        "    <tr>\n",
        "      <th>156042</th>\n",
        "      <td> 156043</td>\n",
        "      <td> 8544</td>\n",
        "      <td>                           is darkly atmospheric ,</td>\n",
        "      <td> 2</td>\n",
        "    </tr>\n",
        "    <tr>\n",
        "      <th>156043</th>\n",
        "      <td> 156044</td>\n",
        "      <td> 8544</td>\n",
        "      <td>                             is darkly atmospheric</td>\n",
        "      <td> 3</td>\n",
        "    </tr>\n",
        "    <tr>\n",
        "      <th>156044</th>\n",
        "      <td> 156045</td>\n",
        "      <td> 8544</td>\n",
        "      <td> with Herrmann quietly suggesting the sadness a...</td>\n",
        "      <td> 2</td>\n",
        "    </tr>\n",
        "    <tr>\n",
        "      <th>156045</th>\n",
        "      <td> 156046</td>\n",
        "      <td> 8544</td>\n",
        "      <td> Herrmann quietly suggesting the sadness and ob...</td>\n",
        "      <td> 2</td>\n",
        "    </tr>\n",
        "    <tr>\n",
        "      <th>156046</th>\n",
        "      <td> 156047</td>\n",
        "      <td> 8544</td>\n",
        "      <td>                                          Herrmann</td>\n",
        "      <td> 2</td>\n",
        "    </tr>\n",
        "    <tr>\n",
        "      <th>156047</th>\n",
        "      <td> 156048</td>\n",
        "      <td> 8544</td>\n",
        "      <td> quietly suggesting the sadness and obsession b...</td>\n",
        "      <td> 1</td>\n",
        "    </tr>\n",
        "    <tr>\n",
        "      <th>156048</th>\n",
        "      <td> 156049</td>\n",
        "      <td> 8544</td>\n",
        "      <td> suggesting the sadness and obsession beneath H...</td>\n",
        "      <td> 2</td>\n",
        "    </tr>\n",
        "    <tr>\n",
        "      <th>156049</th>\n",
        "      <td> 156050</td>\n",
        "      <td> 8544</td>\n",
        "      <td>              suggesting the sadness and obsession</td>\n",
        "      <td> 2</td>\n",
        "    </tr>\n",
        "    <tr>\n",
        "      <th>156050</th>\n",
        "      <td> 156051</td>\n",
        "      <td> 8544</td>\n",
        "      <td>                         the sadness and obsession</td>\n",
        "      <td> 2</td>\n",
        "    </tr>\n",
        "    <tr>\n",
        "      <th>156051</th>\n",
        "      <td> 156052</td>\n",
        "      <td> 8544</td>\n",
        "      <td>                             sadness and obsession</td>\n",
        "      <td> 1</td>\n",
        "    </tr>\n",
        "    <tr>\n",
        "      <th>156052</th>\n",
        "      <td> 156053</td>\n",
        "      <td> 8544</td>\n",
        "      <td>                                       sadness and</td>\n",
        "      <td> 1</td>\n",
        "    </tr>\n",
        "    <tr>\n",
        "      <th>156053</th>\n",
        "      <td> 156054</td>\n",
        "      <td> 8544</td>\n",
        "      <td>       beneath Hearst 's forced avuncular chortles</td>\n",
        "      <td> 2</td>\n",
        "    </tr>\n",
        "    <tr>\n",
        "      <th>156054</th>\n",
        "      <td> 156055</td>\n",
        "      <td> 8544</td>\n",
        "      <td>               Hearst 's forced avuncular chortles</td>\n",
        "      <td> 2</td>\n",
        "    </tr>\n",
        "    <tr>\n",
        "      <th>156055</th>\n",
        "      <td> 156056</td>\n",
        "      <td> 8544</td>\n",
        "      <td>                                         Hearst 's</td>\n",
        "      <td> 2</td>\n",
        "    </tr>\n",
        "    <tr>\n",
        "      <th>156056</th>\n",
        "      <td> 156057</td>\n",
        "      <td> 8544</td>\n",
        "      <td>                         forced avuncular chortles</td>\n",
        "      <td> 1</td>\n",
        "    </tr>\n",
        "    <tr>\n",
        "      <th>156057</th>\n",
        "      <td> 156058</td>\n",
        "      <td> 8544</td>\n",
        "      <td>                                avuncular chortles</td>\n",
        "      <td> 3</td>\n",
        "    </tr>\n",
        "    <tr>\n",
        "      <th>156058</th>\n",
        "      <td> 156059</td>\n",
        "      <td> 8544</td>\n",
        "      <td>                                         avuncular</td>\n",
        "      <td> 2</td>\n",
        "    </tr>\n",
        "    <tr>\n",
        "      <th>156059</th>\n",
        "      <td> 156060</td>\n",
        "      <td> 8544</td>\n",
        "      <td>                                          chortles</td>\n",
        "      <td> 2</td>\n",
        "    </tr>\n",
        "  </tbody>\n",
        "</table>\n",
        "<p>156060 rows \u00d7 4 columns</p>\n",
        "</div>"
       ],
       "metadata": {},
       "output_type": "pyout",
       "prompt_number": 3,
       "text": [
        "        PhraseId  SentenceId  \\\n",
        "0              1           1   \n",
        "1              2           1   \n",
        "2              3           1   \n",
        "3              4           1   \n",
        "4              5           1   \n",
        "5              6           1   \n",
        "6              7           1   \n",
        "7              8           1   \n",
        "8              9           1   \n",
        "9             10           1   \n",
        "10            11           1   \n",
        "11            12           1   \n",
        "12            13           1   \n",
        "13            14           1   \n",
        "14            15           1   \n",
        "15            16           1   \n",
        "16            17           1   \n",
        "17            18           1   \n",
        "18            19           1   \n",
        "19            20           1   \n",
        "20            21           1   \n",
        "21            22           1   \n",
        "22            23           1   \n",
        "23            24           1   \n",
        "24            25           1   \n",
        "25            26           1   \n",
        "26            27           1   \n",
        "27            28           1   \n",
        "28            29           1   \n",
        "29            30           1   \n",
        "...          ...         ...   \n",
        "156030    156031        8542   \n",
        "156031    156032        8543   \n",
        "156032    156033        8543   \n",
        "156033    156034        8543   \n",
        "156034    156035        8543   \n",
        "156035    156036        8543   \n",
        "156036    156037        8543   \n",
        "156037    156038        8543   \n",
        "156038    156039        8543   \n",
        "156039    156040        8544   \n",
        "156040    156041        8544   \n",
        "156041    156042        8544   \n",
        "156042    156043        8544   \n",
        "156043    156044        8544   \n",
        "156044    156045        8544   \n",
        "156045    156046        8544   \n",
        "156046    156047        8544   \n",
        "156047    156048        8544   \n",
        "156048    156049        8544   \n",
        "156049    156050        8544   \n",
        "156050    156051        8544   \n",
        "156051    156052        8544   \n",
        "156052    156053        8544   \n",
        "156053    156054        8544   \n",
        "156054    156055        8544   \n",
        "156055    156056        8544   \n",
        "156056    156057        8544   \n",
        "156057    156058        8544   \n",
        "156058    156059        8544   \n",
        "156059    156060        8544   \n",
        "\n",
        "                                                   Phrase  Sentiment  \n",
        "0       A series of escapades demonstrating the adage ...          1  \n",
        "1       A series of escapades demonstrating the adage ...          2  \n",
        "2                                                A series          2  \n",
        "3                                                       A          2  \n",
        "4                                                  series          2  \n",
        "5       of escapades demonstrating the adage that what...          2  \n",
        "6                                                      of          2  \n",
        "7       escapades demonstrating the adage that what is...          2  \n",
        "8                                               escapades          2  \n",
        "9       demonstrating the adage that what is good for ...          2  \n",
        "10                                demonstrating the adage          2  \n",
        "11                                          demonstrating          2  \n",
        "12                                              the adage          2  \n",
        "13                                                    the          2  \n",
        "14                                                  adage          2  \n",
        "15                        that what is good for the goose          2  \n",
        "16                                                   that          2  \n",
        "17                             what is good for the goose          2  \n",
        "18                                                   what          2  \n",
        "19                                  is good for the goose          2  \n",
        "20                                                     is          2  \n",
        "21                                     good for the goose          3  \n",
        "22                                                   good          3  \n",
        "23                                          for the goose          2  \n",
        "24                                                    for          2  \n",
        "25                                              the goose          2  \n",
        "26                                                  goose          2  \n",
        "27      is also good for the gander , some of which oc...          2  \n",
        "28      is also good for the gander , some of which oc...          2  \n",
        "29                                                is also          2  \n",
        "...                                                   ...        ...  \n",
        "156030                        a joke in the United States          2  \n",
        "156031  The movie 's downfall is to substitute plot fo...          1  \n",
        "156032                              The movie 's downfall          1  \n",
        "156033            is to substitute plot for personality .          1  \n",
        "156034              is to substitute plot for personality          1  \n",
        "156035                 to substitute plot for personality          2  \n",
        "156036                    substitute plot for personality          1  \n",
        "156037                                    substitute plot          2  \n",
        "156038                                    for personality          2  \n",
        "156039  The film is darkly atmospheric , with Herrmann...          2  \n",
        "156040  is darkly atmospheric , with Herrmann quietly ...          2  \n",
        "156041  is darkly atmospheric , with Herrmann quietly ...          2  \n",
        "156042                            is darkly atmospheric ,          2  \n",
        "156043                              is darkly atmospheric          3  \n",
        "156044  with Herrmann quietly suggesting the sadness a...          2  \n",
        "156045  Herrmann quietly suggesting the sadness and ob...          2  \n",
        "156046                                           Herrmann          2  \n",
        "156047  quietly suggesting the sadness and obsession b...          1  \n",
        "156048  suggesting the sadness and obsession beneath H...          2  \n",
        "156049               suggesting the sadness and obsession          2  \n",
        "156050                          the sadness and obsession          2  \n",
        "156051                              sadness and obsession          1  \n",
        "156052                                        sadness and          1  \n",
        "156053        beneath Hearst 's forced avuncular chortles          2  \n",
        "156054                Hearst 's forced avuncular chortles          2  \n",
        "156055                                          Hearst 's          2  \n",
        "156056                          forced avuncular chortles          1  \n",
        "156057                                 avuncular chortles          3  \n",
        "156058                                          avuncular          2  \n",
        "156059                                           chortles          2  \n",
        "\n",
        "[156060 rows x 4 columns]"
       ]
      }
     ],
     "prompt_number": 3
    },
    {
     "cell_type": "heading",
     "level": 2,
     "metadata": {
      "slideshow": {
       "slide_type": "slide"
      }
     },
     "source": [
      "\u628a\u53e5\u5b50\u5207\u6210\u4e00\u500b\u4e00\u500b\u7684 term"
     ]
    },
    {
     "cell_type": "code",
     "collapsed": false,
     "input": [
      "sent_token = np.array(map(lambda sent: re.split(\"\\s+\", sent), train_doc.Phrase))"
     ],
     "language": "python",
     "metadata": {
      "slideshow": {
       "slide_type": "slide"
      }
     },
     "outputs": [],
     "prompt_number": 4
    },
    {
     "cell_type": "code",
     "collapsed": false,
     "input": [
      "sent_token[0]"
     ],
     "language": "python",
     "metadata": {
      "slideshow": {
       "slide_type": "slide"
      }
     },
     "outputs": [
      {
       "metadata": {},
       "output_type": "pyout",
       "prompt_number": 5,
       "text": [
        "['A',\n",
        " 'series',\n",
        " 'of',\n",
        " 'escapades',\n",
        " 'demonstrating',\n",
        " 'the',\n",
        " 'adage',\n",
        " 'that',\n",
        " 'what',\n",
        " 'is',\n",
        " 'good',\n",
        " 'for',\n",
        " 'the',\n",
        " 'goose',\n",
        " 'is',\n",
        " 'also',\n",
        " 'good',\n",
        " 'for',\n",
        " 'the',\n",
        " 'gander',\n",
        " ',',\n",
        " 'some',\n",
        " 'of',\n",
        " 'which',\n",
        " 'occasionally',\n",
        " 'amuses',\n",
        " 'but',\n",
        " 'none',\n",
        " 'of',\n",
        " 'which',\n",
        " 'amounts',\n",
        " 'to',\n",
        " 'much',\n",
        " 'of',\n",
        " 'a',\n",
        " 'story',\n",
        " '.']"
       ]
      }
     ],
     "prompt_number": 5
    },
    {
     "cell_type": "code",
     "collapsed": false,
     "input": [
      "freq = map(lambda s: nltk.FreqDist(s), sent_token)"
     ],
     "language": "python",
     "metadata": {
      "slideshow": {
       "slide_type": "slide"
      }
     },
     "outputs": [],
     "prompt_number": 6
    },
    {
     "cell_type": "code",
     "collapsed": false,
     "input": [
      "nltk.FreqDist(sent_token[0]).items()[:20]"
     ],
     "language": "python",
     "metadata": {
      "slideshow": {
       "slide_type": "slide"
      }
     },
     "outputs": [
      {
       "metadata": {},
       "output_type": "pyout",
       "prompt_number": 7,
       "text": [
        "[('of', 4),\n",
        " ('the', 3),\n",
        " ('for', 2),\n",
        " ('good', 2),\n",
        " ('is', 2),\n",
        " ('which', 2),\n",
        " (',', 1),\n",
        " ('.', 1),\n",
        " ('A', 1),\n",
        " ('a', 1),\n",
        " ('adage', 1),\n",
        " ('also', 1),\n",
        " ('amounts', 1),\n",
        " ('amuses', 1),\n",
        " ('but', 1),\n",
        " ('demonstrating', 1),\n",
        " ('escapades', 1),\n",
        " ('gander', 1),\n",
        " ('goose', 1),\n",
        " ('much', 1)]"
       ]
      }
     ],
     "prompt_number": 7
    },
    {
     "cell_type": "heading",
     "level": 2,
     "metadata": {
      "slideshow": {
       "slide_type": "slide"
      }
     },
     "source": [
      "\u600e\u9ebc\u8655\u7406\u4e2d\u6587\u8a55\u8ad6\u8cc7\u6599\uff1f"
     ]
    },
    {
     "cell_type": "code",
     "collapsed": false,
     "input": [
      "seg = jieba.cut(\"\u633a\u4e0d\u9519\u7684\uff0c\u5efa\u8bae\u817f\u80a5\u7684\u4e70\u5927\u4e00\u4e24\u7801\u3002\u6a59\u8272\u7684\u8d28\u91cf\u6bd4\u9ed1\u8272\u7684\u597d\u4e9b\")"
     ],
     "language": "python",
     "metadata": {
      "slideshow": {
       "slide_type": "slide"
      }
     },
     "outputs": [],
     "prompt_number": 8
    },
    {
     "cell_type": "code",
     "collapsed": false,
     "input": [
      "print '/ '.join(seg)"
     ],
     "language": "python",
     "metadata": {
      "slideshow": {
       "slide_type": "subslide"
      }
     },
     "outputs": [
      {
       "output_type": "stream",
       "stream": "stderr",
       "text": [
        "Building Trie..., from /usr/local/lib/python2.7/dist-packages/jieba/dict.txt\n"
       ]
      },
      {
       "output_type": "stream",
       "stream": "stderr",
       "text": [
        "DEBUG:jieba:Building Trie..., from /usr/local/lib/python2.7/dist-packages/jieba/dict.txt\n"
       ]
      },
      {
       "output_type": "stream",
       "stream": "stderr",
       "text": [
        "loading model from cache /tmp/jieba.cache\n"
       ]
      },
      {
       "output_type": "stream",
       "stream": "stderr",
       "text": [
        "DEBUG:jieba:loading model from cache /tmp/jieba.cache\n"
       ]
      },
      {
       "output_type": "stream",
       "stream": "stderr",
       "text": [
        "loading model cost 1.19997620583 seconds.\n"
       ]
      },
      {
       "output_type": "stream",
       "stream": "stderr",
       "text": [
        "DEBUG:jieba:loading model cost 1.19997620583 seconds.\n"
       ]
      },
      {
       "output_type": "stream",
       "stream": "stderr",
       "text": [
        "Trie has been built succesfully.\n"
       ]
      },
      {
       "output_type": "stream",
       "stream": "stderr",
       "text": [
        "DEBUG:jieba:Trie has been built succesfully.\n"
       ]
      },
      {
       "output_type": "stream",
       "stream": "stdout",
       "text": [
        "\u633a\u4e0d\u9519/ \u7684/ \uff0c/ \u5efa\u8bae/ \u817f/ \u80a5/ \u7684/ \u4e70/ \u5927/ \u4e00/ \u4e24\u7801/ \u3002/ \u6a59\u8272/ \u7684/ \u8d28\u91cf/ \u6bd4/ \u9ed1\u8272/ \u7684/ \u597d\u4e9b\n"
       ]
      }
     ],
     "prompt_number": 9
    },
    {
     "cell_type": "heading",
     "level": 2,
     "metadata": {
      "slideshow": {
       "slide_type": "slide"
      }
     },
     "source": [
      "\u5f88\u591a\u8a55\u8ad6\u4e00\u8d77\u8655\u7406"
     ]
    },
    {
     "cell_type": "code",
     "collapsed": false,
     "input": [
      "comments = [\"\u633a\u4e0d\u9519\u7684\uff0c\u5efa\u8bae\u817f\u80a5\u7684\u4e70\u5927\u4e00\u4e24\u7801\u3002\u6a59\u8272\u7684\u8d28\u91cf\u6bd4\u9ed1\u8272\u7684\u597d\u4e9b\", \n",
      "            \"\u8bd5\u7a7f\u4e86\u4e0b\uff0c\u6a59\u8272\u5f88\u79f0\u76ae\u80a4\u3002\u9a6c\u4e0a\u51b3\u5b9a\u591a\u4e70\u51e0\u6761\", \n",
      "            \"\u5e03\u6599\u5f88\u597d \u6d17\u8fc7\u4e5f\u6ca1\u6709\u7f29\u6c34 \u4ef7\u94b1\u4e5f\u5212\u7b97 \u4e70\u4e86\u5065\u8eab\u7a7f\"]"
     ],
     "language": "python",
     "metadata": {
      "slideshow": {
       "slide_type": "subslide"
      }
     },
     "outputs": [],
     "prompt_number": 10
    },
    {
     "cell_type": "code",
     "collapsed": false,
     "input": [
      "seg_list = map(lambda sent: jieba.cut(sent), comments)"
     ],
     "language": "python",
     "metadata": {},
     "outputs": [],
     "prompt_number": 11
    },
    {
     "cell_type": "code",
     "collapsed": false,
     "input": [
      "print \"/ \".join(seg_list[0])"
     ],
     "language": "python",
     "metadata": {},
     "outputs": [
      {
       "output_type": "stream",
       "stream": "stdout",
       "text": [
        "\u633a\u4e0d\u9519/ \u7684/ \uff0c/ \u5efa\u8bae/ \u817f/ \u80a5/ \u7684/ \u4e70/ \u5927/ \u4e00/ \u4e24\u7801/ \u3002/ \u6a59\u8272/ \u7684/ \u8d28\u91cf/ \u6bd4/ \u9ed1\u8272/ \u7684/ \u597d\u4e9b\n"
       ]
      }
     ],
     "prompt_number": 12
    },
    {
     "cell_type": "code",
     "collapsed": false,
     "input": [
      "print \"/ \".join(seg_list[1])"
     ],
     "language": "python",
     "metadata": {},
     "outputs": [
      {
       "output_type": "stream",
       "stream": "stdout",
       "text": [
        "\u8bd5\u7a7f/ \u4e86/ \u4e0b/ \uff0c/ \u6a59\u8272/ \u5f88\u79f0/ \u76ae\u80a4/ \u3002/ \u9a6c\u4e0a/ \u51b3\u5b9a/ \u591a\u4e70/ \u51e0\u6761\n"
       ]
      }
     ],
     "prompt_number": 13
    },
    {
     "cell_type": "code",
     "collapsed": false,
     "input": [
      "print \"/ \".join(seg_list[2])"
     ],
     "language": "python",
     "metadata": {},
     "outputs": [
      {
       "output_type": "stream",
       "stream": "stdout",
       "text": [
        "\u5e03\u6599/ \u5f88/ \u597d/  / \u6d17\u8fc7/ \u4e5f/ \u6ca1\u6709/ \u7f29\u6c34/  / \u4ef7\u94b1/ \u4e5f/ \u5212\u7b97/  / \u4e70/ \u4e86/ \u5065\u8eab/ \u7a7f\n"
       ]
      }
     ],
     "prompt_number": 14
    },
    {
     "cell_type": "heading",
     "level": 2,
     "metadata": {},
     "source": [
      "\u56de\u5230\u525b\u624d\u7684\u82f1\u6587\u8a55\u8ad6\u53e5\u5b50\u7684 freq"
     ]
    },
    {
     "cell_type": "code",
     "collapsed": false,
     "input": [
      "keys = map(lambda s: s.keys(), freq)"
     ],
     "language": "python",
     "metadata": {},
     "outputs": [],
     "prompt_number": 15
    },
    {
     "cell_type": "code",
     "collapsed": false,
     "input": [
      "values = np.array(map(lambda s: s.values(), freq))"
     ],
     "language": "python",
     "metadata": {},
     "outputs": [],
     "prompt_number": 16
    },
    {
     "cell_type": "code",
     "collapsed": false,
     "input": [
      "len(keys) #\u4ee3\u8868\u6709 156060\u5247\u53e5\u5b50"
     ],
     "language": "python",
     "metadata": {},
     "outputs": [
      {
       "metadata": {},
       "output_type": "pyout",
       "prompt_number": 17,
       "text": [
        "156060"
       ]
      }
     ],
     "prompt_number": 17
    },
    {
     "cell_type": "code",
     "collapsed": false,
     "input": [
      "keys[0][:8] # \u7b2c\u4e00\u53e5"
     ],
     "language": "python",
     "metadata": {},
     "outputs": [
      {
       "metadata": {},
       "output_type": "pyout",
       "prompt_number": 18,
       "text": [
        "['of', 'the', 'for', 'good', 'is', 'which', ',', '.']"
       ]
      }
     ],
     "prompt_number": 18
    },
    {
     "cell_type": "code",
     "collapsed": false,
     "input": [
      "values[0][:8] # of\u51fa\u73fe4\u6b21\uff0cthe\u51fa\u73fe3\u6b21 ..."
     ],
     "language": "python",
     "metadata": {},
     "outputs": [
      {
       "metadata": {},
       "output_type": "pyout",
       "prompt_number": 19,
       "text": [
        "[4, 3, 2, 2, 2, 2, 1, 1]"
       ]
      }
     ],
     "prompt_number": 19
    },
    {
     "cell_type": "code",
     "collapsed": false,
     "input": [
      "keys[1][:8] # \u7b2c\u4e8c\u53e5"
     ],
     "language": "python",
     "metadata": {},
     "outputs": [
      {
       "metadata": {},
       "output_type": "pyout",
       "prompt_number": 20,
       "text": [
        "['the', 'A', 'adage', 'demonstrating', 'escapades', 'for', 'good', 'goose']"
       ]
      }
     ],
     "prompt_number": 20
    },
    {
     "cell_type": "code",
     "collapsed": false,
     "input": [
      "values[1][:8] # the\u51fa\u73fe4\u6b21\uff0cA\u51fa\u73fe1\u6b21 ..."
     ],
     "language": "python",
     "metadata": {},
     "outputs": [
      {
       "metadata": {},
       "output_type": "pyout",
       "prompt_number": 21,
       "text": [
        "[2, 1, 1, 1, 1, 1, 1, 1]"
       ]
      }
     ],
     "prompt_number": 21
    },
    {
     "cell_type": "code",
     "collapsed": false,
     "input": [
      "tokens = np.concatenate(keys) #\u628a\u6bcf\u4e00\u53e5\u5408\u4f75\u6210\u4e00\u689d \u4e00\u7dad vector"
     ],
     "language": "python",
     "metadata": {},
     "outputs": [],
     "prompt_number": 22
    },
    {
     "cell_type": "code",
     "collapsed": false,
     "input": [
      "tokens.shape # 156060\u689d\u53e5\u5b50\uff0c\u5171\u67091070067\u500bterm"
     ],
     "language": "python",
     "metadata": {},
     "outputs": [
      {
       "metadata": {},
       "output_type": "pyout",
       "prompt_number": 23,
       "text": [
        "(1070067,)"
       ]
      }
     ],
     "prompt_number": 23
    },
    {
     "cell_type": "code",
     "collapsed": false,
     "input": [
      "train_words, position, word_index = np.unique(tokens, return_inverse=True, return_index=True)"
     ],
     "language": "python",
     "metadata": {},
     "outputs": [],
     "prompt_number": 24
    },
    {
     "cell_type": "code",
     "collapsed": false,
     "input": [
      "train_words"
     ],
     "language": "python",
     "metadata": {},
     "outputs": [
      {
       "metadata": {},
       "output_type": "pyout",
       "prompt_number": 25,
       "text": [
        "array(['', '!', '!?', ..., 'zone', 'zoning', 'zzzzzzzzz'], \n",
        "      dtype='|S27')"
       ]
      }
     ],
     "prompt_number": 25
    },
    {
     "cell_type": "code",
     "collapsed": false,
     "input": [
      "train_words.shape # 1070067\u500bterm\u88e1\u9762\uff0c\u4e0d\u91cd\u8907\u7684term\u517118227\u500b"
     ],
     "language": "python",
     "metadata": {},
     "outputs": [
      {
       "metadata": {},
       "output_type": "pyout",
       "prompt_number": 26,
       "text": [
        "(18227,)"
       ]
      }
     ],
     "prompt_number": 26
    },
    {
     "cell_type": "code",
     "collapsed": false,
     "input": [
      "position # 18227\u500b term\u7b2c\u4e00\u6b21\u51fa\u73fe\u7684\u4f4d\u7f6e"
     ],
     "language": "python",
     "metadata": {},
     "outputs": [
      {
       "metadata": {},
       "output_type": "pyout",
       "prompt_number": 27,
       "text": [
        "array([  9981,   7503, 630751, ..., 139254, 137227, 928545])"
       ]
      }
     ],
     "prompt_number": 27
    },
    {
     "cell_type": "code",
     "collapsed": false,
     "input": [
      "position.shape"
     ],
     "language": "python",
     "metadata": {},
     "outputs": [
      {
       "metadata": {},
       "output_type": "pyout",
       "prompt_number": 28,
       "text": [
        "(18227,)"
       ]
      }
     ],
     "prompt_number": 28
    },
    {
     "cell_type": "code",
     "collapsed": false,
     "input": [
      "word_index # 1070067\u500bterm\u7684 index\u7de8\u865f, index\u7de8\u865f \u70ba 0~18227"
     ],
     "language": "python",
     "metadata": {},
     "outputs": [
      {
       "metadata": {},
       "output_type": "pyout",
       "prompt_number": 29,
       "text": [
        "array([12587, 16603,  9238, ...,  6447,  5395,  6447])"
       ]
      }
     ],
     "prompt_number": 29
    },
    {
     "cell_type": "code",
     "collapsed": false,
     "input": [
      "word_index.shape"
     ],
     "language": "python",
     "metadata": {},
     "outputs": [
      {
       "metadata": {},
       "output_type": "pyout",
       "prompt_number": 30,
       "text": [
        "(1070067,)"
       ]
      }
     ],
     "prompt_number": 30
    },
    {
     "cell_type": "code",
     "collapsed": false,
     "input": [
      "word_index[position] #18227\u500b\u4e0d\u91cd\u8907\u5b57\u7684\u5404\u81ea\u7de8\u865f"
     ],
     "language": "python",
     "metadata": {},
     "outputs": [
      {
       "metadata": {},
       "output_type": "pyout",
       "prompt_number": 31,
       "text": [
        "array([    0,     1,     2, ..., 18224, 18225, 18226])"
       ]
      }
     ],
     "prompt_number": 31
    },
    {
     "cell_type": "heading",
     "level": 2,
     "metadata": {},
     "source": [
      "\u6709\u9ede\u932f\u4e82\uff0c\u505a\u500b word_index\u8f49\u63db\u5668\u5427"
     ]
    },
    {
     "cell_type": "code",
     "collapsed": false,
     "input": [
      "word_to_index = pd.Series(data=word_index[position], index=train_words)"
     ],
     "language": "python",
     "metadata": {},
     "outputs": [],
     "prompt_number": 32
    },
    {
     "cell_type": "code",
     "collapsed": false,
     "input": [
      "word_to_index.tail(10)"
     ],
     "language": "python",
     "metadata": {},
     "outputs": [
      {
       "metadata": {},
       "output_type": "pyout",
       "prompt_number": 33,
       "text": [
        "zingers        18217\n",
        "zings          18218\n",
        "zip            18219\n",
        "zippy          18220\n",
        "zips           18221\n",
        "zombie         18222\n",
        "zombie-land    18223\n",
        "zone           18224\n",
        "zoning         18225\n",
        "zzzzzzzzz      18226\n",
        "dtype: int64"
       ]
      }
     ],
     "prompt_number": 33
    },
    {
     "cell_type": "code",
     "collapsed": false,
     "input": [
      "word_to_index['zombie'] #\u8f38\u5165 zombie \u5f97\u5230\u5c0d\u61c9index\u7de8\u865f"
     ],
     "language": "python",
     "metadata": {},
     "outputs": [
      {
       "metadata": {},
       "output_type": "pyout",
       "prompt_number": 34,
       "text": [
        "18222"
       ]
      }
     ],
     "prompt_number": 34
    },
    {
     "cell_type": "code",
     "collapsed": false,
     "input": [
      "keys_len = np.array(map(lambda s: len(s), keys))"
     ],
     "language": "python",
     "metadata": {},
     "outputs": [],
     "prompt_number": 35
    },
    {
     "cell_type": "code",
     "collapsed": false,
     "input": [
      "keys_len.shape #\u4e00\u5171 156060\u689d\u53e5\u5b50"
     ],
     "language": "python",
     "metadata": {},
     "outputs": [
      {
       "metadata": {},
       "output_type": "pyout",
       "prompt_number": 36,
       "text": [
        "(156060,)"
       ]
      }
     ],
     "prompt_number": 36
    },
    {
     "cell_type": "code",
     "collapsed": false,
     "input": [
      "keys_len[:10] #\u7b2c\u4e00\u53e5\u670928\u500bterm, \u7b2c\u4e8c\u53e5\u670913\u500bterm ..."
     ],
     "language": "python",
     "metadata": {},
     "outputs": [
      {
       "metadata": {},
       "output_type": "pyout",
       "prompt_number": 37,
       "text": [
        "array([28, 13,  2,  1,  1, 11,  1, 10,  1,  9])"
       ]
      }
     ],
     "prompt_number": 37
    },
    {
     "cell_type": "code",
     "collapsed": false,
     "input": [
      "mtx_row = np.repeat(range(train_doc.shape[0]), keys_len)"
     ],
     "language": "python",
     "metadata": {},
     "outputs": [],
     "prompt_number": 38
    },
    {
     "cell_type": "code",
     "collapsed": false,
     "input": [
      "mtx_row # 0\u91cd\u890728\u500b\uff0c1\u91cd\u890713\u500b ..."
     ],
     "language": "python",
     "metadata": {},
     "outputs": [
      {
       "metadata": {},
       "output_type": "pyout",
       "prompt_number": 39,
       "text": [
        "array([     0,      0,      0, ..., 156057, 156058, 156059])"
       ]
      }
     ],
     "prompt_number": 39
    },
    {
     "cell_type": "code",
     "collapsed": false,
     "input": [
      "mtx_data = np.concatenate(map(lambda s: s.values(), freq))"
     ],
     "language": "python",
     "metadata": {},
     "outputs": [],
     "prompt_number": 40
    },
    {
     "cell_type": "code",
     "collapsed": false,
     "input": [
      "mtx_data.shape"
     ],
     "language": "python",
     "metadata": {},
     "outputs": [
      {
       "metadata": {},
       "output_type": "pyout",
       "prompt_number": 41,
       "text": [
        "(1070067,)"
       ]
      }
     ],
     "prompt_number": 41
    },
    {
     "cell_type": "code",
     "collapsed": false,
     "input": [
      "mtx = sparse.coo_matrix((mtx_data, (mtx_row, word_index)), shape=(train_doc.shape[0], train_words.shape[0]))"
     ],
     "language": "python",
     "metadata": {},
     "outputs": [],
     "prompt_number": 42
    },
    {
     "cell_type": "code",
     "collapsed": false,
     "input": [
      "mtx_lil = mtx.tolil()"
     ],
     "language": "python",
     "metadata": {},
     "outputs": [],
     "prompt_number": 43
    },
    {
     "cell_type": "code",
     "collapsed": false,
     "input": [
      "print mtx_lil[0,:] #\u7de8\u865f0\u7684\u53e5\u5b50\uff0c\u5176\u4e2dindex\u7de8\u865f27\u7684term\u51fa\u73fe1\u6b21\uff0cindex\u7de8\u865f32\u4e5f\u51fa\u73fe1\u6b21 ..."
     ],
     "language": "python",
     "metadata": {},
     "outputs": [
      {
       "output_type": "stream",
       "stream": "stdout",
       "text": [
        "  (0, 27)\t1\n",
        "  (0, 32)\t1\n",
        "  (0, 231)\t1\n",
        "  (0, 4604)\t1\n",
        "  (0, 4751)\t1\n",
        "  (0, 4970)\t1\n",
        "  (0, 5016)\t1\n",
        "  (0, 5025)\t1\n",
        "  (0, 6095)\t1\n",
        "  (0, 7529)\t1\n",
        "  (0, 8518)\t1\n",
        "  (0, 9238)\t2\n",
        "  (0, 9479)\t1\n",
        "  (0, 9660)\t2\n",
        "  (0, 9681)\t1\n",
        "  (0, 10969)\t2\n",
        "  (0, 12195)\t1\n",
        "  (0, 12446)\t1\n",
        "  (0, 12565)\t1\n",
        "  (0, 12587)\t4\n",
        "  (0, 15019)\t1\n",
        "  (0, 15567)\t1\n",
        "  (0, 15967)\t1\n",
        "  (0, 16602)\t1\n",
        "  (0, 16603)\t3\n",
        "  (0, 16786)\t1\n",
        "  (0, 17904)\t1\n",
        "  (0, 17920)\t2\n"
       ]
      }
     ],
     "prompt_number": 44
    },
    {
     "cell_type": "code",
     "collapsed": false,
     "input": [
      "csc = mtx.tocsr()"
     ],
     "language": "python",
     "metadata": {},
     "outputs": [],
     "prompt_number": 45
    },
    {
     "cell_type": "code",
     "collapsed": false,
     "input": [
      "score_1 = csc[train_doc.Sentiment.values == 0, :].sum(axis=0)"
     ],
     "language": "python",
     "metadata": {},
     "outputs": [],
     "prompt_number": 46
    },
    {
     "cell_type": "code",
     "collapsed": false,
     "input": [
      "score_1"
     ],
     "language": "python",
     "metadata": {},
     "outputs": [
      {
       "metadata": {},
       "output_type": "pyout",
       "prompt_number": 47,
       "text": [
        "matrix([[ 0, 13,  0, ...,  1,  2,  5]])"
       ]
      }
     ],
     "prompt_number": 47
    },
    {
     "cell_type": "code",
     "collapsed": false,
     "input": [
      "score_1 = np.squeeze(np.array(score_1))"
     ],
     "language": "python",
     "metadata": {},
     "outputs": [],
     "prompt_number": 48
    },
    {
     "cell_type": "code",
     "collapsed": false,
     "input": [
      "score_1"
     ],
     "language": "python",
     "metadata": {},
     "outputs": [
      {
       "metadata": {},
       "output_type": "pyout",
       "prompt_number": 49,
       "text": [
        "array([ 0, 13,  0, ...,  1,  2,  5])"
       ]
      }
     ],
     "prompt_number": 49
    },
    {
     "cell_type": "code",
     "collapsed": false,
     "input": [
      "order_score_1 = score_1.argsort()"
     ],
     "language": "python",
     "metadata": {},
     "outputs": [],
     "prompt_number": 50
    },
    {
     "cell_type": "code",
     "collapsed": false,
     "input": [
      "order_score_1[-3:]"
     ],
     "language": "python",
     "metadata": {},
     "outputs": [
      {
       "metadata": {},
       "output_type": "pyout",
       "prompt_number": 51,
       "text": [
        "array([ 4604, 16603,    27])"
       ]
      }
     ],
     "prompt_number": 51
    },
    {
     "cell_type": "code",
     "collapsed": false,
     "input": [
      "train_words[order_score_1[-3:]]"
     ],
     "language": "python",
     "metadata": {},
     "outputs": [
      {
       "metadata": {},
       "output_type": "pyout",
       "prompt_number": 52,
       "text": [
        "array(['a', 'the', ','], \n",
        "      dtype='|S27')"
       ]
      }
     ],
     "prompt_number": 52
    },
    {
     "cell_type": "heading",
     "level": 2,
     "metadata": {},
     "source": [
      "\u8a13\u7df4\u6a21\u578b "
     ]
    },
    {
     "cell_type": "heading",
     "level": 3,
     "metadata": {},
     "source": [
      "scikit-learn \u7684 MultinomialNB \u6709\u652f\u63f4 sparse matrix, \u6240\u4ee5\u7528\u5b83\u4f86\u8a66\u8a66"
     ]
    },
    {
     "cell_type": "code",
     "collapsed": false,
     "input": [
      "from sklearn.naive_bayes import MultinomialNB "
     ],
     "language": "python",
     "metadata": {},
     "outputs": [],
     "prompt_number": 53
    },
    {
     "cell_type": "code",
     "collapsed": false,
     "input": [
      "clf = MultinomialNB().fit(mtx, np.array(train_doc.Sentiment))"
     ],
     "language": "python",
     "metadata": {},
     "outputs": [],
     "prompt_number": 54
    },
    {
     "cell_type": "heading",
     "level": 2,
     "metadata": {},
     "source": [
      "\u8b80\u5165 testing data\u6e96\u5099\u505a\u6a21\u578b\u6548\u80fd\u8a55\u4f30"
     ]
    },
    {
     "cell_type": "code",
     "collapsed": false,
     "input": [
      "testing_doc = pd.read_csv('./test.tsv', sep=\"\\t\")"
     ],
     "language": "python",
     "metadata": {},
     "outputs": [],
     "prompt_number": 55
    },
    {
     "cell_type": "code",
     "collapsed": false,
     "input": [
      "testing_doc.head(20)"
     ],
     "language": "python",
     "metadata": {},
     "outputs": [
      {
       "html": [
        "<div style=\"max-height:1000px;max-width:1500px;overflow:auto;\">\n",
        "<table border=\"1\" class=\"dataframe\">\n",
        "  <thead>\n",
        "    <tr style=\"text-align: right;\">\n",
        "      <th></th>\n",
        "      <th>PhraseId</th>\n",
        "      <th>SentenceId</th>\n",
        "      <th>Phrase</th>\n",
        "    </tr>\n",
        "  </thead>\n",
        "  <tbody>\n",
        "    <tr>\n",
        "      <th>0 </th>\n",
        "      <td> 156061</td>\n",
        "      <td> 8545</td>\n",
        "      <td> An intermittently pleasing but mostly routine ...</td>\n",
        "    </tr>\n",
        "    <tr>\n",
        "      <th>1 </th>\n",
        "      <td> 156062</td>\n",
        "      <td> 8545</td>\n",
        "      <td> An intermittently pleasing but mostly routine ...</td>\n",
        "    </tr>\n",
        "    <tr>\n",
        "      <th>2 </th>\n",
        "      <td> 156063</td>\n",
        "      <td> 8545</td>\n",
        "      <td>                                                An</td>\n",
        "    </tr>\n",
        "    <tr>\n",
        "      <th>3 </th>\n",
        "      <td> 156064</td>\n",
        "      <td> 8545</td>\n",
        "      <td> intermittently pleasing but mostly routine effort</td>\n",
        "    </tr>\n",
        "    <tr>\n",
        "      <th>4 </th>\n",
        "      <td> 156065</td>\n",
        "      <td> 8545</td>\n",
        "      <td>        intermittently pleasing but mostly routine</td>\n",
        "    </tr>\n",
        "    <tr>\n",
        "      <th>5 </th>\n",
        "      <td> 156066</td>\n",
        "      <td> 8545</td>\n",
        "      <td>                       intermittently pleasing but</td>\n",
        "    </tr>\n",
        "    <tr>\n",
        "      <th>6 </th>\n",
        "      <td> 156067</td>\n",
        "      <td> 8545</td>\n",
        "      <td>                           intermittently pleasing</td>\n",
        "    </tr>\n",
        "    <tr>\n",
        "      <th>7 </th>\n",
        "      <td> 156068</td>\n",
        "      <td> 8545</td>\n",
        "      <td>                                    intermittently</td>\n",
        "    </tr>\n",
        "    <tr>\n",
        "      <th>8 </th>\n",
        "      <td> 156069</td>\n",
        "      <td> 8545</td>\n",
        "      <td>                                          pleasing</td>\n",
        "    </tr>\n",
        "    <tr>\n",
        "      <th>9 </th>\n",
        "      <td> 156070</td>\n",
        "      <td> 8545</td>\n",
        "      <td>                                               but</td>\n",
        "    </tr>\n",
        "    <tr>\n",
        "      <th>10</th>\n",
        "      <td> 156071</td>\n",
        "      <td> 8545</td>\n",
        "      <td>                                    mostly routine</td>\n",
        "    </tr>\n",
        "    <tr>\n",
        "      <th>11</th>\n",
        "      <td> 156072</td>\n",
        "      <td> 8545</td>\n",
        "      <td>                                            mostly</td>\n",
        "    </tr>\n",
        "    <tr>\n",
        "      <th>12</th>\n",
        "      <td> 156073</td>\n",
        "      <td> 8545</td>\n",
        "      <td>                                           routine</td>\n",
        "    </tr>\n",
        "    <tr>\n",
        "      <th>13</th>\n",
        "      <td> 156074</td>\n",
        "      <td> 8545</td>\n",
        "      <td>                                            effort</td>\n",
        "    </tr>\n",
        "    <tr>\n",
        "      <th>14</th>\n",
        "      <td> 156075</td>\n",
        "      <td> 8545</td>\n",
        "      <td>                                                 .</td>\n",
        "    </tr>\n",
        "    <tr>\n",
        "      <th>15</th>\n",
        "      <td> 156076</td>\n",
        "      <td> 8546</td>\n",
        "      <td> Kidman is really the only thing that 's worth ...</td>\n",
        "    </tr>\n",
        "    <tr>\n",
        "      <th>16</th>\n",
        "      <td> 156077</td>\n",
        "      <td> 8546</td>\n",
        "      <td>                                            Kidman</td>\n",
        "    </tr>\n",
        "    <tr>\n",
        "      <th>17</th>\n",
        "      <td> 156078</td>\n",
        "      <td> 8546</td>\n",
        "      <td> is really the only thing that 's worth watchin...</td>\n",
        "    </tr>\n",
        "    <tr>\n",
        "      <th>18</th>\n",
        "      <td> 156079</td>\n",
        "      <td> 8546</td>\n",
        "      <td> is really the only thing that 's worth watchin...</td>\n",
        "    </tr>\n",
        "    <tr>\n",
        "      <th>19</th>\n",
        "      <td> 156080</td>\n",
        "      <td> 8546</td>\n",
        "      <td>                                         is really</td>\n",
        "    </tr>\n",
        "  </tbody>\n",
        "</table>\n",
        "</div>"
       ],
       "metadata": {},
       "output_type": "pyout",
       "prompt_number": 56,
       "text": [
        "    PhraseId  SentenceId                                             Phrase\n",
        "0     156061        8545  An intermittently pleasing but mostly routine ...\n",
        "1     156062        8545  An intermittently pleasing but mostly routine ...\n",
        "2     156063        8545                                                 An\n",
        "3     156064        8545  intermittently pleasing but mostly routine effort\n",
        "4     156065        8545         intermittently pleasing but mostly routine\n",
        "5     156066        8545                        intermittently pleasing but\n",
        "6     156067        8545                            intermittently pleasing\n",
        "7     156068        8545                                     intermittently\n",
        "8     156069        8545                                           pleasing\n",
        "9     156070        8545                                                but\n",
        "10    156071        8545                                     mostly routine\n",
        "11    156072        8545                                             mostly\n",
        "12    156073        8545                                            routine\n",
        "13    156074        8545                                             effort\n",
        "14    156075        8545                                                  .\n",
        "15    156076        8546  Kidman is really the only thing that 's worth ...\n",
        "16    156077        8546                                             Kidman\n",
        "17    156078        8546  is really the only thing that 's worth watchin...\n",
        "18    156079        8546  is really the only thing that 's worth watchin...\n",
        "19    156080        8546                                          is really"
       ]
      }
     ],
     "prompt_number": 56
    },
    {
     "cell_type": "code",
     "collapsed": false,
     "input": [
      "test_sent_token = np.array(map(lambda sent: re.split(\"\\s+\", sent), testing_doc.Phrase))"
     ],
     "language": "python",
     "metadata": {},
     "outputs": [],
     "prompt_number": 57
    },
    {
     "cell_type": "code",
     "collapsed": false,
     "input": [
      "test_freq = map(lambda s: nltk.FreqDist(s), test_sent_token)"
     ],
     "language": "python",
     "metadata": {},
     "outputs": [],
     "prompt_number": 58
    },
    {
     "cell_type": "code",
     "collapsed": false,
     "input": [
      "test_keys = map(lambda s: s.keys(), test_freq)"
     ],
     "language": "python",
     "metadata": {},
     "outputs": [],
     "prompt_number": 59
    },
    {
     "cell_type": "code",
     "collapsed": false,
     "input": [
      "test_values = map(lambda s: s.values(), test_freq)"
     ],
     "language": "python",
     "metadata": {},
     "outputs": [],
     "prompt_number": 60
    },
    {
     "cell_type": "code",
     "collapsed": false,
     "input": [
      "test_keys_len = np.array(map(lambda s: len(s), test_keys))"
     ],
     "language": "python",
     "metadata": {},
     "outputs": [],
     "prompt_number": 61
    },
    {
     "cell_type": "code",
     "collapsed": false,
     "input": [
      "test_doc_id = np.repeat(range(testing_doc.shape[0]), test_keys_len)"
     ],
     "language": "python",
     "metadata": {},
     "outputs": [],
     "prompt_number": 62
    },
    {
     "cell_type": "code",
     "collapsed": false,
     "input": [
      "test_doc_id"
     ],
     "language": "python",
     "metadata": {},
     "outputs": [
      {
       "metadata": {},
       "output_type": "pyout",
       "prompt_number": 63,
       "text": [
        "array([    0,     0,     0, ..., 66290, 66291, 66291])"
       ]
      }
     ],
     "prompt_number": 63
    },
    {
     "cell_type": "code",
     "collapsed": false,
     "input": [
      "np.concatenate(test_keys)"
     ],
     "language": "python",
     "metadata": {},
     "outputs": [
      {
       "metadata": {},
       "output_type": "pyout",
       "prompt_number": 64,
       "text": [
        "array(['.', 'An', 'but', ..., 'long-winded', 'predictable', 'scenario'], \n",
        "      dtype='|S38')"
       ]
      }
     ],
     "prompt_number": 64
    },
    {
     "cell_type": "code",
     "collapsed": false,
     "input": [
      "np.concatenate(test_values)"
     ],
     "language": "python",
     "metadata": {},
     "outputs": [
      {
       "metadata": {},
       "output_type": "pyout",
       "prompt_number": 65,
       "text": [
        "array([1, 1, 1, ..., 1, 1, 1])"
       ]
      }
     ],
     "prompt_number": 65
    },
    {
     "cell_type": "code",
     "collapsed": false,
     "input": [
      "test_mtx = np.vstack([test_doc_id, np.concatenate(test_keys), np.concatenate(test_values)]).T"
     ],
     "language": "python",
     "metadata": {},
     "outputs": [],
     "prompt_number": 66
    },
    {
     "cell_type": "code",
     "collapsed": false,
     "input": [
      "test_mtx"
     ],
     "language": "python",
     "metadata": {},
     "outputs": [
      {
       "metadata": {},
       "output_type": "pyout",
       "prompt_number": 67,
       "text": [
        "array([['0', '.', '1'],\n",
        "       ['0', 'An', '1'],\n",
        "       ['0', 'but', '1'],\n",
        "       ..., \n",
        "       ['66290', 'long-winded', '1'],\n",
        "       ['66291', 'predictable', '1'],\n",
        "       ['66291', 'scenario', '1']], \n",
        "      dtype='|S38')"
       ]
      }
     ],
     "prompt_number": 67
    },
    {
     "cell_type": "code",
     "collapsed": false,
     "input": [
      "test_mtx_df = pd.DataFrame.from_records(test_mtx, columns=['doc_id','term','freq'])"
     ],
     "language": "python",
     "metadata": {},
     "outputs": [],
     "prompt_number": 68
    },
    {
     "cell_type": "code",
     "collapsed": false,
     "input": [
      "test_mtx_df.dtypes"
     ],
     "language": "python",
     "metadata": {},
     "outputs": [
      {
       "metadata": {},
       "output_type": "pyout",
       "prompt_number": 69,
       "text": [
        "doc_id    object\n",
        "term      object\n",
        "freq      object\n",
        "dtype: object"
       ]
      }
     ],
     "prompt_number": 69
    },
    {
     "cell_type": "code",
     "collapsed": false,
     "input": [
      "test_mtx_df.head(10)"
     ],
     "language": "python",
     "metadata": {},
     "outputs": [
      {
       "html": [
        "<div style=\"max-height:1000px;max-width:1500px;overflow:auto;\">\n",
        "<table border=\"1\" class=\"dataframe\">\n",
        "  <thead>\n",
        "    <tr style=\"text-align: right;\">\n",
        "      <th></th>\n",
        "      <th>doc_id</th>\n",
        "      <th>term</th>\n",
        "      <th>freq</th>\n",
        "    </tr>\n",
        "  </thead>\n",
        "  <tbody>\n",
        "    <tr>\n",
        "      <th>0</th>\n",
        "      <td> 0</td>\n",
        "      <td>              .</td>\n",
        "      <td> 1</td>\n",
        "    </tr>\n",
        "    <tr>\n",
        "      <th>1</th>\n",
        "      <td> 0</td>\n",
        "      <td>             An</td>\n",
        "      <td> 1</td>\n",
        "    </tr>\n",
        "    <tr>\n",
        "      <th>2</th>\n",
        "      <td> 0</td>\n",
        "      <td>            but</td>\n",
        "      <td> 1</td>\n",
        "    </tr>\n",
        "    <tr>\n",
        "      <th>3</th>\n",
        "      <td> 0</td>\n",
        "      <td>         effort</td>\n",
        "      <td> 1</td>\n",
        "    </tr>\n",
        "    <tr>\n",
        "      <th>4</th>\n",
        "      <td> 0</td>\n",
        "      <td> intermittently</td>\n",
        "      <td> 1</td>\n",
        "    </tr>\n",
        "    <tr>\n",
        "      <th>5</th>\n",
        "      <td> 0</td>\n",
        "      <td>         mostly</td>\n",
        "      <td> 1</td>\n",
        "    </tr>\n",
        "    <tr>\n",
        "      <th>6</th>\n",
        "      <td> 0</td>\n",
        "      <td>       pleasing</td>\n",
        "      <td> 1</td>\n",
        "    </tr>\n",
        "    <tr>\n",
        "      <th>7</th>\n",
        "      <td> 0</td>\n",
        "      <td>        routine</td>\n",
        "      <td> 1</td>\n",
        "    </tr>\n",
        "    <tr>\n",
        "      <th>8</th>\n",
        "      <td> 1</td>\n",
        "      <td>             An</td>\n",
        "      <td> 1</td>\n",
        "    </tr>\n",
        "    <tr>\n",
        "      <th>9</th>\n",
        "      <td> 1</td>\n",
        "      <td>            but</td>\n",
        "      <td> 1</td>\n",
        "    </tr>\n",
        "  </tbody>\n",
        "</table>\n",
        "</div>"
       ],
       "metadata": {},
       "output_type": "pyout",
       "prompt_number": 70,
       "text": [
        "  doc_id            term freq\n",
        "0      0               .    1\n",
        "1      0              An    1\n",
        "2      0             but    1\n",
        "3      0          effort    1\n",
        "4      0  intermittently    1\n",
        "5      0          mostly    1\n",
        "6      0        pleasing    1\n",
        "7      0         routine    1\n",
        "8      1              An    1\n",
        "9      1             but    1"
       ]
      }
     ],
     "prompt_number": 70
    },
    {
     "cell_type": "code",
     "collapsed": false,
     "input": [
      "test_mtx_df.shape"
     ],
     "language": "python",
     "metadata": {},
     "outputs": [
      {
       "metadata": {},
       "output_type": "pyout",
       "prompt_number": 71,
       "text": [
        "(422142, 3)"
       ]
      }
     ],
     "prompt_number": 71
    },
    {
     "cell_type": "code",
     "collapsed": false,
     "input": [
      "test_mtx_predic = test_mtx_df[test_mtx_df['term'].isin(train_words)]"
     ],
     "language": "python",
     "metadata": {},
     "outputs": [],
     "prompt_number": 72
    },
    {
     "cell_type": "code",
     "collapsed": false,
     "input": [
      "test_mtx_predic"
     ],
     "language": "python",
     "metadata": {},
     "outputs": [
      {
       "html": [
        "<div style=\"max-height:1000px;max-width:1500px;overflow:auto;\">\n",
        "<table border=\"1\" class=\"dataframe\">\n",
        "  <thead>\n",
        "    <tr style=\"text-align: right;\">\n",
        "      <th></th>\n",
        "      <th>doc_id</th>\n",
        "      <th>term</th>\n",
        "      <th>freq</th>\n",
        "    </tr>\n",
        "  </thead>\n",
        "  <tbody>\n",
        "    <tr>\n",
        "      <th>0     </th>\n",
        "      <td>     0</td>\n",
        "      <td>              .</td>\n",
        "      <td> 1</td>\n",
        "    </tr>\n",
        "    <tr>\n",
        "      <th>1     </th>\n",
        "      <td>     0</td>\n",
        "      <td>             An</td>\n",
        "      <td> 1</td>\n",
        "    </tr>\n",
        "    <tr>\n",
        "      <th>2     </th>\n",
        "      <td>     0</td>\n",
        "      <td>            but</td>\n",
        "      <td> 1</td>\n",
        "    </tr>\n",
        "    <tr>\n",
        "      <th>3     </th>\n",
        "      <td>     0</td>\n",
        "      <td>         effort</td>\n",
        "      <td> 1</td>\n",
        "    </tr>\n",
        "    <tr>\n",
        "      <th>4     </th>\n",
        "      <td>     0</td>\n",
        "      <td> intermittently</td>\n",
        "      <td> 1</td>\n",
        "    </tr>\n",
        "    <tr>\n",
        "      <th>5     </th>\n",
        "      <td>     0</td>\n",
        "      <td>         mostly</td>\n",
        "      <td> 1</td>\n",
        "    </tr>\n",
        "    <tr>\n",
        "      <th>6     </th>\n",
        "      <td>     0</td>\n",
        "      <td>       pleasing</td>\n",
        "      <td> 1</td>\n",
        "    </tr>\n",
        "    <tr>\n",
        "      <th>7     </th>\n",
        "      <td>     0</td>\n",
        "      <td>        routine</td>\n",
        "      <td> 1</td>\n",
        "    </tr>\n",
        "    <tr>\n",
        "      <th>8     </th>\n",
        "      <td>     1</td>\n",
        "      <td>             An</td>\n",
        "      <td> 1</td>\n",
        "    </tr>\n",
        "    <tr>\n",
        "      <th>9     </th>\n",
        "      <td>     1</td>\n",
        "      <td>            but</td>\n",
        "      <td> 1</td>\n",
        "    </tr>\n",
        "    <tr>\n",
        "      <th>10    </th>\n",
        "      <td>     1</td>\n",
        "      <td>         effort</td>\n",
        "      <td> 1</td>\n",
        "    </tr>\n",
        "    <tr>\n",
        "      <th>11    </th>\n",
        "      <td>     1</td>\n",
        "      <td> intermittently</td>\n",
        "      <td> 1</td>\n",
        "    </tr>\n",
        "    <tr>\n",
        "      <th>12    </th>\n",
        "      <td>     1</td>\n",
        "      <td>         mostly</td>\n",
        "      <td> 1</td>\n",
        "    </tr>\n",
        "    <tr>\n",
        "      <th>13    </th>\n",
        "      <td>     1</td>\n",
        "      <td>       pleasing</td>\n",
        "      <td> 1</td>\n",
        "    </tr>\n",
        "    <tr>\n",
        "      <th>14    </th>\n",
        "      <td>     1</td>\n",
        "      <td>        routine</td>\n",
        "      <td> 1</td>\n",
        "    </tr>\n",
        "    <tr>\n",
        "      <th>15    </th>\n",
        "      <td>     2</td>\n",
        "      <td>             An</td>\n",
        "      <td> 1</td>\n",
        "    </tr>\n",
        "    <tr>\n",
        "      <th>16    </th>\n",
        "      <td>     3</td>\n",
        "      <td>            but</td>\n",
        "      <td> 1</td>\n",
        "    </tr>\n",
        "    <tr>\n",
        "      <th>17    </th>\n",
        "      <td>     3</td>\n",
        "      <td>         effort</td>\n",
        "      <td> 1</td>\n",
        "    </tr>\n",
        "    <tr>\n",
        "      <th>18    </th>\n",
        "      <td>     3</td>\n",
        "      <td> intermittently</td>\n",
        "      <td> 1</td>\n",
        "    </tr>\n",
        "    <tr>\n",
        "      <th>19    </th>\n",
        "      <td>     3</td>\n",
        "      <td>         mostly</td>\n",
        "      <td> 1</td>\n",
        "    </tr>\n",
        "    <tr>\n",
        "      <th>20    </th>\n",
        "      <td>     3</td>\n",
        "      <td>       pleasing</td>\n",
        "      <td> 1</td>\n",
        "    </tr>\n",
        "    <tr>\n",
        "      <th>21    </th>\n",
        "      <td>     3</td>\n",
        "      <td>        routine</td>\n",
        "      <td> 1</td>\n",
        "    </tr>\n",
        "    <tr>\n",
        "      <th>22    </th>\n",
        "      <td>     4</td>\n",
        "      <td>            but</td>\n",
        "      <td> 1</td>\n",
        "    </tr>\n",
        "    <tr>\n",
        "      <th>23    </th>\n",
        "      <td>     4</td>\n",
        "      <td> intermittently</td>\n",
        "      <td> 1</td>\n",
        "    </tr>\n",
        "    <tr>\n",
        "      <th>24    </th>\n",
        "      <td>     4</td>\n",
        "      <td>         mostly</td>\n",
        "      <td> 1</td>\n",
        "    </tr>\n",
        "    <tr>\n",
        "      <th>25    </th>\n",
        "      <td>     4</td>\n",
        "      <td>       pleasing</td>\n",
        "      <td> 1</td>\n",
        "    </tr>\n",
        "    <tr>\n",
        "      <th>26    </th>\n",
        "      <td>     4</td>\n",
        "      <td>        routine</td>\n",
        "      <td> 1</td>\n",
        "    </tr>\n",
        "    <tr>\n",
        "      <th>27    </th>\n",
        "      <td>     5</td>\n",
        "      <td>            but</td>\n",
        "      <td> 1</td>\n",
        "    </tr>\n",
        "    <tr>\n",
        "      <th>28    </th>\n",
        "      <td>     5</td>\n",
        "      <td> intermittently</td>\n",
        "      <td> 1</td>\n",
        "    </tr>\n",
        "    <tr>\n",
        "      <th>29    </th>\n",
        "      <td>     5</td>\n",
        "      <td>       pleasing</td>\n",
        "      <td> 1</td>\n",
        "    </tr>\n",
        "    <tr>\n",
        "      <th>...</th>\n",
        "      <td>...</td>\n",
        "      <td>...</td>\n",
        "      <td>...</td>\n",
        "    </tr>\n",
        "    <tr>\n",
        "      <th>422107</th>\n",
        "      <td> 66281</td>\n",
        "      <td>             it</td>\n",
        "      <td> 1</td>\n",
        "    </tr>\n",
        "    <tr>\n",
        "      <th>422108</th>\n",
        "      <td> 66281</td>\n",
        "      <td>         should</td>\n",
        "      <td> 1</td>\n",
        "    </tr>\n",
        "    <tr>\n",
        "      <th>422110</th>\n",
        "      <td> 66282</td>\n",
        "      <td>         called</td>\n",
        "      <td> 1</td>\n",
        "    </tr>\n",
        "    <tr>\n",
        "      <th>422111</th>\n",
        "      <td> 66282</td>\n",
        "      <td>           have</td>\n",
        "      <td> 1</td>\n",
        "    </tr>\n",
        "    <tr>\n",
        "      <th>422112</th>\n",
        "      <td> 66282</td>\n",
        "      <td>             it</td>\n",
        "      <td> 1</td>\n",
        "    </tr>\n",
        "    <tr>\n",
        "      <th>422113</th>\n",
        "      <td> 66282</td>\n",
        "      <td>         should</td>\n",
        "      <td> 1</td>\n",
        "    </tr>\n",
        "    <tr>\n",
        "      <th>422115</th>\n",
        "      <td> 66283</td>\n",
        "      <td>         called</td>\n",
        "      <td> 1</td>\n",
        "    </tr>\n",
        "    <tr>\n",
        "      <th>422116</th>\n",
        "      <td> 66283</td>\n",
        "      <td>           have</td>\n",
        "      <td> 1</td>\n",
        "    </tr>\n",
        "    <tr>\n",
        "      <th>422117</th>\n",
        "      <td> 66283</td>\n",
        "      <td>             it</td>\n",
        "      <td> 1</td>\n",
        "    </tr>\n",
        "    <tr>\n",
        "      <th>422119</th>\n",
        "      <td> 66284</td>\n",
        "      <td>         called</td>\n",
        "      <td> 1</td>\n",
        "    </tr>\n",
        "    <tr>\n",
        "      <th>422120</th>\n",
        "      <td> 66284</td>\n",
        "      <td>             it</td>\n",
        "      <td> 1</td>\n",
        "    </tr>\n",
        "    <tr>\n",
        "      <th>422122</th>\n",
        "      <td> 66285</td>\n",
        "      <td>             it</td>\n",
        "      <td> 1</td>\n",
        "    </tr>\n",
        "    <tr>\n",
        "      <th>422124</th>\n",
        "      <td> 66287</td>\n",
        "      <td>              ,</td>\n",
        "      <td> 1</td>\n",
        "    </tr>\n",
        "    <tr>\n",
        "      <th>422125</th>\n",
        "      <td> 66287</td>\n",
        "      <td>              .</td>\n",
        "      <td> 1</td>\n",
        "    </tr>\n",
        "    <tr>\n",
        "      <th>422126</th>\n",
        "      <td> 66287</td>\n",
        "      <td>              A</td>\n",
        "      <td> 1</td>\n",
        "    </tr>\n",
        "    <tr>\n",
        "      <th>422127</th>\n",
        "      <td> 66287</td>\n",
        "      <td>    long-winded</td>\n",
        "      <td> 1</td>\n",
        "    </tr>\n",
        "    <tr>\n",
        "      <th>422128</th>\n",
        "      <td> 66287</td>\n",
        "      <td>    predictable</td>\n",
        "      <td> 1</td>\n",
        "    </tr>\n",
        "    <tr>\n",
        "      <th>422129</th>\n",
        "      <td> 66287</td>\n",
        "      <td>       scenario</td>\n",
        "      <td> 1</td>\n",
        "    </tr>\n",
        "    <tr>\n",
        "      <th>422130</th>\n",
        "      <td> 66288</td>\n",
        "      <td>              ,</td>\n",
        "      <td> 1</td>\n",
        "    </tr>\n",
        "    <tr>\n",
        "      <th>422131</th>\n",
        "      <td> 66288</td>\n",
        "      <td>              A</td>\n",
        "      <td> 1</td>\n",
        "    </tr>\n",
        "    <tr>\n",
        "      <th>422132</th>\n",
        "      <td> 66288</td>\n",
        "      <td>    long-winded</td>\n",
        "      <td> 1</td>\n",
        "    </tr>\n",
        "    <tr>\n",
        "      <th>422133</th>\n",
        "      <td> 66288</td>\n",
        "      <td>    predictable</td>\n",
        "      <td> 1</td>\n",
        "    </tr>\n",
        "    <tr>\n",
        "      <th>422134</th>\n",
        "      <td> 66288</td>\n",
        "      <td>       scenario</td>\n",
        "      <td> 1</td>\n",
        "    </tr>\n",
        "    <tr>\n",
        "      <th>422135</th>\n",
        "      <td> 66289</td>\n",
        "      <td>              ,</td>\n",
        "      <td> 1</td>\n",
        "    </tr>\n",
        "    <tr>\n",
        "      <th>422136</th>\n",
        "      <td> 66289</td>\n",
        "      <td>              A</td>\n",
        "      <td> 1</td>\n",
        "    </tr>\n",
        "    <tr>\n",
        "      <th>422137</th>\n",
        "      <td> 66289</td>\n",
        "      <td>    long-winded</td>\n",
        "      <td> 1</td>\n",
        "    </tr>\n",
        "    <tr>\n",
        "      <th>422138</th>\n",
        "      <td> 66290</td>\n",
        "      <td>              A</td>\n",
        "      <td> 1</td>\n",
        "    </tr>\n",
        "    <tr>\n",
        "      <th>422139</th>\n",
        "      <td> 66290</td>\n",
        "      <td>    long-winded</td>\n",
        "      <td> 1</td>\n",
        "    </tr>\n",
        "    <tr>\n",
        "      <th>422140</th>\n",
        "      <td> 66291</td>\n",
        "      <td>    predictable</td>\n",
        "      <td> 1</td>\n",
        "    </tr>\n",
        "    <tr>\n",
        "      <th>422141</th>\n",
        "      <td> 66291</td>\n",
        "      <td>       scenario</td>\n",
        "      <td> 1</td>\n",
        "    </tr>\n",
        "  </tbody>\n",
        "</table>\n",
        "<p>389979 rows \u00d7 3 columns</p>\n",
        "</div>"
       ],
       "metadata": {},
       "output_type": "pyout",
       "prompt_number": 73,
       "text": [
        "       doc_id            term freq\n",
        "0           0               .    1\n",
        "1           0              An    1\n",
        "2           0             but    1\n",
        "3           0          effort    1\n",
        "4           0  intermittently    1\n",
        "5           0          mostly    1\n",
        "6           0        pleasing    1\n",
        "7           0         routine    1\n",
        "8           1              An    1\n",
        "9           1             but    1\n",
        "10          1          effort    1\n",
        "11          1  intermittently    1\n",
        "12          1          mostly    1\n",
        "13          1        pleasing    1\n",
        "14          1         routine    1\n",
        "15          2              An    1\n",
        "16          3             but    1\n",
        "17          3          effort    1\n",
        "18          3  intermittently    1\n",
        "19          3          mostly    1\n",
        "20          3        pleasing    1\n",
        "21          3         routine    1\n",
        "22          4             but    1\n",
        "23          4  intermittently    1\n",
        "24          4          mostly    1\n",
        "25          4        pleasing    1\n",
        "26          4         routine    1\n",
        "27          5             but    1\n",
        "28          5  intermittently    1\n",
        "29          5        pleasing    1\n",
        "...       ...             ...  ...\n",
        "422107  66281              it    1\n",
        "422108  66281          should    1\n",
        "422110  66282          called    1\n",
        "422111  66282            have    1\n",
        "422112  66282              it    1\n",
        "422113  66282          should    1\n",
        "422115  66283          called    1\n",
        "422116  66283            have    1\n",
        "422117  66283              it    1\n",
        "422119  66284          called    1\n",
        "422120  66284              it    1\n",
        "422122  66285              it    1\n",
        "422124  66287               ,    1\n",
        "422125  66287               .    1\n",
        "422126  66287               A    1\n",
        "422127  66287     long-winded    1\n",
        "422128  66287     predictable    1\n",
        "422129  66287        scenario    1\n",
        "422130  66288               ,    1\n",
        "422131  66288               A    1\n",
        "422132  66288     long-winded    1\n",
        "422133  66288     predictable    1\n",
        "422134  66288        scenario    1\n",
        "422135  66289               ,    1\n",
        "422136  66289               A    1\n",
        "422137  66289     long-winded    1\n",
        "422138  66290               A    1\n",
        "422139  66290     long-winded    1\n",
        "422140  66291     predictable    1\n",
        "422141  66291        scenario    1\n",
        "\n",
        "[389979 rows x 3 columns]"
       ]
      }
     ],
     "prompt_number": 73
    },
    {
     "cell_type": "code",
     "collapsed": false,
     "input": [
      "test_mtx_predic.shape"
     ],
     "language": "python",
     "metadata": {},
     "outputs": [
      {
       "metadata": {},
       "output_type": "pyout",
       "prompt_number": 74,
       "text": [
        "(389979, 3)"
       ]
      }
     ],
     "prompt_number": 74
    },
    {
     "cell_type": "code",
     "collapsed": false,
     "input": [
      "test_mtx_term_ix = word_to_index[test_mtx_predic.term]"
     ],
     "language": "python",
     "metadata": {},
     "outputs": [],
     "prompt_number": 75
    },
    {
     "cell_type": "code",
     "collapsed": false,
     "input": [
      "test_mtx_term_ix.head(10)"
     ],
     "language": "python",
     "metadata": {},
     "outputs": [
      {
       "metadata": {},
       "output_type": "pyout",
       "prompt_number": 76,
       "text": [
        "term\n",
        ".                    32\n",
        "An                  369\n",
        "but                6095\n",
        "effort             8244\n",
        "intermittently    10863\n",
        "mostly            12139\n",
        "pleasing          13281\n",
        "routine           14593\n",
        "An                  369\n",
        "but                6095\n",
        "dtype: int64"
       ]
      }
     ],
     "prompt_number": 76
    },
    {
     "cell_type": "code",
     "collapsed": false,
     "input": [
      "test_mtx_predic['mtx_term_ix'] = test_mtx_term_ix.values"
     ],
     "language": "python",
     "metadata": {},
     "outputs": [],
     "prompt_number": 77
    },
    {
     "cell_type": "code",
     "collapsed": false,
     "input": [
      "test_mtx_predic.head(10)"
     ],
     "language": "python",
     "metadata": {},
     "outputs": [
      {
       "html": [
        "<div style=\"max-height:1000px;max-width:1500px;overflow:auto;\">\n",
        "<table border=\"1\" class=\"dataframe\">\n",
        "  <thead>\n",
        "    <tr style=\"text-align: right;\">\n",
        "      <th></th>\n",
        "      <th>doc_id</th>\n",
        "      <th>term</th>\n",
        "      <th>freq</th>\n",
        "      <th>mtx_term_ix</th>\n",
        "    </tr>\n",
        "  </thead>\n",
        "  <tbody>\n",
        "    <tr>\n",
        "      <th>0</th>\n",
        "      <td> 0</td>\n",
        "      <td>              .</td>\n",
        "      <td> 1</td>\n",
        "      <td>    32</td>\n",
        "    </tr>\n",
        "    <tr>\n",
        "      <th>1</th>\n",
        "      <td> 0</td>\n",
        "      <td>             An</td>\n",
        "      <td> 1</td>\n",
        "      <td>   369</td>\n",
        "    </tr>\n",
        "    <tr>\n",
        "      <th>2</th>\n",
        "      <td> 0</td>\n",
        "      <td>            but</td>\n",
        "      <td> 1</td>\n",
        "      <td>  6095</td>\n",
        "    </tr>\n",
        "    <tr>\n",
        "      <th>3</th>\n",
        "      <td> 0</td>\n",
        "      <td>         effort</td>\n",
        "      <td> 1</td>\n",
        "      <td>  8244</td>\n",
        "    </tr>\n",
        "    <tr>\n",
        "      <th>4</th>\n",
        "      <td> 0</td>\n",
        "      <td> intermittently</td>\n",
        "      <td> 1</td>\n",
        "      <td> 10863</td>\n",
        "    </tr>\n",
        "    <tr>\n",
        "      <th>5</th>\n",
        "      <td> 0</td>\n",
        "      <td>         mostly</td>\n",
        "      <td> 1</td>\n",
        "      <td> 12139</td>\n",
        "    </tr>\n",
        "    <tr>\n",
        "      <th>6</th>\n",
        "      <td> 0</td>\n",
        "      <td>       pleasing</td>\n",
        "      <td> 1</td>\n",
        "      <td> 13281</td>\n",
        "    </tr>\n",
        "    <tr>\n",
        "      <th>7</th>\n",
        "      <td> 0</td>\n",
        "      <td>        routine</td>\n",
        "      <td> 1</td>\n",
        "      <td> 14593</td>\n",
        "    </tr>\n",
        "    <tr>\n",
        "      <th>8</th>\n",
        "      <td> 1</td>\n",
        "      <td>             An</td>\n",
        "      <td> 1</td>\n",
        "      <td>   369</td>\n",
        "    </tr>\n",
        "    <tr>\n",
        "      <th>9</th>\n",
        "      <td> 1</td>\n",
        "      <td>            but</td>\n",
        "      <td> 1</td>\n",
        "      <td>  6095</td>\n",
        "    </tr>\n",
        "  </tbody>\n",
        "</table>\n",
        "</div>"
       ],
       "metadata": {},
       "output_type": "pyout",
       "prompt_number": 78,
       "text": [
        "  doc_id            term freq  mtx_term_ix\n",
        "0      0               .    1           32\n",
        "1      0              An    1          369\n",
        "2      0             but    1         6095\n",
        "3      0          effort    1         8244\n",
        "4      0  intermittently    1        10863\n",
        "5      0          mostly    1        12139\n",
        "6      0        pleasing    1        13281\n",
        "7      0         routine    1        14593\n",
        "8      1              An    1          369\n",
        "9      1             but    1         6095"
       ]
      }
     ],
     "prompt_number": 78
    },
    {
     "cell_type": "code",
     "collapsed": false,
     "input": [
      "freq = np.array(test_mtx_predic.freq, dtype='int')"
     ],
     "language": "python",
     "metadata": {},
     "outputs": [],
     "prompt_number": 79
    },
    {
     "cell_type": "code",
     "collapsed": false,
     "input": [
      "doc_id = np.array(test_mtx_predic.doc_id.values, dtype='str')"
     ],
     "language": "python",
     "metadata": {},
     "outputs": [],
     "prompt_number": 80
    },
    {
     "cell_type": "code",
     "collapsed": false,
     "input": [
      "term_ix = np.array(test_mtx_predic.mtx_term_ix.values, dtype='int')"
     ],
     "language": "python",
     "metadata": {},
     "outputs": [],
     "prompt_number": 81
    },
    {
     "cell_type": "code",
     "collapsed": false,
     "input": [
      "test_spmtx_predic = sparse.coo_matrix((freq, (doc_id, term_ix)), shape=(testing_doc.shape[0], train_words.shape[0]))"
     ],
     "language": "python",
     "metadata": {},
     "outputs": [],
     "prompt_number": 82
    },
    {
     "cell_type": "code",
     "collapsed": false,
     "input": [
      "test_spmtx_predic.shape"
     ],
     "language": "python",
     "metadata": {},
     "outputs": [
      {
       "metadata": {},
       "output_type": "pyout",
       "prompt_number": 83,
       "text": [
        "(66292, 18227)"
       ]
      }
     ],
     "prompt_number": 83
    },
    {
     "cell_type": "code",
     "collapsed": false,
     "input": [
      "predict_result = clf.predict(test_spmtx_predic)"
     ],
     "language": "python",
     "metadata": {},
     "outputs": [],
     "prompt_number": 84
    },
    {
     "cell_type": "code",
     "collapsed": false,
     "input": [
      "predict_result"
     ],
     "language": "python",
     "metadata": {},
     "outputs": [
      {
       "metadata": {},
       "output_type": "pyout",
       "prompt_number": 85,
       "text": [
        "array([3, 3, 3, ..., 1, 1, 1])"
       ]
      }
     ],
     "prompt_number": 85
    },
    {
     "cell_type": "code",
     "collapsed": false,
     "input": [
      "predict_result.shape"
     ],
     "language": "python",
     "metadata": {},
     "outputs": [
      {
       "metadata": {},
       "output_type": "pyout",
       "prompt_number": 86,
       "text": [
        "(66292,)"
       ]
      }
     ],
     "prompt_number": 86
    },
    {
     "cell_type": "code",
     "collapsed": false,
     "input": [
      "submit_tbl = pd.DataFrame({'PhraseId':testing_doc.PhraseId, 'Sentiment':predict_result})"
     ],
     "language": "python",
     "metadata": {},
     "outputs": [],
     "prompt_number": 87
    },
    {
     "cell_type": "code",
     "collapsed": false,
     "input": [
      "submit_tbl.to_csv('submit_tbl.csv', index=False)"
     ],
     "language": "python",
     "metadata": {},
     "outputs": [],
     "prompt_number": 88
    },
    {
     "cell_type": "heading",
     "level": 2,
     "metadata": {},
     "source": [
      "\u6a21\u578b\u6548\u679c\u4f3c\u4e4e\u4e0d\u662f\u5f88\u597d ..."
     ]
    },
    {
     "cell_type": "heading",
     "level": 2,
     "metadata": {},
     "source": [
      "\u8a66\u8457\u627e\u4e00\u4e0b\u539f\u56e0"
     ]
    },
    {
     "cell_type": "code",
     "collapsed": false,
     "input": [
      "csc = mtx.tocsr()"
     ],
     "language": "python",
     "metadata": {},
     "outputs": [],
     "prompt_number": 89
    },
    {
     "cell_type": "code",
     "collapsed": false,
     "input": [
      "score_1 = csc[train_doc.Sentiment.values == 0, :].sum(axis=0)"
     ],
     "language": "python",
     "metadata": {},
     "outputs": [],
     "prompt_number": 90
    },
    {
     "cell_type": "code",
     "collapsed": false,
     "input": [
      "score_1"
     ],
     "language": "python",
     "metadata": {},
     "outputs": [
      {
       "metadata": {},
       "output_type": "pyout",
       "prompt_number": 91,
       "text": [
        "matrix([[ 0, 13,  0, ...,  1,  2,  5]])"
       ]
      }
     ],
     "prompt_number": 91
    },
    {
     "cell_type": "code",
     "collapsed": false,
     "input": [
      "score_1 = np.squeeze(np.array(score_1))"
     ],
     "language": "python",
     "metadata": {},
     "outputs": [],
     "prompt_number": 92
    },
    {
     "cell_type": "code",
     "collapsed": false,
     "input": [
      "score_1"
     ],
     "language": "python",
     "metadata": {},
     "outputs": [
      {
       "metadata": {},
       "output_type": "pyout",
       "prompt_number": 93,
       "text": [
        "array([ 0, 13,  0, ...,  1,  2,  5])"
       ]
      }
     ],
     "prompt_number": 93
    },
    {
     "cell_type": "code",
     "collapsed": false,
     "input": [
      "order_score_1 = score_1.argsort() # index\u70ba27\u7684\u503c\u70ba\u6700\u5927\u503c, \u7b2c\u4e8c\u5927\u70baindex16603\u7684\u503c"
     ],
     "language": "python",
     "metadata": {},
     "outputs": [],
     "prompt_number": 94
    },
    {
     "cell_type": "code",
     "collapsed": false,
     "input": [
      "order_score_1 "
     ],
     "language": "python",
     "metadata": {},
     "outputs": [
      {
       "metadata": {},
       "output_type": "pyout",
       "prompt_number": 95,
       "text": [
        "array([    0, 10266, 10269, ...,  4604, 16603,    27])"
       ]
      }
     ],
     "prompt_number": 95
    },
    {
     "cell_type": "code",
     "collapsed": false,
     "input": [
      "order_score_1[-3:] #\u503c\u6700\u5927\u7684\u524d\u4e09\u540d\u7684 index"
     ],
     "language": "python",
     "metadata": {},
     "outputs": [
      {
       "metadata": {},
       "output_type": "pyout",
       "prompt_number": 96,
       "text": [
        "array([ 4604, 16603,    27])"
       ]
      }
     ],
     "prompt_number": 96
    },
    {
     "cell_type": "code",
     "collapsed": false,
     "input": [
      "train_words[order_score_1[-10:]]"
     ],
     "language": "python",
     "metadata": {},
     "outputs": [
      {
       "metadata": {},
       "output_type": "pyout",
       "prompt_number": 97,
       "text": [
        "array(['that', \"'s\", 'is', 'to', '.', 'of', 'and', 'a', 'the', ','], \n",
        "      dtype='|S27')"
       ]
      }
     ],
     "prompt_number": 97
    },
    {
     "cell_type": "heading",
     "level": 2,
     "metadata": {},
     "source": [
      "\u6a21\u578b\u6548\u80fd\u4e0d\u597d\u7684\u539f\u56e0\uff0c\u4f3c\u4e4e\u662f\u56e0\u70ba a, the, and, of ... \u9019\u4e9b\u5b57\u6c92\u4ec0\u9ebc\u610f\u7fa9\uff0c\u53ef\u662f\u51fa\u73fe\u6b21\u6578\u537b\u5f88\u9ad8\uff0c\u88ab\u6a21\u578b\u7576\u4f5c feature \u4e86"
     ]
    },
    {
     "cell_type": "heading",
     "level": 2,
     "metadata": {},
     "source": [
      "\u628a\u6bcf\u500b\u53e5\u5b50\u90fd\u7d93\u5e38\u51fa\u73fe\u7684\u5b57\u7684\u6b0a\u91cd\u8abf\u5c0f\u8a66\u8a66 \uff1f"
     ]
    },
    {
     "cell_type": "code",
     "collapsed": false,
     "input": [
      "col_sum = mtx.sum(axis=0)"
     ],
     "language": "python",
     "metadata": {},
     "outputs": [],
     "prompt_number": 98
    },
    {
     "cell_type": "code",
     "collapsed": false,
     "input": [
      "col_sum"
     ],
     "language": "python",
     "metadata": {},
     "outputs": [
      {
       "metadata": {},
       "output_type": "pyout",
       "prompt_number": 99,
       "text": [
        "matrix([[  2, 220,   8, ...,  68,   7,   5]])"
       ]
      }
     ],
     "prompt_number": 99
    },
    {
     "cell_type": "code",
     "collapsed": false,
     "input": [
      "col_sum = np.squeeze(np.array(col_sum))"
     ],
     "language": "python",
     "metadata": {},
     "outputs": [],
     "prompt_number": 100
    },
    {
     "cell_type": "code",
     "collapsed": false,
     "input": [
      "weight = np.log2(1.0 * col_sum.sum() / col_sum)"
     ],
     "language": "python",
     "metadata": {},
     "outputs": [],
     "prompt_number": 101
    },
    {
     "cell_type": "code",
     "collapsed": false,
     "input": [
      "weight = np.squeeze(np.array(weight))"
     ],
     "language": "python",
     "metadata": {},
     "outputs": [],
     "prompt_number": 102
    },
    {
     "cell_type": "code",
     "collapsed": false,
     "input": [
      "weight.argsort()[-5:]"
     ],
     "language": "python",
     "metadata": {},
     "outputs": [
      {
       "metadata": {},
       "output_type": "pyout",
       "prompt_number": 103,
       "text": [
        "array([3675, 3697, 3705, 2151, 3883])"
       ]
      }
     ],
     "prompt_number": 103
    },
    {
     "cell_type": "code",
     "collapsed": false,
     "input": [
      "train_words[weight.argsort()[-5:]]"
     ],
     "language": "python",
     "metadata": {},
     "outputs": [
      {
       "metadata": {},
       "output_type": "pyout",
       "prompt_number": 104,
       "text": [
        "array(['Sets', 'Shamelessly', 'Shattering', 'Incoherence', 'Splendidly'], \n",
        "      dtype='|S27')"
       ]
      }
     ],
     "prompt_number": 104
    },
    {
     "cell_type": "code",
     "collapsed": false,
     "input": [
      "weight"
     ],
     "language": "python",
     "metadata": {},
     "outputs": [
      {
       "metadata": {},
       "output_type": "pyout",
       "prompt_number": 105,
       "text": [
        "array([ 19.10041467,  12.31905496,  17.10041467, ...,  14.01295183,\n",
        "        17.29305975,  17.77848658])"
       ]
      }
     ],
     "prompt_number": 105
    },
    {
     "cell_type": "code",
     "collapsed": false,
     "input": [
      "word_index.shape"
     ],
     "language": "python",
     "metadata": {},
     "outputs": [
      {
       "metadata": {},
       "output_type": "pyout",
       "prompt_number": 106,
       "text": [
        "(1070067,)"
       ]
      }
     ],
     "prompt_number": 106
    },
    {
     "cell_type": "code",
     "collapsed": false,
     "input": [
      "mtx_data.shape"
     ],
     "language": "python",
     "metadata": {},
     "outputs": [
      {
       "metadata": {},
       "output_type": "pyout",
       "prompt_number": 107,
       "text": [
        "(1070067,)"
       ]
      }
     ],
     "prompt_number": 107
    },
    {
     "cell_type": "code",
     "collapsed": false,
     "input": [
      "word_index[:100]"
     ],
     "language": "python",
     "metadata": {},
     "outputs": [
      {
       "metadata": {},
       "output_type": "pyout",
       "prompt_number": 108,
       "text": [
        "array([12587, 16603,  9238,  9660, 10969, 17920,    27,    32,   231,\n",
        "        4604,  4751,  4970,  5016,  5025,  6095,  7529,  8518,  9479,\n",
        "        9681, 12195, 12446, 12565, 15019, 15567, 15967, 16602, 16786,\n",
        "       17904, 16603,   231,  4751,  7529,  8518,  9238,  9660,  9681,\n",
        "       10969, 12587, 15019, 16602, 17904,   231, 15019,   231, 15019,\n",
        "       16603,  4751,  7529,  8518,  9238,  9660,  9681, 10969, 12587,\n",
        "       16602, 17904, 12587, 16603,  4751,  7529,  8518,  9238,  9660,\n",
        "        9681, 10969, 16602, 17904,  8518, 16603,  4751,  7529,  9238,\n",
        "        9660,  9681, 10969, 16602, 17904,  4751,  7529, 16603,  7529,\n",
        "        4751, 16603, 16603,  4751,  9238,  9660,  9681, 10969, 16602,\n",
        "       16603, 17904, 16602,  9238,  9660,  9681, 10969, 16603, 17904, 17904])"
       ]
      }
     ],
     "prompt_number": 108
    },
    {
     "cell_type": "code",
     "collapsed": false,
     "input": [
      "w_mtx_data = mtx_data * weight[word_index]"
     ],
     "language": "python",
     "metadata": {},
     "outputs": [],
     "prompt_number": 109
    },
    {
     "cell_type": "code",
     "collapsed": false,
     "input": [
      "w_mtx_data"
     ],
     "language": "python",
     "metadata": {},
     "outputs": [
      {
       "metadata": {},
       "output_type": "pyout",
       "prompt_number": 110,
       "text": [
        "array([ 20.49450729,  13.78157743,  14.54415962, ...,  16.51545217,\n",
        "        16.51545217,  16.51545217])"
       ]
      }
     ],
     "prompt_number": 110
    },
    {
     "cell_type": "code",
     "collapsed": false,
     "input": [
      "w_mtx = sparse.coo_matrix((w_mtx_data, (mtx_row, word_index)), shape=(train_doc.shape[0], train_words.shape[0]))"
     ],
     "language": "python",
     "metadata": {},
     "outputs": [],
     "prompt_number": 111
    },
    {
     "cell_type": "code",
     "collapsed": false,
     "input": [
      "w_clf = MultinomialNB().fit(w_mtx, np.array(train_doc.Sentiment))"
     ],
     "language": "python",
     "metadata": {},
     "outputs": [],
     "prompt_number": 112
    },
    {
     "cell_type": "heading",
     "level": 2,
     "metadata": {},
     "source": [
      "testing_data \u4e5f\u8981\u505a\u8f49\u63db"
     ]
    },
    {
     "cell_type": "code",
     "collapsed": false,
     "input": [
      "test_csc = test_spmtx_predic.tocsc()"
     ],
     "language": "python",
     "metadata": {},
     "outputs": [],
     "prompt_number": 113
    },
    {
     "cell_type": "code",
     "collapsed": false,
     "input": [
      "test_col_sum = test_csc.sum(axis=0)"
     ],
     "language": "python",
     "metadata": {},
     "outputs": [],
     "prompt_number": 114
    },
    {
     "cell_type": "code",
     "collapsed": false,
     "input": [
      "test_col_sum = np.squeeze(np.array(test_col_sum))"
     ],
     "language": "python",
     "metadata": {},
     "outputs": [],
     "prompt_number": 115
    },
    {
     "cell_type": "code",
     "collapsed": false,
     "input": [
      "test_weight = np.log2(1.0 * test_col_sum.sum() / (test_col_sum + 0.5))"
     ],
     "language": "python",
     "metadata": {},
     "outputs": [],
     "prompt_number": 116
    },
    {
     "cell_type": "code",
     "collapsed": false,
     "input": [
      "test_weight = np.squeeze(np.array(test_weight))"
     ],
     "language": "python",
     "metadata": {},
     "outputs": [],
     "prompt_number": 117
    },
    {
     "cell_type": "code",
     "collapsed": false,
     "input": [
      "test_weight"
     ],
     "language": "python",
     "metadata": {},
     "outputs": [
      {
       "metadata": {},
       "output_type": "pyout",
       "prompt_number": 118,
       "text": [
        "array([ 17.32520003,  12.63590087,  19.64712813, ...,  19.64712813,\n",
        "        19.64712813,  19.64712813])"
       ]
      }
     ],
     "prompt_number": 118
    },
    {
     "cell_type": "code",
     "collapsed": false,
     "input": [
      "w_freq = freq * test_weight[term_ix]"
     ],
     "language": "python",
     "metadata": {},
     "outputs": [],
     "prompt_number": 119
    },
    {
     "cell_type": "code",
     "collapsed": false,
     "input": [
      "w_test_spmtx_predic = sparse.coo_matrix((w_freq, (doc_id, term_ix)), shape=(testing_doc.shape[0], train_words.shape[0]))"
     ],
     "language": "python",
     "metadata": {},
     "outputs": [],
     "prompt_number": 120
    },
    {
     "cell_type": "code",
     "collapsed": false,
     "input": [
      "w_predict_result = clf.predict(w_test_spmtx_predic)"
     ],
     "language": "python",
     "metadata": {},
     "outputs": [],
     "prompt_number": 121
    },
    {
     "cell_type": "code",
     "collapsed": false,
     "input": [
      "w_submit_tbl = pd.DataFrame({'PhraseId':testing_doc.PhraseId, 'Sentiment':w_predict_result})"
     ],
     "language": "python",
     "metadata": {},
     "outputs": [],
     "prompt_number": 122
    },
    {
     "cell_type": "code",
     "collapsed": false,
     "input": [
      "w_submit_tbl.to_csv('w_submit_tbl.csv', index=False)"
     ],
     "language": "python",
     "metadata": {},
     "outputs": [],
     "prompt_number": 123
    },
    {
     "cell_type": "heading",
     "level": 2,
     "metadata": {},
     "source": [
      "\u7d50\u679c\u8b8a\u66f4\u4f4e\u4e86 ..."
     ]
    },
    {
     "cell_type": "heading",
     "level": 2,
     "metadata": {},
     "source": [
      "\u63a5\u4e0b\u4f86\u5c31\u8981\u8acb\u5927\u5bb6\u60f3\u60f3\u539f\u56e0\uff0c\u8a66\u8457\u4f86\u6539\u5584\u9019\u6a21\u578b\u4e86 :)"
     ]
    }
   ],
   "metadata": {}
  }
 ]
}